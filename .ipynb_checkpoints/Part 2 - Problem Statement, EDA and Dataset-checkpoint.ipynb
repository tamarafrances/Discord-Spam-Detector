{
 "cells": [
  {
   "cell_type": "markdown",
   "id": "cf920c67-4972-44a7-b36e-9c2f6a8c319d",
   "metadata": {},
   "source": [
    "# Part 2: Problem Statement, EDA and Dataset"
   ]
  },
  {
   "cell_type": "markdown",
   "id": "83b2c7ec-20a5-4840-8f3e-9aa849cc128c",
   "metadata": {
    "tags": []
   },
   "source": [
    "## Problem Statement\n",
    "\n",
    "I will build a classification model to classify discord messages as spam or non-spam. Model performance will be guided by precision, and the model should at least improve upon baseline by 10%. Baseline is defined as the percent of messages in the majority class (non-spam messages)."
   ]
  },
  {
   "cell_type": "markdown",
   "id": "45eb5245-88e8-4bcf-8999-ad905fb436b2",
   "metadata": {},
   "source": [
    "---"
   ]
  },
  {
   "cell_type": "markdown",
   "id": "651ee993-7d2f-4545-bb7a-95ffab08b854",
   "metadata": {},
   "source": [
    "## Dataset\n",
    "\n"
   ]
  },
  {
   "cell_type": "code",
   "execution_count": null,
   "id": "c6700f53-63c2-4742-9bf7-2f1c48df215f",
   "metadata": {},
   "outputs": [],
   "source": []
  }
 ],
 "metadata": {
  "kernelspec": {
   "display_name": "Python 3 (ipykernel)",
   "language": "python",
   "name": "python3"
  },
  "language_info": {
   "codemirror_mode": {
    "name": "ipython",
    "version": 3
   },
   "file_extension": ".py",
   "mimetype": "text/x-python",
   "name": "python",
   "nbconvert_exporter": "python",
   "pygments_lexer": "ipython3",
   "version": "3.9.7"
  }
 },
 "nbformat": 4,
 "nbformat_minor": 5
}
