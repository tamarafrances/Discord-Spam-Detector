{
 "cells": [
  {
   "cell_type": "markdown",
   "id": "cf920c67-4972-44a7-b36e-9c2f6a8c319d",
   "metadata": {},
   "source": [
    "# Part 2: Problem Statement, EDA and Dataset"
   ]
  },
  {
   "cell_type": "markdown",
   "id": "83b2c7ec-20a5-4840-8f3e-9aa849cc128c",
   "metadata": {
    "tags": []
   },
   "source": [
    "(Spoke to Caroline)\n",
    "\n",
    "## Problem Statement\n",
    "\n",
    "I will build a classification model to classify discord messages as spam or non-spam. Model performance will be guided by precision, and the model should at least improve upon baseline by 10%. Baseline is defined as the percent of messages in the majority class (non-spam messages)."
   ]
  },
  {
   "cell_type": "markdown",
   "id": "45eb5245-88e8-4bcf-8999-ad905fb436b2",
   "metadata": {},
   "source": [
    "---"
   ]
  },
  {
   "cell_type": "markdown",
   "id": "651ee993-7d2f-4545-bb7a-95ffab08b854",
   "metadata": {
    "tags": []
   },
   "source": [
    "## Dataset\n",
    "\n",
    "#### Sourcing\n",
    "I have access to hundreds of spam messages and tens of thousands of discord messages through various discord servers I am part of. The biggest challenge I forsee in this project is exporting chat logs from Discord since Discord does not have a straightforward way to do this.\n",
    "\n",
    "DiscordChatExplorer (DCE) is an exe file that can be used to export Discord chat logs, however, I need to find a way to open .exe on MacOS. DCE has a CLI version of the program for MacOS but it will take some additional poking around to actually use.\n",
    "\n",
    "I plan to save the data as CSV files and eventually join them.\n",
    "<br><br>\n",
    "\n",
    "#### Create a data dictionary to accompany your data.\n",
    "* The data dictionary will consist of two simple variables: message text and label of spam/non-spam\n",
    "<br><br>\n",
    "\n",
    "#### Perform initial cleaning and munging.\n",
    "Things I will look for in the cleaning and munging include:\n",
    "* Deleted messages (not sure if these will appear in exported chat logs)\n",
    "* Removing discord emojis (may be worth deleting - not sure how they will appear in chat logs)\n",
    "* Removing URLs\n",
    "* Lowercasing messages\n",
    "* Potentially removing punctuation\n",
    "* Tokenization\n",
    "* Removing stopwords\n",
    "* Potentially lemmatizing\n",
    "<br><br>\n",
    "\n",
    "#### Organize your data relevant to your project goals.\n",
    "I plan to initially create separate folders for spam and non-spam messages, and eventually join the CSV files within the two folders into one big dataframe."
   ]
  },
  {
   "cell_type": "markdown",
   "id": "80e82b19-cc48-46c4-84be-e980977e269a",
   "metadata": {},
   "source": [
    "---"
   ]
  },
  {
   "cell_type": "markdown",
   "id": "e788365d-3198-4070-b420-1386b0df3253",
   "metadata": {},
   "source": [
    "## EDA"
   ]
  },
  {
   "cell_type": "markdown",
   "id": "bd8a2c82-1fcb-4d94-8433-aca91e6554dc",
   "metadata": {},
   "source": [
    "Things I plan to explore in EDA:\n",
    "* Word counts by label before removing stopwords\n",
    "* Word counts by label after removing stopwords\n",
    "* Sentence and word length histograms by label\n",
    "* Most common bigrams and trigrams by label before removing stopwords\n",
    "* Most common bigrams and trigrams after removing stopwords\n",
    "* <i>Maybe</i> polarity/sentiment analysis by label\n",
    "* <i>Maybe</i> wordclouds by label\n"
   ]
  }
 ],
 "metadata": {
  "kernelspec": {
   "display_name": "Python 3 (ipykernel)",
   "language": "python",
   "name": "python3"
  },
  "language_info": {
   "codemirror_mode": {
    "name": "ipython",
    "version": 3
   },
   "file_extension": ".py",
   "mimetype": "text/x-python",
   "name": "python",
   "nbconvert_exporter": "python",
   "pygments_lexer": "ipython3",
   "version": "3.9.7"
  }
 },
 "nbformat": 4,
 "nbformat_minor": 5
}
