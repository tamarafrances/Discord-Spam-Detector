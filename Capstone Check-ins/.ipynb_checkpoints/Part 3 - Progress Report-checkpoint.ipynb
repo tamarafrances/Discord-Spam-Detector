{
 "cells": [
  {
   "cell_type": "markdown",
   "id": "f7cb0309-f146-49ec-917d-195f1297bf19",
   "metadata": {
    "tags": []
   },
   "source": [
    "# Part 3 - Progress Report\n",
    "## Tamara Frances\n",
    "---\n",
    "\n",
    "**Do you have data fully in hand and if not, what blockers are you facing?**\n",
    "\n",
    "I have a subset of my data in hand. I tried using the Discord Chat Explorer Caroline found on Github but for many reasons it just wasn't working out. Once I got over the hurdle of figuring out how to use it on a Mac OS, I ran into even more issues with the M1 chip. \n",
    "\n",
    "Ultimately, I decided to just start grabbing data manually so I could continue working on the other steps. I have a pretty good sized dataset of spam and no spam, but will continue to add to this over the weekend of 6/4 and 6/5, ideally having all of the data I need by the middle of next week.\n",
    "<br><br>\n",
    "\n",
    "**Have you done a full EDA on all of your data?**\n",
    "\n",
    "I completed a full EDA on all of the data I have so far. This includes:\n",
    "* Reading in excel files, .describe\n",
    "* Imputing null values\n",
    "* Feature engineering word count and text length and plotting the difference between spam and not spam using histograms and box plots\n",
    "* Count vectorization and finding most common words\n",
    "* Calculating polarity and subjectivity\n",
    "* Finding most frequent bigrams and trigrams in spam and not spam and plotting the counts\n",
    "\n",
    "<br><br>\n",
    "**Have you begun the modeling process? How accurate are your predictions so far?**\n",
    "\n",
    "Yes, I began the modeling process. I tried logistic regression, random forest and multinomial naive bayes, in addition to count vectorization and gridsearching. My best model is doing very well based on accuracy score alone, with the multinomial naive bayes having the highest score of 0.93. The baseline model had a score of 0.87 so I'm happy to see the models I tested outperforming this. I plan on looking more into other classification metrics such as F1 score and recall.\n",
    "<br><br>\n",
    "\n",
    "**What blockers are you facing, including processing power, data acquisition, modeling difficulties, data cleaning, etc.? How can we help you overcome those challenges?**\n",
    "\n",
    "My main blocker was acquiring the data which I overcame buy just starting to pull it manually. Something I realize and will be looking into this weekend are the steps I may need to take for dealing with imbalanced data. I spoke to Jeff during the 1:1 who guided me to the lesson on this topic so I think I will be fine!\n",
    "\n",
    "<br><br>\n",
    "**Have you changed topics since your lightning talk? Since you submitted your Problem Statement and EDA? If so, do you have the necessary data in hand (and the requisite EDA completed) to continue moving forward?**\n",
    "\n",
    "No, I have not changed topics since the lightning talk.\n",
    "\n",
    "<br><br>\n",
    "**What is your timeline for the next week and a half? What do you have to get done versus what would you like to get done?**\n",
    "\n",
    "This weekend: applying the following techniques to my models to see if they will improve:\n",
    "* tf-idf\n",
    "* lemmatization\n",
    "* removing punctuation\n",
    "* lowercasing all the text\n",
    "\n",
    "I will also be re-visiting the spaCy-BERT lecture\n",
    "\n",
    "Beginning of next week:\n",
    "Finish pulling all of my data\n",
    "\n",
    "Throughout next week: \n",
    "Making some kind of streamlit app to visualize the work"
   ]
  },
  {
   "cell_type": "code",
   "execution_count": null,
   "id": "c53ae858-2644-4454-a59d-f63b3a0e1a0f",
   "metadata": {},
   "outputs": [],
   "source": []
  }
 ],
 "metadata": {
  "kernelspec": {
   "display_name": "Python 3 (ipykernel)",
   "language": "python",
   "name": "python3"
  },
  "language_info": {
   "codemirror_mode": {
    "name": "ipython",
    "version": 3
   },
   "file_extension": ".py",
   "mimetype": "text/x-python",
   "name": "python",
   "nbconvert_exporter": "python",
   "pygments_lexer": "ipython3",
   "version": "3.9.7"
  }
 },
 "nbformat": 4,
 "nbformat_minor": 5
}
