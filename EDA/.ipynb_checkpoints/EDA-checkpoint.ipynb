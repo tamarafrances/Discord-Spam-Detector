{
 "cells": [
  {
   "cell_type": "markdown",
   "id": "229662dc-a0b6-4e74-a7e8-961566e74689",
   "metadata": {},
   "source": [
    "# Exploratory Data Analysis: Discord Spam Detector\n",
    "\n",
    "### Tamara Frances\n",
    "<br>\n",
    "\n",
    "---\n",
    "<br>"
   ]
  },
  {
   "cell_type": "code",
   "execution_count": 1,
   "id": "35ce3289-6775-43a8-a625-f9caf6775801",
   "metadata": {},
   "outputs": [
    {
     "name": "stdout",
     "output_type": "stream",
     "text": [
      "Requirement already satisfied: textblob in /Users/tamarafrances/opt/anaconda3/lib/python3.9/site-packages (0.17.1)\n",
      "Requirement already satisfied: nltk>=3.1 in /Users/tamarafrances/opt/anaconda3/lib/python3.9/site-packages (from textblob) (3.6.5)\n",
      "Requirement already satisfied: click in /Users/tamarafrances/opt/anaconda3/lib/python3.9/site-packages (from nltk>=3.1->textblob) (8.0.3)\n",
      "Requirement already satisfied: joblib in /Users/tamarafrances/opt/anaconda3/lib/python3.9/site-packages (from nltk>=3.1->textblob) (1.1.0)\n",
      "Requirement already satisfied: regex>=2021.8.3 in /Users/tamarafrances/opt/anaconda3/lib/python3.9/site-packages (from nltk>=3.1->textblob) (2021.8.3)\n",
      "Requirement already satisfied: tqdm in /Users/tamarafrances/opt/anaconda3/lib/python3.9/site-packages (from nltk>=3.1->textblob) (4.62.3)\n",
      "Note: you may need to restart the kernel to use updated packages.\n"
     ]
    }
   ],
   "source": [
    "import pandas as pd\n",
    "import numpy as np\n",
    "import seaborn as sns\n",
    "import matplotlib.pyplot as plt\n",
    "%pip install textblob"
   ]
  },
  {
   "cell_type": "code",
   "execution_count": 2,
   "id": "52741a3c-82fa-469e-9703-5de428732300",
   "metadata": {},
   "outputs": [],
   "source": [
    "df = pd.read_excel('../data/data-for-capstone.xlsx')\n",
    "df.columns = df.columns.str.lower()\n",
    "df = df.rename(columns={'spam?':'spam'})"
   ]
  },
  {
   "cell_type": "markdown",
   "id": "826f1be0-4e9a-4f8d-b886-e2bdc33a5dd2",
   "metadata": {},
   "source": [
    "<br>\n",
    "\n",
    "---\n",
    "\n",
    "<br>"
   ]
  },
  {
   "cell_type": "code",
   "execution_count": 3,
   "id": "1ffb5c85-72f4-40ef-9833-9e2c2f45a67d",
   "metadata": {},
   "outputs": [
    {
     "data": {
      "text/html": [
       "<div>\n",
       "<style scoped>\n",
       "    .dataframe tbody tr th:only-of-type {\n",
       "        vertical-align: middle;\n",
       "    }\n",
       "\n",
       "    .dataframe tbody tr th {\n",
       "        vertical-align: top;\n",
       "    }\n",
       "\n",
       "    .dataframe thead th {\n",
       "        text-align: right;\n",
       "    }\n",
       "</style>\n",
       "<table border=\"1\" class=\"dataframe\">\n",
       "  <thead>\n",
       "    <tr style=\"text-align: right;\">\n",
       "      <th></th>\n",
       "      <th>text</th>\n",
       "      <th>spam</th>\n",
       "    </tr>\n",
       "  </thead>\n",
       "  <tbody>\n",
       "    <tr>\n",
       "      <th>0</th>\n",
       "      <td>The bird is the word</td>\n",
       "      <td>N</td>\n",
       "    </tr>\n",
       "    <tr>\n",
       "      <th>1</th>\n",
       "      <td>Was checking out at kith</td>\n",
       "      <td>N</td>\n",
       "    </tr>\n",
       "    <tr>\n",
       "      <th>2</th>\n",
       "      <td>mine making to much noise</td>\n",
       "      <td>N</td>\n",
       "    </tr>\n",
       "    <tr>\n",
       "      <th>3</th>\n",
       "      <td>We chillin over here at 75 degrees lmao</td>\n",
       "      <td>N</td>\n",
       "    </tr>\n",
       "    <tr>\n",
       "      <th>4</th>\n",
       "      <td>should be dropping tomorrow selling well rn on...</td>\n",
       "      <td>N</td>\n",
       "    </tr>\n",
       "  </tbody>\n",
       "</table>\n",
       "</div>"
      ],
      "text/plain": [
       "                                                text spam\n",
       "0                               The bird is the word    N\n",
       "1                           Was checking out at kith    N\n",
       "2                          mine making to much noise    N\n",
       "3            We chillin over here at 75 degrees lmao    N\n",
       "4  should be dropping tomorrow selling well rn on...    N"
      ]
     },
     "execution_count": 3,
     "metadata": {},
     "output_type": "execute_result"
    }
   ],
   "source": [
    "df[df['spam'] == 'N'].head()"
   ]
  },
  {
   "cell_type": "code",
   "execution_count": 4,
   "id": "5fe49d1c-1129-4b82-a8da-61603dbbb408",
   "metadata": {},
   "outputs": [
    {
     "data": {
      "text/html": [
       "<div>\n",
       "<style scoped>\n",
       "    .dataframe tbody tr th:only-of-type {\n",
       "        vertical-align: middle;\n",
       "    }\n",
       "\n",
       "    .dataframe tbody tr th {\n",
       "        vertical-align: top;\n",
       "    }\n",
       "\n",
       "    .dataframe thead th {\n",
       "        text-align: right;\n",
       "    }\n",
       "</style>\n",
       "<table border=\"1\" class=\"dataframe\">\n",
       "  <thead>\n",
       "    <tr style=\"text-align: right;\">\n",
       "      <th></th>\n",
       "      <th>text</th>\n",
       "      <th>spam</th>\n",
       "    </tr>\n",
       "  </thead>\n",
       "  <tbody>\n",
       "    <tr>\n",
       "      <th>570</th>\n",
       "      <td>Hey! Are you a reseller? If you are chances ar...</td>\n",
       "      <td>Y</td>\n",
       "    </tr>\n",
       "    <tr>\n",
       "      <th>571</th>\n",
       "      <td>We can refund hundreds of different stores wit...</td>\n",
       "      <td>Y</td>\n",
       "    </tr>\n",
       "    <tr>\n",
       "      <th>572</th>\n",
       "      <td>Well lucky for you our service is here. . Now ...</td>\n",
       "      <td>Y</td>\n",
       "    </tr>\n",
       "    <tr>\n",
       "      <th>573</th>\n",
       "      <td>So no need to worry! Come join now!</td>\n",
       "      <td>Y</td>\n",
       "    </tr>\n",
       "    <tr>\n",
       "      <th>574</th>\n",
       "      <td>CoinGrowBit - Professional digital asset tradi...</td>\n",
       "      <td>Y</td>\n",
       "    </tr>\n",
       "  </tbody>\n",
       "</table>\n",
       "</div>"
      ],
      "text/plain": [
       "                                                  text spam\n",
       "570  Hey! Are you a reseller? If you are chances ar...    Y\n",
       "571  We can refund hundreds of different stores wit...    Y\n",
       "572  Well lucky for you our service is here. . Now ...    Y\n",
       "573                So no need to worry! Come join now!    Y\n",
       "574  CoinGrowBit - Professional digital asset tradi...    Y"
      ]
     },
     "execution_count": 4,
     "metadata": {},
     "output_type": "execute_result"
    }
   ],
   "source": [
    "df[df['spam'] == 'Y'].head()"
   ]
  },
  {
   "cell_type": "code",
   "execution_count": 5,
   "id": "0776fcd4-fcd6-4534-bd3b-d6d60f4ebb26",
   "metadata": {},
   "outputs": [
    {
     "data": {
      "text/plain": [
       "text    0\n",
       "spam    0\n",
       "dtype: int64"
      ]
     },
     "execution_count": 5,
     "metadata": {},
     "output_type": "execute_result"
    }
   ],
   "source": [
    "df.isnull().sum()"
   ]
  },
  {
   "cell_type": "markdown",
   "id": "f713dac6-e569-47ec-89d1-42038626e404",
   "metadata": {},
   "source": [
    "<br>\n",
    "\n",
    "---\n",
    "\n",
    "<br>"
   ]
  },
  {
   "cell_type": "code",
   "execution_count": 6,
   "id": "80b80bee-7bf1-4fd3-bc76-f8b110bfa3fa",
   "metadata": {},
   "outputs": [
    {
     "name": "stderr",
     "output_type": "stream",
     "text": [
      "/var/folders/lt/x127bqmn1g31b73t2m2hj18r0000gn/T/ipykernel_75467/581188541.py:7: SettingWithCopyWarning: \n",
      "A value is trying to be set on a copy of a slice from a DataFrame.\n",
      "Try using .loc[row_indexer,col_indexer] = value instead\n",
      "\n",
      "See the caveats in the documentation: https://pandas.pydata.org/pandas-docs/stable/user_guide/indexing.html#returning-a-view-versus-a-copy\n",
      "  df_notspam['word_count'] = wc_notspam\n",
      "/var/folders/lt/x127bqmn1g31b73t2m2hj18r0000gn/T/ipykernel_75467/581188541.py:14: SettingWithCopyWarning: \n",
      "A value is trying to be set on a copy of a slice from a DataFrame.\n",
      "Try using .loc[row_indexer,col_indexer] = value instead\n",
      "\n",
      "See the caveats in the documentation: https://pandas.pydata.org/pandas-docs/stable/user_guide/indexing.html#returning-a-view-versus-a-copy\n",
      "  df_notspam['text_length'] = length_notspam\n",
      "/var/folders/lt/x127bqmn1g31b73t2m2hj18r0000gn/T/ipykernel_75467/581188541.py:22: SettingWithCopyWarning: \n",
      "A value is trying to be set on a copy of a slice from a DataFrame.\n",
      "Try using .loc[row_indexer,col_indexer] = value instead\n",
      "\n",
      "See the caveats in the documentation: https://pandas.pydata.org/pandas-docs/stable/user_guide/indexing.html#returning-a-view-versus-a-copy\n",
      "  df_spam['word_count'] = wc_spam\n",
      "/var/folders/lt/x127bqmn1g31b73t2m2hj18r0000gn/T/ipykernel_75467/581188541.py:30: SettingWithCopyWarning: \n",
      "A value is trying to be set on a copy of a slice from a DataFrame.\n",
      "Try using .loc[row_indexer,col_indexer] = value instead\n",
      "\n",
      "See the caveats in the documentation: https://pandas.pydata.org/pandas-docs/stable/user_guide/indexing.html#returning-a-view-versus-a-copy\n",
      "  df_spam['text_length'] = length_notspam\n"
     ]
    }
   ],
   "source": [
    "#calculating the wordcount of not spam\n",
    "df_notspam = df[df['spam'] == 'N']\n",
    "\n",
    "wc_notspam = []\n",
    "for string in df_notspam['text']:\n",
    "    wc_notspam.append(len(string.strip().split(' ')))  \n",
    "df_notspam['word_count'] = wc_notspam\n",
    "\n",
    "#calculating the text length of not spam\n",
    "length_notspam = []\n",
    "for string in df_notspam['text']:\n",
    "    a = string.strip()\n",
    "    length_notspam.append(len(a))\n",
    "df_notspam['text_length'] = length_notspam\n",
    "\n",
    "#calculating the wordcount of spam\n",
    "\n",
    "df_spam = df[df['spam'] == 'Y']\n",
    "wc_spam = []\n",
    "for string in df_spam['text']:\n",
    "    wc_spam.append(len(string.strip().split(' ')))  \n",
    "df_spam['word_count'] = wc_spam\n",
    "\n",
    "\n",
    "#calculating the text length of spam\n",
    "length_notspam = []\n",
    "for string in df_spam['text']:\n",
    "    a = string.strip()\n",
    "    length_notspam.append(len(a))\n",
    "df_spam['text_length'] = length_notspam"
   ]
  },
  {
   "cell_type": "code",
   "execution_count": 7,
   "id": "dd07b927-1dfc-49a2-be59-9eb918502c98",
   "metadata": {
    "tags": []
   },
   "outputs": [
    {
     "data": {
      "image/png": "[encoded data removed]",
      "text/plain": [
       "<Figure size 1080x504 with 2 Axes>"
      ]
     },
     "metadata": {
      "needs_background": "light"
     },
     "output_type": "display_data"
    }
   ],
   "source": [
    "# word count: not spam vs spam\n",
    "\n",
    "r,c = plt.subplots(1, 2, figsize=(15,7))\n",
    "a = sns.histplot(df_notspam['word_count'], ax=c[0]).set_title('Not Spam')\n",
    "b = sns.histplot(df_spam['word_count'], ax=c[1]).set_title('Spam')\n",
    "plt.subplots_adjust(wspace=0.3, hspace=0.1)"
   ]
  },
  {
   "cell_type": "code",
   "execution_count": 8,
   "id": "00737434-da90-4039-841f-d59db4d06a50",
   "metadata": {},
   "outputs": [
    {
     "data": {
      "image/png": "[encoded data removed]",
      "text/plain": [
       "<Figure size 1080x504 with 2 Axes>"
      ]
     },
     "metadata": {
      "needs_background": "light"
     },
     "output_type": "display_data"
    }
   ],
   "source": [
    "# text length: not spam vs spam\n",
    "\n",
    "r,c = plt.subplots(1, 2, figsize=(15,7))\n",
    "a = sns.histplot(df_notspam['text_length'], ax=c[0]).set_title('Not Spam')\n",
    "b = sns.histplot(df_spam['text_length'], ax=c[1]).set_title('Spam')\n",
    "plt.subplots_adjust(wspace=0.3, hspace=0.1)"
   ]
  },
  {
   "cell_type": "markdown",
   "id": "1afebaf5-2bb8-43f2-9fb5-f78c75cfbdcb",
   "metadata": {},
   "source": [
    "<br>\n",
    "\n",
    "---\n",
    "\n",
    "<br>"
   ]
  },
  {
   "cell_type": "code",
   "execution_count": 9,
   "id": "fd4938ff-c233-42a4-8094-72a5a7ed2b35",
   "metadata": {},
   "outputs": [
    {
     "data": {
      "text/plain": [
       "N    0.863991\n",
       "Y    0.136009\n",
       "Name: spam, dtype: float64"
      ]
     },
     "execution_count": 9,
     "metadata": {},
     "output_type": "execute_result"
    }
   ],
   "source": [
    "df['spam'].value_counts(normalize=True)\n",
    "\n",
    "#imbalanced"
   ]
  },
  {
   "cell_type": "code",
   "execution_count": 10,
   "id": "42d36f07-ebc8-4a64-93c3-ad928b5c15e0",
   "metadata": {},
   "outputs": [
    {
     "data": {
      "text/plain": [
       "<AxesSubplot:xlabel='spam', ylabel='Count'>"
      ]
     },
     "execution_count": 10,
     "metadata": {},
     "output_type": "execute_result"
    },
    {
     "data": {
      "image/png": "[encoded data removed]",
      "text/plain": [
       "<Figure size 432x288 with 1 Axes>"
      ]
     },
     "metadata": {
      "needs_background": "light"
     },
     "output_type": "display_data"
    }
   ],
   "source": [
    "sns.histplot(df['spam'])"
   ]
  },
  {
   "cell_type": "code",
   "execution_count": 11,
   "id": "f93808ea-18fa-41d8-8ce3-e9066a0420db",
   "metadata": {},
   "outputs": [],
   "source": [
    "#calculating the wordcount of the text\n",
    "wc = []\n",
    "for string in df['text']:\n",
    "    wc.append(len(string.strip().split(' ')))  \n",
    "df['word_count'] = wc\n",
    "\n",
    "\n",
    "#calculating the length of the text\n",
    "length = []\n",
    "for string in df['text']:\n",
    "    a = string.strip()\n",
    "    length.append(len(a))\n",
    "df['text_length'] = length\n"
   ]
  },
  {
   "cell_type": "code",
   "execution_count": 12,
   "id": "c0a8e93e-a695-4c73-b64a-e8a5e4311bf5",
   "metadata": {},
   "outputs": [
    {
     "data": {
      "text/html": [
       "<div>\n",
       "<style scoped>\n",
       "    .dataframe tbody tr th:only-of-type {\n",
       "        vertical-align: middle;\n",
       "    }\n",
       "\n",
       "    .dataframe tbody tr th {\n",
       "        vertical-align: top;\n",
       "    }\n",
       "\n",
       "    .dataframe thead th {\n",
       "        text-align: right;\n",
       "    }\n",
       "</style>\n",
       "<table border=\"1\" class=\"dataframe\">\n",
       "  <thead>\n",
       "    <tr style=\"text-align: right;\">\n",
       "      <th></th>\n",
       "      <th>text</th>\n",
       "      <th>spam</th>\n",
       "      <th>word_count</th>\n",
       "      <th>text_length</th>\n",
       "    </tr>\n",
       "  </thead>\n",
       "  <tbody>\n",
       "    <tr>\n",
       "      <th>0</th>\n",
       "      <td>The bird is the word</td>\n",
       "      <td>N</td>\n",
       "      <td>5</td>\n",
       "      <td>20</td>\n",
       "    </tr>\n",
       "    <tr>\n",
       "      <th>1</th>\n",
       "      <td>Was checking out at kith</td>\n",
       "      <td>N</td>\n",
       "      <td>5</td>\n",
       "      <td>24</td>\n",
       "    </tr>\n",
       "    <tr>\n",
       "      <th>2</th>\n",
       "      <td>mine making to much noise</td>\n",
       "      <td>N</td>\n",
       "      <td>5</td>\n",
       "      <td>25</td>\n",
       "    </tr>\n",
       "    <tr>\n",
       "      <th>3</th>\n",
       "      <td>We chillin over here at 75 degrees lmao</td>\n",
       "      <td>N</td>\n",
       "      <td>8</td>\n",
       "      <td>39</td>\n",
       "    </tr>\n",
       "    <tr>\n",
       "      <th>4</th>\n",
       "      <td>should be dropping tomorrow selling well rn on...</td>\n",
       "      <td>N</td>\n",
       "      <td>9</td>\n",
       "      <td>51</td>\n",
       "    </tr>\n",
       "  </tbody>\n",
       "</table>\n",
       "</div>"
      ],
      "text/plain": [
       "                                                text spam  word_count  \\\n",
       "0                               The bird is the word    N           5   \n",
       "1                           Was checking out at kith    N           5   \n",
       "2                          mine making to much noise    N           5   \n",
       "3            We chillin over here at 75 degrees lmao    N           8   \n",
       "4  should be dropping tomorrow selling well rn on...    N           9   \n",
       "\n",
       "   text_length  \n",
       "0           20  \n",
       "1           24  \n",
       "2           25  \n",
       "3           39  \n",
       "4           51  "
      ]
     },
     "execution_count": 12,
     "metadata": {},
     "output_type": "execute_result"
    }
   ],
   "source": [
    "df.head()"
   ]
  },
  {
   "cell_type": "markdown",
   "id": "108798fb-28d1-4871-a304-0e97046225f6",
   "metadata": {},
   "source": [
    "<br>\n",
    "\n",
    "---\n",
    "\n",
    "<br>"
   ]
  },
  {
   "cell_type": "code",
   "execution_count": 13,
   "id": "62ff5af0-b7dd-4a0b-ad8b-380ad7c837f2",
   "metadata": {},
   "outputs": [
    {
     "data": {
      "text/plain": [
       "count    897.000000\n",
       "mean      74.554069\n",
       "std       46.376415\n",
       "min        3.000000\n",
       "25%       41.000000\n",
       "50%       66.000000\n",
       "75%       98.000000\n",
       "max      397.000000\n",
       "Name: text_length, dtype: float64"
      ]
     },
     "execution_count": 13,
     "metadata": {},
     "output_type": "execute_result"
    }
   ],
   "source": [
    "#exploring the dataframe\n",
    "\n",
    "df['text_length'].describe()"
   ]
  },
  {
   "cell_type": "code",
   "execution_count": 14,
   "id": "e4e5fc29-8f8d-4a61-8d43-28d2b99641a6",
   "metadata": {},
   "outputs": [
    {
     "data": {
      "text/plain": [
       "count    897.000000\n",
       "mean      14.253066\n",
       "std        8.596326\n",
       "min        1.000000\n",
       "25%        8.000000\n",
       "50%       13.000000\n",
       "75%       19.000000\n",
       "max       76.000000\n",
       "Name: word_count, dtype: float64"
      ]
     },
     "execution_count": 14,
     "metadata": {},
     "output_type": "execute_result"
    }
   ],
   "source": [
    "df['word_count'].describe()"
   ]
  },
  {
   "cell_type": "code",
   "execution_count": 15,
   "id": "e202fab2-fe37-4ed5-af96-0e3ca114897b",
   "metadata": {},
   "outputs": [],
   "source": [
    "import matplotlib.pyplot as plt"
   ]
  },
  {
   "cell_type": "code",
   "execution_count": 16,
   "id": "d63635d6-69c5-49da-8b65-2f6d3f42b258",
   "metadata": {},
   "outputs": [
    {
     "data": {
      "image/png": "[encoded data removed]",
      "text/plain": [
       "<Figure size 1080x504 with 2 Axes>"
      ]
     },
     "metadata": {
      "needs_background": "light"
     },
     "output_type": "display_data"
    }
   ],
   "source": [
    "r,c = plt.subplots(1, 2, figsize=(15,7))\n",
    "a = sns.histplot(df['word_count'], ax=c[0])\n",
    "b = sns.histplot(df['text_length'], ax=c[1])\n",
    "plt.subplots_adjust(wspace=0.3, hspace=0.1)\n",
    "\n",
    "#both word count and text length are right skewed among all discord messages"
   ]
  },
  {
   "cell_type": "code",
   "execution_count": 17,
   "id": "7b5461c3-cabb-48d8-ae96-6b11f2fe3b41",
   "metadata": {},
   "outputs": [
    {
     "name": "stderr",
     "output_type": "stream",
     "text": [
      "/Users/tamarafrances/opt/anaconda3/lib/python3.9/site-packages/seaborn/_decorators.py:36: FutureWarning: Pass the following variable as a keyword arg: x. From version 0.12, the only valid positional argument will be `data`, and passing other arguments without an explicit keyword will result in an error or misinterpretation.\n",
      "  warnings.warn(\n",
      "/Users/tamarafrances/opt/anaconda3/lib/python3.9/site-packages/seaborn/_decorators.py:36: FutureWarning: Pass the following variable as a keyword arg: x. From version 0.12, the only valid positional argument will be `data`, and passing other arguments without an explicit keyword will result in an error or misinterpretation.\n",
      "  warnings.warn(\n"
     ]
    },
    {
     "data": {
      "image/png": "[encoded data removed]",
      "text/plain": [
       "<Figure size 1080x504 with 2 Axes>"
      ]
     },
     "metadata": {
      "needs_background": "light"
     },
     "output_type": "display_data"
    }
   ],
   "source": [
    "#boxplots \n",
    "r,c = plt.subplots(1, 2, figsize=(15,7))\n",
    "a = sns.boxplot(df['word_count'], ax=c[0])\n",
    "b = sns.boxplot(df['text_length'], ax=c[1])\n",
    "plt.subplots_adjust(wspace=0.3, hspace=0.1);"
   ]
  },
  {
   "cell_type": "code",
   "execution_count": 18,
   "id": "c70e9e0a-aa95-4ce3-b187-588208dda6ca",
   "metadata": {},
   "outputs": [
    {
     "data": {
      "text/plain": [
       "spam\n",
       "N    13.939355\n",
       "Y    16.245902\n",
       "Name: word_count, dtype: float64"
      ]
     },
     "execution_count": 18,
     "metadata": {},
     "output_type": "execute_result"
    }
   ],
   "source": [
    "#mean wordcount by not spam/spam\n",
    "\n",
    "df['word_count'].groupby(df['spam']).mean()"
   ]
  },
  {
   "cell_type": "code",
   "execution_count": 19,
   "id": "eb1830e8-c678-4b31-a4c2-ddfad051b7b7",
   "metadata": {},
   "outputs": [
    {
     "data": {
      "text/plain": [
       "spam\n",
       "N    71.584516\n",
       "Y    93.418033\n",
       "Name: text_length, dtype: float64"
      ]
     },
     "execution_count": 19,
     "metadata": {},
     "output_type": "execute_result"
    }
   ],
   "source": [
    "#mean text length by not spam/spam\n",
    "\n",
    "df['text_length'].groupby(df['spam']).mean()"
   ]
  },
  {
   "cell_type": "code",
   "execution_count": 20,
   "id": "ebf76e22-a3e6-4f15-a5da-03b447e90a37",
   "metadata": {},
   "outputs": [],
   "source": [
    "from sklearn.feature_extraction.text import CountVectorizer"
   ]
  },
  {
   "cell_type": "code",
   "execution_count": 21,
   "id": "4fa3946d-0d03-4e9c-a314-1f0779fe809d",
   "metadata": {},
   "outputs": [
    {
     "data": {
      "text/plain": [
       "(897, 2673)"
      ]
     },
     "execution_count": 21,
     "metadata": {},
     "output_type": "execute_result"
    }
   ],
   "source": [
    "cv = CountVectorizer()\n",
    "df_cv = cv.fit_transform(df['text'])\n",
    "df_cv.shape"
   ]
  },
  {
   "cell_type": "code",
   "execution_count": 22,
   "id": "cf32b2db-f0f5-4ec2-b865-12fb02743e92",
   "metadata": {},
   "outputs": [],
   "source": [
    "words = pd.DataFrame(df_cv.A, columns=cv.get_feature_names_out())\n",
    "wordcounts = words.sum().sort_values(ascending=False).head(15)\n",
    "wordcounts = pd.DataFrame(wordcounts)"
   ]
  },
  {
   "cell_type": "markdown",
   "id": "c8ece0c3-dee6-4823-92f1-03e250550903",
   "metadata": {},
   "source": [
    "<br>\n",
    "\n",
    "---\n",
    "\n",
    "<br>"
   ]
  },
  {
   "cell_type": "code",
   "execution_count": 23,
   "id": "c03c36be-b44e-4eb0-80ab-ae31f9d518a0",
   "metadata": {},
   "outputs": [],
   "source": [
    "#sentimentanalysis\n",
    "#https://towardsdatascience.com/text-analysis-basics-in-python-443282942ec5\n",
    "\n",
    "from textblob import TextBlob\n",
    "df['polarity'] = df['text'].apply(lambda x: TextBlob(x).polarity)\n",
    "df['subjectivity'] = df['text'].apply(lambda x: TextBlob(x).subjectivity)"
   ]
  },
  {
   "cell_type": "code",
   "execution_count": 24,
   "id": "5e81734d-865d-4a6a-82fb-21742680ed3a",
   "metadata": {},
   "outputs": [
    {
     "data": {
      "text/html": [
       "<div>\n",
       "<style scoped>\n",
       "    .dataframe tbody tr th:only-of-type {\n",
       "        vertical-align: middle;\n",
       "    }\n",
       "\n",
       "    .dataframe tbody tr th {\n",
       "        vertical-align: top;\n",
       "    }\n",
       "\n",
       "    .dataframe thead th {\n",
       "        text-align: right;\n",
       "    }\n",
       "</style>\n",
       "<table border=\"1\" class=\"dataframe\">\n",
       "  <thead>\n",
       "    <tr style=\"text-align: right;\">\n",
       "      <th></th>\n",
       "      <th>text</th>\n",
       "      <th>spam</th>\n",
       "      <th>word_count</th>\n",
       "      <th>text_length</th>\n",
       "      <th>polarity</th>\n",
       "      <th>subjectivity</th>\n",
       "    </tr>\n",
       "  </thead>\n",
       "  <tbody>\n",
       "    <tr>\n",
       "      <th>0</th>\n",
       "      <td>The bird is the word</td>\n",
       "      <td>N</td>\n",
       "      <td>5</td>\n",
       "      <td>20</td>\n",
       "      <td>0.0</td>\n",
       "      <td>0.0</td>\n",
       "    </tr>\n",
       "    <tr>\n",
       "      <th>1</th>\n",
       "      <td>Was checking out at kith</td>\n",
       "      <td>N</td>\n",
       "      <td>5</td>\n",
       "      <td>24</td>\n",
       "      <td>0.0</td>\n",
       "      <td>0.0</td>\n",
       "    </tr>\n",
       "    <tr>\n",
       "      <th>2</th>\n",
       "      <td>mine making to much noise</td>\n",
       "      <td>N</td>\n",
       "      <td>5</td>\n",
       "      <td>25</td>\n",
       "      <td>0.2</td>\n",
       "      <td>0.2</td>\n",
       "    </tr>\n",
       "    <tr>\n",
       "      <th>3</th>\n",
       "      <td>We chillin over here at 75 degrees lmao</td>\n",
       "      <td>N</td>\n",
       "      <td>8</td>\n",
       "      <td>39</td>\n",
       "      <td>0.6</td>\n",
       "      <td>1.0</td>\n",
       "    </tr>\n",
       "    <tr>\n",
       "      <th>4</th>\n",
       "      <td>should be dropping tomorrow selling well rn on...</td>\n",
       "      <td>N</td>\n",
       "      <td>9</td>\n",
       "      <td>51</td>\n",
       "      <td>0.0</td>\n",
       "      <td>0.0</td>\n",
       "    </tr>\n",
       "  </tbody>\n",
       "</table>\n",
       "</div>"
      ],
      "text/plain": [
       "                                                text spam  word_count  \\\n",
       "0                               The bird is the word    N           5   \n",
       "1                           Was checking out at kith    N           5   \n",
       "2                          mine making to much noise    N           5   \n",
       "3            We chillin over here at 75 degrees lmao    N           8   \n",
       "4  should be dropping tomorrow selling well rn on...    N           9   \n",
       "\n",
       "   text_length  polarity  subjectivity  \n",
       "0           20       0.0           0.0  \n",
       "1           24       0.0           0.0  \n",
       "2           25       0.2           0.2  \n",
       "3           39       0.6           1.0  \n",
       "4           51       0.0           0.0  "
      ]
     },
     "execution_count": 24,
     "metadata": {},
     "output_type": "execute_result"
    }
   ],
   "source": [
    "df.head()"
   ]
  },
  {
   "cell_type": "code",
   "execution_count": 25,
   "id": "9ed8b581-5c6d-4fbc-b360-7f8b974311bc",
   "metadata": {},
   "outputs": [
    {
     "data": {
      "text/plain": [
       "spam\n",
       "N    0.098749\n",
       "Y    0.150162\n",
       "Name: polarity, dtype: float64"
      ]
     },
     "execution_count": 25,
     "metadata": {},
     "output_type": "execute_result"
    }
   ],
   "source": [
    "df['polarity'].groupby(df['spam']).mean() #-1 is negative, 1 is positive\n",
    "\n",
    "#slightly more positive - maybe to convince people to keep reading or click links"
   ]
  },
  {
   "cell_type": "code",
   "execution_count": 26,
   "id": "6b81c3be-d7a4-4cef-a194-c7d12ee0652a",
   "metadata": {},
   "outputs": [
    {
     "data": {
      "text/plain": [
       "spam\n",
       "N    0.343345\n",
       "Y    0.362479\n",
       "Name: subjectivity, dtype: float64"
      ]
     },
     "execution_count": 26,
     "metadata": {},
     "output_type": "execute_result"
    }
   ],
   "source": [
    "df['subjectivity'].groupby(df['spam']).mean() #-1 is objective, 1 is subjective\n",
    "\n",
    "#not surprised these are so close since spam bots try to get past spam filters, need to mimic nonspam as much as possible"
   ]
  },
  {
   "cell_type": "markdown",
   "id": "f927e8bc-82b1-4a1d-8770-19424df277c4",
   "metadata": {
    "tags": []
   },
   "source": [
    "<br>\n",
    "\n",
    "---\n",
    "\n",
    "<br>"
   ]
  },
  {
   "cell_type": "code",
   "execution_count": 27,
   "id": "2d4e9fc6-c867-421a-87f3-e3d8c6027397",
   "metadata": {},
   "outputs": [
    {
     "data": {
      "text/html": [
       "<div>\n",
       "<style scoped>\n",
       "    .dataframe tbody tr th:only-of-type {\n",
       "        vertical-align: middle;\n",
       "    }\n",
       "\n",
       "    .dataframe tbody tr th {\n",
       "        vertical-align: top;\n",
       "    }\n",
       "\n",
       "    .dataframe thead th {\n",
       "        text-align: right;\n",
       "    }\n",
       "</style>\n",
       "<table border=\"1\" class=\"dataframe\">\n",
       "  <thead>\n",
       "    <tr style=\"text-align: right;\">\n",
       "      <th></th>\n",
       "      <th>frequency</th>\n",
       "      <th>bigram/trigram</th>\n",
       "    </tr>\n",
       "  </thead>\n",
       "  <tbody>\n",
       "    <tr>\n",
       "      <th>0</th>\n",
       "      <td>5</td>\n",
       "      <td>looks like</td>\n",
       "    </tr>\n",
       "    <tr>\n",
       "      <th>1</th>\n",
       "      <td>5</td>\n",
       "      <td>evolving skies</td>\n",
       "    </tr>\n",
       "    <tr>\n",
       "      <th>2</th>\n",
       "      <td>5</td>\n",
       "      <td>burning shadows</td>\n",
       "    </tr>\n",
       "    <tr>\n",
       "      <th>3</th>\n",
       "      <td>5</td>\n",
       "      <td>booster box</td>\n",
       "    </tr>\n",
       "    <tr>\n",
       "      <th>4</th>\n",
       "      <td>4</td>\n",
       "      <td>trying get</td>\n",
       "    </tr>\n",
       "    <tr>\n",
       "      <th>...</th>\n",
       "      <td>...</td>\n",
       "      <td>...</td>\n",
       "    </tr>\n",
       "    <tr>\n",
       "      <th>8823</th>\n",
       "      <td>1</td>\n",
       "      <td>10 apy</td>\n",
       "    </tr>\n",
       "    <tr>\n",
       "      <th>8824</th>\n",
       "      <td>1</td>\n",
       "      <td>0x see hash</td>\n",
       "    </tr>\n",
       "    <tr>\n",
       "      <th>8825</th>\n",
       "      <td>1</td>\n",
       "      <td>0x see</td>\n",
       "    </tr>\n",
       "    <tr>\n",
       "      <th>8826</th>\n",
       "      <td>1</td>\n",
       "      <td>002 back 01</td>\n",
       "    </tr>\n",
       "    <tr>\n",
       "      <th>8827</th>\n",
       "      <td>1</td>\n",
       "      <td>002 back</td>\n",
       "    </tr>\n",
       "  </tbody>\n",
       "</table>\n",
       "<p>8828 rows × 2 columns</p>\n",
       "</div>"
      ],
      "text/plain": [
       "      frequency   bigram/trigram\n",
       "0             5       looks like\n",
       "1             5   evolving skies\n",
       "2             5  burning shadows\n",
       "3             5      booster box\n",
       "4             4       trying get\n",
       "...         ...              ...\n",
       "8823          1           10 apy\n",
       "8824          1      0x see hash\n",
       "8825          1           0x see\n",
       "8826          1      002 back 01\n",
       "8827          1         002 back\n",
       "\n",
       "[8828 rows x 2 columns]"
      ]
     },
     "execution_count": 27,
     "metadata": {},
     "output_type": "execute_result"
    }
   ],
   "source": [
    "#bigrams and trigrams - not spam\n",
    "#https://towardsdatascience.com/text-analysis-basics-in-python-443282942ec5\n",
    "\n",
    "from nltk.corpus import stopwords\n",
    "stoplist = stopwords.words('english')\n",
    "c_vec = CountVectorizer(stop_words=stoplist, ngram_range=(2,3))\n",
    "# matrix of ngrams\n",
    "ngrams = c_vec.fit_transform(df_notspam['text'])\n",
    "# count frequency of ngrams\n",
    "count_values = ngrams.toarray().sum(axis=0)\n",
    "# list of ngrams\n",
    "vocab = c_vec.vocabulary_\n",
    "df_ngram_notspam = pd.DataFrame(sorted([(count_values[i],k) for k,i in vocab.items()], reverse=True)\n",
    "            ).rename(columns={0: 'frequency', 1:'bigram/trigram'})\n",
    "df_ngram_notspam"
   ]
  },
  {
   "cell_type": "code",
   "execution_count": 28,
   "id": "e39f8525-8983-4807-81ef-dbebc70503fb",
   "metadata": {
    "tags": []
   },
   "outputs": [
    {
     "data": {
      "text/plain": [
       "<AxesSubplot:xlabel='frequency', ylabel='bigram/trigram'>"
      ]
     },
     "execution_count": 28,
     "metadata": {},
     "output_type": "execute_result"
    },
    {
     "data": {
      "image/png": "[encoded data removed]",
      "text/plain": [
       "<Figure size 432x288 with 1 Axes>"
      ]
     },
     "metadata": {
      "needs_background": "light"
     },
     "output_type": "display_data"
    }
   ],
   "source": [
    "sns.barplot(x=\"frequency\", y=\"bigram/trigram\", data=df_ngram_notspam.head(15))"
   ]
  },
  {
   "cell_type": "code",
   "execution_count": 29,
   "id": "1cb5a4ac-d2f3-4b20-91e4-dfd745bc256f",
   "metadata": {},
   "outputs": [],
   "source": [
    "df_ngram_notspam['polarity'] = df_ngram_notspam['bigram/trigram'].apply(lambda x: TextBlob(x).polarity)\n",
    "df_ngram_notspam['subjectivity'] = df_ngram_notspam['bigram/trigram'].apply(lambda x: TextBlob(x).subjectivity)"
   ]
  },
  {
   "cell_type": "code",
   "execution_count": 30,
   "id": "78329f04-9df3-4e29-b21a-5c88f241cb02",
   "metadata": {},
   "outputs": [
    {
     "data": {
      "text/html": [
       "<div>\n",
       "<style scoped>\n",
       "    .dataframe tbody tr th:only-of-type {\n",
       "        vertical-align: middle;\n",
       "    }\n",
       "\n",
       "    .dataframe tbody tr th {\n",
       "        vertical-align: top;\n",
       "    }\n",
       "\n",
       "    .dataframe thead th {\n",
       "        text-align: right;\n",
       "    }\n",
       "</style>\n",
       "<table border=\"1\" class=\"dataframe\">\n",
       "  <thead>\n",
       "    <tr style=\"text-align: right;\">\n",
       "      <th></th>\n",
       "      <th>frequency</th>\n",
       "      <th>bigram/trigram</th>\n",
       "      <th>polarity</th>\n",
       "      <th>subjectivity</th>\n",
       "    </tr>\n",
       "  </thead>\n",
       "  <tbody>\n",
       "    <tr>\n",
       "      <th>0</th>\n",
       "      <td>5</td>\n",
       "      <td>looks like</td>\n",
       "      <td>0.0</td>\n",
       "      <td>0.0</td>\n",
       "    </tr>\n",
       "    <tr>\n",
       "      <th>1</th>\n",
       "      <td>5</td>\n",
       "      <td>evolving skies</td>\n",
       "      <td>0.0</td>\n",
       "      <td>0.0</td>\n",
       "    </tr>\n",
       "    <tr>\n",
       "      <th>2</th>\n",
       "      <td>5</td>\n",
       "      <td>burning shadows</td>\n",
       "      <td>0.0</td>\n",
       "      <td>0.0</td>\n",
       "    </tr>\n",
       "    <tr>\n",
       "      <th>3</th>\n",
       "      <td>5</td>\n",
       "      <td>booster box</td>\n",
       "      <td>0.0</td>\n",
       "      <td>0.0</td>\n",
       "    </tr>\n",
       "    <tr>\n",
       "      <th>4</th>\n",
       "      <td>4</td>\n",
       "      <td>trying get</td>\n",
       "      <td>0.0</td>\n",
       "      <td>0.0</td>\n",
       "    </tr>\n",
       "  </tbody>\n",
       "</table>\n",
       "</div>"
      ],
      "text/plain": [
       "   frequency   bigram/trigram  polarity  subjectivity\n",
       "0          5       looks like       0.0           0.0\n",
       "1          5   evolving skies       0.0           0.0\n",
       "2          5  burning shadows       0.0           0.0\n",
       "3          5      booster box       0.0           0.0\n",
       "4          4       trying get       0.0           0.0"
      ]
     },
     "execution_count": 30,
     "metadata": {},
     "output_type": "execute_result"
    }
   ],
   "source": [
    "df_ngram_notspam.head()"
   ]
  },
  {
   "cell_type": "code",
   "execution_count": 31,
   "id": "3fb01a37-d451-434d-a268-f43dac67b5a4",
   "metadata": {},
   "outputs": [
    {
     "data": {
      "text/html": [
       "<div>\n",
       "<style scoped>\n",
       "    .dataframe tbody tr th:only-of-type {\n",
       "        vertical-align: middle;\n",
       "    }\n",
       "\n",
       "    .dataframe tbody tr th {\n",
       "        vertical-align: top;\n",
       "    }\n",
       "\n",
       "    .dataframe thead th {\n",
       "        text-align: right;\n",
       "    }\n",
       "</style>\n",
       "<table border=\"1\" class=\"dataframe\">\n",
       "  <thead>\n",
       "    <tr style=\"text-align: right;\">\n",
       "      <th></th>\n",
       "      <th>frequency</th>\n",
       "      <th>polarity</th>\n",
       "      <th>subjectivity</th>\n",
       "    </tr>\n",
       "  </thead>\n",
       "  <tbody>\n",
       "    <tr>\n",
       "      <th>count</th>\n",
       "      <td>8828.000000</td>\n",
       "      <td>8828.000000</td>\n",
       "      <td>8828.000000</td>\n",
       "    </tr>\n",
       "    <tr>\n",
       "      <th>mean</th>\n",
       "      <td>1.026393</td>\n",
       "      <td>0.043484</td>\n",
       "      <td>0.149048</td>\n",
       "    </tr>\n",
       "    <tr>\n",
       "      <th>std</th>\n",
       "      <td>0.193602</td>\n",
       "      <td>0.216454</td>\n",
       "      <td>0.275573</td>\n",
       "    </tr>\n",
       "    <tr>\n",
       "      <th>min</th>\n",
       "      <td>1.000000</td>\n",
       "      <td>-1.000000</td>\n",
       "      <td>0.000000</td>\n",
       "    </tr>\n",
       "    <tr>\n",
       "      <th>25%</th>\n",
       "      <td>1.000000</td>\n",
       "      <td>0.000000</td>\n",
       "      <td>0.000000</td>\n",
       "    </tr>\n",
       "    <tr>\n",
       "      <th>50%</th>\n",
       "      <td>1.000000</td>\n",
       "      <td>0.000000</td>\n",
       "      <td>0.000000</td>\n",
       "    </tr>\n",
       "    <tr>\n",
       "      <th>75%</th>\n",
       "      <td>1.000000</td>\n",
       "      <td>0.000000</td>\n",
       "      <td>0.200000</td>\n",
       "    </tr>\n",
       "    <tr>\n",
       "      <th>max</th>\n",
       "      <td>5.000000</td>\n",
       "      <td>1.000000</td>\n",
       "      <td>1.000000</td>\n",
       "    </tr>\n",
       "  </tbody>\n",
       "</table>\n",
       "</div>"
      ],
      "text/plain": [
       "         frequency     polarity  subjectivity\n",
       "count  8828.000000  8828.000000   8828.000000\n",
       "mean      1.026393     0.043484      0.149048\n",
       "std       0.193602     0.216454      0.275573\n",
       "min       1.000000    -1.000000      0.000000\n",
       "25%       1.000000     0.000000      0.000000\n",
       "50%       1.000000     0.000000      0.000000\n",
       "75%       1.000000     0.000000      0.200000\n",
       "max       5.000000     1.000000      1.000000"
      ]
     },
     "execution_count": 31,
     "metadata": {},
     "output_type": "execute_result"
    }
   ],
   "source": [
    "df_ngram_notspam.describe()"
   ]
  },
  {
   "cell_type": "markdown",
   "id": "5e90513c-9260-458e-8170-f0e52e156311",
   "metadata": {},
   "source": [
    "<br>\n",
    "\n",
    "---\n",
    "\n",
    "<br>"
   ]
  },
  {
   "cell_type": "code",
   "execution_count": 32,
   "id": "18e28133-eaf7-47ce-b9f0-74d2621a2818",
   "metadata": {},
   "outputs": [],
   "source": [
    "#bigrams and trigrams - spam"
   ]
  },
  {
   "cell_type": "code",
   "execution_count": 33,
   "id": "e55644c4-7dfb-48c8-a749-db7bf21821d1",
   "metadata": {},
   "outputs": [
    {
     "data": {
      "text/html": [
       "<div>\n",
       "<style scoped>\n",
       "    .dataframe tbody tr th:only-of-type {\n",
       "        vertical-align: middle;\n",
       "    }\n",
       "\n",
       "    .dataframe tbody tr th {\n",
       "        vertical-align: top;\n",
       "    }\n",
       "\n",
       "    .dataframe thead th {\n",
       "        text-align: right;\n",
       "    }\n",
       "</style>\n",
       "<table border=\"1\" class=\"dataframe\">\n",
       "  <thead>\n",
       "    <tr style=\"text-align: right;\">\n",
       "      <th></th>\n",
       "      <th>frequency</th>\n",
       "      <th>bigram/trigram</th>\n",
       "    </tr>\n",
       "  </thead>\n",
       "  <tbody>\n",
       "    <tr>\n",
       "      <th>0</th>\n",
       "      <td>7</td>\n",
       "      <td>whitelisted mint</td>\n",
       "    </tr>\n",
       "    <tr>\n",
       "      <th>1</th>\n",
       "      <td>4</td>\n",
       "      <td>sounds interesting</td>\n",
       "    </tr>\n",
       "    <tr>\n",
       "      <th>2</th>\n",
       "      <td>4</td>\n",
       "      <td>per nft</td>\n",
       "    </tr>\n",
       "    <tr>\n",
       "      <th>3</th>\n",
       "      <td>4</td>\n",
       "      <td>money back</td>\n",
       "    </tr>\n",
       "    <tr>\n",
       "      <th>4</th>\n",
       "      <td>4</td>\n",
       "      <td>good luck</td>\n",
       "    </tr>\n",
       "    <tr>\n",
       "      <th>...</th>\n",
       "      <td>...</td>\n",
       "      <td>...</td>\n",
       "    </tr>\n",
       "    <tr>\n",
       "      <th>1640</th>\n",
       "      <td>1</td>\n",
       "      <td>000 worth</td>\n",
       "    </tr>\n",
       "    <tr>\n",
       "      <th>1641</th>\n",
       "      <td>1</td>\n",
       "      <td>000 guaranteed wl</td>\n",
       "    </tr>\n",
       "    <tr>\n",
       "      <th>1642</th>\n",
       "      <td>1</td>\n",
       "      <td>000 guaranteed</td>\n",
       "    </tr>\n",
       "    <tr>\n",
       "      <th>1643</th>\n",
       "      <td>1</td>\n",
       "      <td>000 eth party</td>\n",
       "    </tr>\n",
       "    <tr>\n",
       "      <th>1644</th>\n",
       "      <td>1</td>\n",
       "      <td>000 eth</td>\n",
       "    </tr>\n",
       "  </tbody>\n",
       "</table>\n",
       "<p>1645 rows × 2 columns</p>\n",
       "</div>"
      ],
      "text/plain": [
       "      frequency      bigram/trigram\n",
       "0             7    whitelisted mint\n",
       "1             4  sounds interesting\n",
       "2             4             per nft\n",
       "3             4          money back\n",
       "4             4           good luck\n",
       "...         ...                 ...\n",
       "1640          1           000 worth\n",
       "1641          1   000 guaranteed wl\n",
       "1642          1      000 guaranteed\n",
       "1643          1       000 eth party\n",
       "1644          1             000 eth\n",
       "\n",
       "[1645 rows x 2 columns]"
      ]
     },
     "execution_count": 33,
     "metadata": {},
     "output_type": "execute_result"
    }
   ],
   "source": [
    "c_vec = CountVectorizer(stop_words=stoplist, ngram_range=(2,3))\n",
    "# matrix of ngrams\n",
    "ngrams = c_vec.fit_transform(df_spam['text'])\n",
    "# count frequency of ngrams\n",
    "count_values = ngrams.toarray().sum(axis=0)\n",
    "# list of ngrams\n",
    "vocab = c_vec.vocabulary_\n",
    "df_ngram_spam = pd.DataFrame(sorted([(count_values[i],k) for k,i in vocab.items()], reverse=True)\n",
    "            ).rename(columns={0: 'frequency', 1:'bigram/trigram'})\n",
    "df_ngram_spam"
   ]
  },
  {
   "cell_type": "code",
   "execution_count": 34,
   "id": "67bb87a7-0245-4db5-9358-015d00c9f001",
   "metadata": {},
   "outputs": [
    {
     "data": {
      "text/plain": [
       "<AxesSubplot:xlabel='frequency', ylabel='bigram/trigram'>"
      ]
     },
     "execution_count": 34,
     "metadata": {},
     "output_type": "execute_result"
    },
    {
     "data": {
      "image/png": "[encoded data removed]",
      "text/plain": [
       "<Figure size 432x288 with 1 Axes>"
      ]
     },
     "metadata": {
      "needs_background": "light"
     },
     "output_type": "display_data"
    }
   ],
   "source": [
    "sns.barplot(x=\"frequency\", y=\"bigram/trigram\", data=df_ngram_spam.head(15))"
   ]
  },
  {
   "cell_type": "code",
   "execution_count": 35,
   "id": "8a6c02f2-6610-4703-8cea-e20f523537b0",
   "metadata": {},
   "outputs": [],
   "source": [
    "df_ngram_spam['polarity'] = df_ngram_spam['bigram/trigram'].apply(lambda x: TextBlob(x).polarity)\n",
    "df_ngram_spam['subjectivity'] = df_ngram_spam['bigram/trigram'].apply(lambda x: TextBlob(x).subjectivity)"
   ]
  },
  {
   "cell_type": "code",
   "execution_count": 36,
   "id": "e06a20a3-7311-4838-945c-bfe48baf7810",
   "metadata": {},
   "outputs": [
    {
     "data": {
      "text/html": [
       "<div>\n",
       "<style scoped>\n",
       "    .dataframe tbody tr th:only-of-type {\n",
       "        vertical-align: middle;\n",
       "    }\n",
       "\n",
       "    .dataframe tbody tr th {\n",
       "        vertical-align: top;\n",
       "    }\n",
       "\n",
       "    .dataframe thead th {\n",
       "        text-align: right;\n",
       "    }\n",
       "</style>\n",
       "<table border=\"1\" class=\"dataframe\">\n",
       "  <thead>\n",
       "    <tr style=\"text-align: right;\">\n",
       "      <th></th>\n",
       "      <th>frequency</th>\n",
       "      <th>bigram/trigram</th>\n",
       "      <th>polarity</th>\n",
       "      <th>subjectivity</th>\n",
       "    </tr>\n",
       "  </thead>\n",
       "  <tbody>\n",
       "    <tr>\n",
       "      <th>0</th>\n",
       "      <td>7</td>\n",
       "      <td>whitelisted mint</td>\n",
       "      <td>0.0</td>\n",
       "      <td>0.0</td>\n",
       "    </tr>\n",
       "    <tr>\n",
       "      <th>1</th>\n",
       "      <td>4</td>\n",
       "      <td>sounds interesting</td>\n",
       "      <td>0.5</td>\n",
       "      <td>0.5</td>\n",
       "    </tr>\n",
       "    <tr>\n",
       "      <th>2</th>\n",
       "      <td>4</td>\n",
       "      <td>per nft</td>\n",
       "      <td>0.0</td>\n",
       "      <td>0.0</td>\n",
       "    </tr>\n",
       "    <tr>\n",
       "      <th>3</th>\n",
       "      <td>4</td>\n",
       "      <td>money back</td>\n",
       "      <td>0.0</td>\n",
       "      <td>0.0</td>\n",
       "    </tr>\n",
       "    <tr>\n",
       "      <th>4</th>\n",
       "      <td>4</td>\n",
       "      <td>good luck</td>\n",
       "      <td>0.7</td>\n",
       "      <td>0.6</td>\n",
       "    </tr>\n",
       "  </tbody>\n",
       "</table>\n",
       "</div>"
      ],
      "text/plain": [
       "   frequency      bigram/trigram  polarity  subjectivity\n",
       "0          7    whitelisted mint       0.0           0.0\n",
       "1          4  sounds interesting       0.5           0.5\n",
       "2          4             per nft       0.0           0.0\n",
       "3          4          money back       0.0           0.0\n",
       "4          4           good luck       0.7           0.6"
      ]
     },
     "execution_count": 36,
     "metadata": {},
     "output_type": "execute_result"
    }
   ],
   "source": [
    "df_ngram_spam.head()"
   ]
  },
  {
   "cell_type": "code",
   "execution_count": 37,
   "id": "a315f682-3301-46cc-b083-46eab9bbd0a4",
   "metadata": {},
   "outputs": [
    {
     "data": {
      "text/html": [
       "<div>\n",
       "<style scoped>\n",
       "    .dataframe tbody tr th:only-of-type {\n",
       "        vertical-align: middle;\n",
       "    }\n",
       "\n",
       "    .dataframe tbody tr th {\n",
       "        vertical-align: top;\n",
       "    }\n",
       "\n",
       "    .dataframe thead th {\n",
       "        text-align: right;\n",
       "    }\n",
       "</style>\n",
       "<table border=\"1\" class=\"dataframe\">\n",
       "  <thead>\n",
       "    <tr style=\"text-align: right;\">\n",
       "      <th></th>\n",
       "      <th>frequency</th>\n",
       "      <th>polarity</th>\n",
       "      <th>subjectivity</th>\n",
       "    </tr>\n",
       "  </thead>\n",
       "  <tbody>\n",
       "    <tr>\n",
       "      <th>count</th>\n",
       "      <td>1645.000000</td>\n",
       "      <td>1645.000000</td>\n",
       "      <td>1645.000000</td>\n",
       "    </tr>\n",
       "    <tr>\n",
       "      <th>mean</th>\n",
       "      <td>1.100304</td>\n",
       "      <td>0.053129</td>\n",
       "      <td>0.150146</td>\n",
       "    </tr>\n",
       "    <tr>\n",
       "      <th>std</th>\n",
       "      <td>0.399551</td>\n",
       "      <td>0.186318</td>\n",
       "      <td>0.266595</td>\n",
       "    </tr>\n",
       "    <tr>\n",
       "      <th>min</th>\n",
       "      <td>1.000000</td>\n",
       "      <td>-0.500000</td>\n",
       "      <td>0.000000</td>\n",
       "    </tr>\n",
       "    <tr>\n",
       "      <th>25%</th>\n",
       "      <td>1.000000</td>\n",
       "      <td>0.000000</td>\n",
       "      <td>0.000000</td>\n",
       "    </tr>\n",
       "    <tr>\n",
       "      <th>50%</th>\n",
       "      <td>1.000000</td>\n",
       "      <td>0.000000</td>\n",
       "      <td>0.000000</td>\n",
       "    </tr>\n",
       "    <tr>\n",
       "      <th>75%</th>\n",
       "      <td>1.000000</td>\n",
       "      <td>0.000000</td>\n",
       "      <td>0.300000</td>\n",
       "    </tr>\n",
       "    <tr>\n",
       "      <th>max</th>\n",
       "      <td>7.000000</td>\n",
       "      <td>1.000000</td>\n",
       "      <td>1.000000</td>\n",
       "    </tr>\n",
       "  </tbody>\n",
       "</table>\n",
       "</div>"
      ],
      "text/plain": [
       "         frequency     polarity  subjectivity\n",
       "count  1645.000000  1645.000000   1645.000000\n",
       "mean      1.100304     0.053129      0.150146\n",
       "std       0.399551     0.186318      0.266595\n",
       "min       1.000000    -0.500000      0.000000\n",
       "25%       1.000000     0.000000      0.000000\n",
       "50%       1.000000     0.000000      0.000000\n",
       "75%       1.000000     0.000000      0.300000\n",
       "max       7.000000     1.000000      1.000000"
      ]
     },
     "execution_count": 37,
     "metadata": {},
     "output_type": "execute_result"
    }
   ],
   "source": [
    "df_ngram_spam.describe()"
   ]
  }
 ],
 "metadata": {
  "kernelspec": {
   "display_name": "Python 3 (ipykernel)",
   "language": "python",
   "name": "python3"
  },
  "language_info": {
   "codemirror_mode": {
    "name": "ipython",
    "version": 3
   },
   "file_extension": ".py",
   "mimetype": "text/x-python",
   "name": "python",
   "nbconvert_exporter": "python",
   "pygments_lexer": "ipython3",
   "version": "3.9.7"
  }
 },
 "nbformat": 4,
 "nbformat_minor": 5
}
