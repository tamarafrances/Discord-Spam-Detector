{
 "cells": [
  {
   "cell_type": "markdown",
   "id": "6fbb644e-0f5c-418d-b910-65ee77b1dc7f",
   "metadata": {},
   "source": [
    "# Capstone Project: Discord Spam Detector\n",
    "\n",
    "### Tamara Frances"
   ]
  },
  {
   "cell_type": "markdown",
   "id": "ba41f2ba-2460-4374-92c1-84a524aa9baf",
   "metadata": {},
   "source": [
    "---\n",
    "\n",
    "<br>"
   ]
  },
  {
   "cell_type": "code",
   "execution_count": 1,
   "id": "35ce3289-6775-43a8-a625-f9caf6775801",
   "metadata": {},
   "outputs": [
    {
     "name": "stdout",
     "output_type": "stream",
     "text": [
      "Requirement already satisfied: textblob in /Users/tamarafrances/opt/anaconda3/lib/python3.9/site-packages (0.17.1)\n",
      "Requirement already satisfied: nltk>=3.1 in /Users/tamarafrances/opt/anaconda3/lib/python3.9/site-packages (from textblob) (3.6.5)\n",
      "Requirement already satisfied: click in /Users/tamarafrances/opt/anaconda3/lib/python3.9/site-packages (from nltk>=3.1->textblob) (8.0.3)\n",
      "Requirement already satisfied: joblib in /Users/tamarafrances/opt/anaconda3/lib/python3.9/site-packages (from nltk>=3.1->textblob) (1.1.0)\n",
      "Requirement already satisfied: regex>=2021.8.3 in /Users/tamarafrances/opt/anaconda3/lib/python3.9/site-packages (from nltk>=3.1->textblob) (2021.8.3)\n",
      "Requirement already satisfied: tqdm in /Users/tamarafrances/opt/anaconda3/lib/python3.9/site-packages (from nltk>=3.1->textblob) (4.62.3)\n",
      "Note: you may need to restart the kernel to use updated packages.\n"
     ]
    }
   ],
   "source": [
    "import pandas as pd\n",
    "import numpy as np\n",
    "import seaborn as sns\n",
    "import matplotlib.pyplot as plt\n",
    "%pip install textblob"
   ]
  },
  {
   "cell_type": "code",
   "execution_count": 2,
   "id": "f90cc22b-7423-48fb-acd4-35306e04bdeb",
   "metadata": {},
   "outputs": [],
   "source": [
    "df_notspam = pd.read_excel('./data/data-for-capstone-limited.xlsx', 'Crypto - not spam') #crypto chat no spam"
   ]
  },
  {
   "cell_type": "code",
   "execution_count": 3,
   "id": "764579d6-3420-4612-baf4-5e3096cbacff",
   "metadata": {},
   "outputs": [],
   "source": [
    "df_spam = pd.read_excel('./data/data-for-capstone-limited.xlsx', 'Spam') #spam"
   ]
  },
  {
   "cell_type": "markdown",
   "id": "826f1be0-4e9a-4f8d-b886-e2bdc33a5dd2",
   "metadata": {},
   "source": [
    "<br>\n",
    "\n",
    "---\n",
    "\n",
    "<br>"
   ]
  },
  {
   "cell_type": "code",
   "execution_count": 4,
   "id": "7600c6d5-c9f7-4693-942c-b47124550e13",
   "metadata": {},
   "outputs": [
    {
     "data": {
      "text/html": [
       "<div>\n",
       "<style scoped>\n",
       "    .dataframe tbody tr th:only-of-type {\n",
       "        vertical-align: middle;\n",
       "    }\n",
       "\n",
       "    .dataframe tbody tr th {\n",
       "        vertical-align: top;\n",
       "    }\n",
       "\n",
       "    .dataframe thead th {\n",
       "        text-align: right;\n",
       "    }\n",
       "</style>\n",
       "<table border=\"1\" class=\"dataframe\">\n",
       "  <thead>\n",
       "    <tr style=\"text-align: right;\">\n",
       "      <th></th>\n",
       "      <th>Text</th>\n",
       "      <th>Spam?</th>\n",
       "    </tr>\n",
       "  </thead>\n",
       "  <tbody>\n",
       "    <tr>\n",
       "      <th>count</th>\n",
       "      <td>270</td>\n",
       "      <td>250</td>\n",
       "    </tr>\n",
       "    <tr>\n",
       "      <th>unique</th>\n",
       "      <td>269</td>\n",
       "      <td>1</td>\n",
       "    </tr>\n",
       "    <tr>\n",
       "      <th>top</th>\n",
       "      <td>I’m curious why they didn’t use a more gas opt...</td>\n",
       "      <td>N</td>\n",
       "    </tr>\n",
       "    <tr>\n",
       "      <th>freq</th>\n",
       "      <td>2</td>\n",
       "      <td>250</td>\n",
       "    </tr>\n",
       "  </tbody>\n",
       "</table>\n",
       "</div>"
      ],
      "text/plain": [
       "                                                     Text Spam?\n",
       "count                                                 270   250\n",
       "unique                                                269     1\n",
       "top     I’m curious why they didn’t use a more gas opt...     N\n",
       "freq                                                    2   250"
      ]
     },
     "execution_count": 4,
     "metadata": {},
     "output_type": "execute_result"
    }
   ],
   "source": [
    "df_notspam.describe()\n",
    "\n",
    "#median wordcount (wc): 14.5, mean wc: 16.2\n",
    "#median text length (tl): 75, mean tl: 83.6"
   ]
  },
  {
   "cell_type": "code",
   "execution_count": 5,
   "id": "5fe49d1c-1129-4b82-a8da-61603dbbb408",
   "metadata": {},
   "outputs": [
    {
     "data": {
      "text/html": [
       "<div>\n",
       "<style scoped>\n",
       "    .dataframe tbody tr th:only-of-type {\n",
       "        vertical-align: middle;\n",
       "    }\n",
       "\n",
       "    .dataframe tbody tr th {\n",
       "        vertical-align: top;\n",
       "    }\n",
       "\n",
       "    .dataframe thead th {\n",
       "        text-align: right;\n",
       "    }\n",
       "</style>\n",
       "<table border=\"1\" class=\"dataframe\">\n",
       "  <thead>\n",
       "    <tr style=\"text-align: right;\">\n",
       "      <th></th>\n",
       "      <th>Text</th>\n",
       "      <th>Spam?</th>\n",
       "    </tr>\n",
       "  </thead>\n",
       "  <tbody>\n",
       "    <tr>\n",
       "      <th>0</th>\n",
       "      <td>they got a privacy setting on there, you might...</td>\n",
       "      <td>N</td>\n",
       "    </tr>\n",
       "    <tr>\n",
       "      <th>1</th>\n",
       "      <td>Not sure if anyone is still interested in step...</td>\n",
       "      <td>N</td>\n",
       "    </tr>\n",
       "    <tr>\n",
       "      <th>2</th>\n",
       "      <td>did anyone win the raffle for Akumu? Winners h...</td>\n",
       "      <td>N</td>\n",
       "    </tr>\n",
       "    <tr>\n",
       "      <th>3</th>\n",
       "      <td>Good stuff! We should see some wild price acti...</td>\n",
       "      <td>N</td>\n",
       "    </tr>\n",
       "    <tr>\n",
       "      <th>4</th>\n",
       "      <td>Makes me happy I'm still holding my foxes and ...</td>\n",
       "      <td>N</td>\n",
       "    </tr>\n",
       "  </tbody>\n",
       "</table>\n",
       "</div>"
      ],
      "text/plain": [
       "                                                Text Spam?\n",
       "0  they got a privacy setting on there, you might...     N\n",
       "1  Not sure if anyone is still interested in step...     N\n",
       "2  did anyone win the raffle for Akumu? Winners h...     N\n",
       "3  Good stuff! We should see some wild price acti...     N\n",
       "4  Makes me happy I'm still holding my foxes and ...     N"
      ]
     },
     "execution_count": 5,
     "metadata": {},
     "output_type": "execute_result"
    }
   ],
   "source": [
    "df_notspam.head()"
   ]
  },
  {
   "cell_type": "code",
   "execution_count": 6,
   "id": "0776fcd4-fcd6-4534-bd3b-d6d60f4ebb26",
   "metadata": {},
   "outputs": [
    {
     "data": {
      "text/plain": [
       "Text      0\n",
       "Spam?    20\n",
       "dtype: int64"
      ]
     },
     "execution_count": 6,
     "metadata": {},
     "output_type": "execute_result"
    }
   ],
   "source": [
    "df_notspam.isnull().sum()"
   ]
  },
  {
   "cell_type": "code",
   "execution_count": 7,
   "id": "10fbb382-3166-44ab-a09a-acaac645c548",
   "metadata": {},
   "outputs": [],
   "source": [
    "df_notspam['Spam?'] = df_notspam['Spam?'].fillna('N') #handles the na"
   ]
  },
  {
   "cell_type": "code",
   "execution_count": 8,
   "id": "fa26ec96-b6be-48ab-b21e-c33a5eaf1ede",
   "metadata": {},
   "outputs": [],
   "source": [
    "df_notspam.columns = df_notspam.columns.str.lower()"
   ]
  },
  {
   "cell_type": "markdown",
   "id": "f713dac6-e569-47ec-89d1-42038626e404",
   "metadata": {},
   "source": [
    "<br>\n",
    "\n",
    "---\n",
    "\n",
    "<br>"
   ]
  },
  {
   "cell_type": "code",
   "execution_count": 9,
   "id": "981c25a5-1997-4641-8c6d-95fab22e4548",
   "metadata": {},
   "outputs": [
    {
     "data": {
      "text/html": [
       "<div>\n",
       "<style scoped>\n",
       "    .dataframe tbody tr th:only-of-type {\n",
       "        vertical-align: middle;\n",
       "    }\n",
       "\n",
       "    .dataframe tbody tr th {\n",
       "        vertical-align: top;\n",
       "    }\n",
       "\n",
       "    .dataframe thead th {\n",
       "        text-align: right;\n",
       "    }\n",
       "</style>\n",
       "<table border=\"1\" class=\"dataframe\">\n",
       "  <thead>\n",
       "    <tr style=\"text-align: right;\">\n",
       "      <th></th>\n",
       "      <th>Text</th>\n",
       "      <th>Spam?</th>\n",
       "    </tr>\n",
       "  </thead>\n",
       "  <tbody>\n",
       "    <tr>\n",
       "      <th>count</th>\n",
       "      <td>78</td>\n",
       "      <td>78</td>\n",
       "    </tr>\n",
       "    <tr>\n",
       "      <th>unique</th>\n",
       "      <td>78</td>\n",
       "      <td>1</td>\n",
       "    </tr>\n",
       "    <tr>\n",
       "      <th>top</th>\n",
       "      <td>Hey! Are you a reseller? If you are chances ar...</td>\n",
       "      <td>Y</td>\n",
       "    </tr>\n",
       "    <tr>\n",
       "      <th>freq</th>\n",
       "      <td>1</td>\n",
       "      <td>78</td>\n",
       "    </tr>\n",
       "  </tbody>\n",
       "</table>\n",
       "</div>"
      ],
      "text/plain": [
       "                                                     Text Spam?\n",
       "count                                                  78    78\n",
       "unique                                                 78     1\n",
       "top     Hey! Are you a reseller? If you are chances ar...     Y\n",
       "freq                                                    1    78"
      ]
     },
     "execution_count": 9,
     "metadata": {},
     "output_type": "execute_result"
    }
   ],
   "source": [
    "df_spam.describe()\n",
    "\n",
    "#median wordcount (wc): 17.5, mean wc: 19.2\n",
    "#median text length (tl): 92, mean tl: 109.7"
   ]
  },
  {
   "cell_type": "code",
   "execution_count": 10,
   "id": "bc37e963-c2f2-4b9a-8ab6-98f2afb8274d",
   "metadata": {},
   "outputs": [
    {
     "data": {
      "text/html": [
       "<div>\n",
       "<style scoped>\n",
       "    .dataframe tbody tr th:only-of-type {\n",
       "        vertical-align: middle;\n",
       "    }\n",
       "\n",
       "    .dataframe tbody tr th {\n",
       "        vertical-align: top;\n",
       "    }\n",
       "\n",
       "    .dataframe thead th {\n",
       "        text-align: right;\n",
       "    }\n",
       "</style>\n",
       "<table border=\"1\" class=\"dataframe\">\n",
       "  <thead>\n",
       "    <tr style=\"text-align: right;\">\n",
       "      <th></th>\n",
       "      <th>Text</th>\n",
       "      <th>Spam?</th>\n",
       "    </tr>\n",
       "  </thead>\n",
       "  <tbody>\n",
       "    <tr>\n",
       "      <th>0</th>\n",
       "      <td>Hey! Are you a reseller? If you are chances ar...</td>\n",
       "      <td>Y</td>\n",
       "    </tr>\n",
       "    <tr>\n",
       "      <th>1</th>\n",
       "      <td>We can refund hundreds of different stores wit...</td>\n",
       "      <td>Y</td>\n",
       "    </tr>\n",
       "    <tr>\n",
       "      <th>2</th>\n",
       "      <td>Well lucky for you our service is here. . Now ...</td>\n",
       "      <td>Y</td>\n",
       "    </tr>\n",
       "    <tr>\n",
       "      <th>3</th>\n",
       "      <td>So no need to worry! Come join now!</td>\n",
       "      <td>Y</td>\n",
       "    </tr>\n",
       "    <tr>\n",
       "      <th>4</th>\n",
       "      <td>CoinGrowBit - Professional digital asset tradi...</td>\n",
       "      <td>Y</td>\n",
       "    </tr>\n",
       "  </tbody>\n",
       "</table>\n",
       "</div>"
      ],
      "text/plain": [
       "                                                Text Spam?\n",
       "0  Hey! Are you a reseller? If you are chances ar...     Y\n",
       "1  We can refund hundreds of different stores wit...     Y\n",
       "2  Well lucky for you our service is here. . Now ...     Y\n",
       "3                So no need to worry! Come join now!     Y\n",
       "4  CoinGrowBit - Professional digital asset tradi...     Y"
      ]
     },
     "execution_count": 10,
     "metadata": {},
     "output_type": "execute_result"
    }
   ],
   "source": [
    "df_spam.head()"
   ]
  },
  {
   "cell_type": "code",
   "execution_count": 11,
   "id": "31436dfe-8774-49df-bd3f-ba92bd133c15",
   "metadata": {},
   "outputs": [
    {
     "data": {
      "text/plain": [
       "Text     0\n",
       "Spam?    0\n",
       "dtype: int64"
      ]
     },
     "execution_count": 11,
     "metadata": {},
     "output_type": "execute_result"
    }
   ],
   "source": [
    "df_spam.isnull().sum()"
   ]
  },
  {
   "cell_type": "code",
   "execution_count": 12,
   "id": "05cfede6-bf9a-443e-b709-93c6da6e828b",
   "metadata": {},
   "outputs": [],
   "source": [
    "df_spam.columns = df_spam.columns.str.lower()"
   ]
  },
  {
   "cell_type": "code",
   "execution_count": 13,
   "id": "80b80bee-7bf1-4fd3-bc76-f8b110bfa3fa",
   "metadata": {},
   "outputs": [],
   "source": [
    "#calculating the wordcount of not spam\n",
    "wc_notspam = []\n",
    "for string in df_notspam['text']:\n",
    "    wc_notspam.append(len(string.strip().split(' ')))  \n",
    "df_notspam['word_count'] = wc_notspam\n",
    "\n",
    "#calculating the text length of not spam\n",
    "length_notspam = []\n",
    "for string in df_notspam['text']:\n",
    "    a = string.strip()\n",
    "    length_notspam.append(len(a))\n",
    "df_notspam['text_length'] = length_notspam\n",
    "\n",
    "#calculating the wordcount of spam\n",
    "wc_spam = []\n",
    "for string in df_spam['text']:\n",
    "    wc_spam.append(len(string.strip().split(' ')))  \n",
    "df_spam['word_count'] = wc_spam\n",
    "\n",
    "\n",
    "#calculating the text length of spam\n",
    "length_notspam = []\n",
    "for string in df_spam['text']:\n",
    "    a = string.strip()\n",
    "    length_notspam.append(len(a))\n",
    "df_spam['text_length'] = length_notspam"
   ]
  },
  {
   "cell_type": "code",
   "execution_count": 14,
   "id": "dd07b927-1dfc-49a2-be59-9eb918502c98",
   "metadata": {
    "tags": []
   },
   "outputs": [
    {
     "data": {
      "image/png": "[encoded data removed]",
      "text/plain": [
       "<Figure size 1080x504 with 2 Axes>"
      ]
     },
     "metadata": {
      "needs_background": "light"
     },
     "output_type": "display_data"
    }
   ],
   "source": [
    "# word count: not spam vs spam\n",
    "\n",
    "r,c = plt.subplots(1, 2, figsize=(15,7))\n",
    "a = sns.histplot(df_notspam['word_count'], ax=c[0]).set_title('Not Spam')\n",
    "b = sns.histplot(df_spam['word_count'], ax=c[1]).set_title('Spam')\n",
    "plt.subplots_adjust(wspace=0.3, hspace=0.1)"
   ]
  },
  {
   "cell_type": "code",
   "execution_count": 15,
   "id": "00737434-da90-4039-841f-d59db4d06a50",
   "metadata": {},
   "outputs": [
    {
     "data": {
      "image/png": "[encoded data removed]",
      "text/plain": [
       "<Figure size 1080x504 with 2 Axes>"
      ]
     },
     "metadata": {
      "needs_background": "light"
     },
     "output_type": "display_data"
    }
   ],
   "source": [
    "# text length: not spam vs spam\n",
    "\n",
    "r,c = plt.subplots(1, 2, figsize=(15,7))\n",
    "a = sns.histplot(df_notspam['text_length'], ax=c[0]).set_title('Not Spam')\n",
    "b = sns.histplot(df_spam['text_length'], ax=c[1]).set_title('Spam')\n",
    "plt.subplots_adjust(wspace=0.3, hspace=0.1)"
   ]
  },
  {
   "cell_type": "markdown",
   "id": "1afebaf5-2bb8-43f2-9fb5-f78c75cfbdcb",
   "metadata": {},
   "source": [
    "<br>\n",
    "\n",
    "---\n",
    "\n",
    "<br>"
   ]
  },
  {
   "cell_type": "code",
   "execution_count": 16,
   "id": "6d0e0dde-30ee-4feb-a89a-dd67ce7e7f49",
   "metadata": {},
   "outputs": [
    {
     "data": {
      "text/html": [
       "<div>\n",
       "<style scoped>\n",
       "    .dataframe tbody tr th:only-of-type {\n",
       "        vertical-align: middle;\n",
       "    }\n",
       "\n",
       "    .dataframe tbody tr th {\n",
       "        vertical-align: top;\n",
       "    }\n",
       "\n",
       "    .dataframe thead th {\n",
       "        text-align: right;\n",
       "    }\n",
       "</style>\n",
       "<table border=\"1\" class=\"dataframe\">\n",
       "  <thead>\n",
       "    <tr style=\"text-align: right;\">\n",
       "      <th></th>\n",
       "      <th>text</th>\n",
       "      <th>spam?</th>\n",
       "      <th>word_count</th>\n",
       "      <th>text_length</th>\n",
       "    </tr>\n",
       "  </thead>\n",
       "  <tbody>\n",
       "    <tr>\n",
       "      <th>0</th>\n",
       "      <td>they got a privacy setting on there, you might...</td>\n",
       "      <td>N</td>\n",
       "      <td>26</td>\n",
       "      <td>131</td>\n",
       "    </tr>\n",
       "    <tr>\n",
       "      <th>1</th>\n",
       "      <td>Not sure if anyone is still interested in step...</td>\n",
       "      <td>N</td>\n",
       "      <td>20</td>\n",
       "      <td>98</td>\n",
       "    </tr>\n",
       "    <tr>\n",
       "      <th>2</th>\n",
       "      <td>did anyone win the raffle for Akumu? Winners h...</td>\n",
       "      <td>N</td>\n",
       "      <td>11</td>\n",
       "      <td>63</td>\n",
       "    </tr>\n",
       "    <tr>\n",
       "      <th>3</th>\n",
       "      <td>Good stuff! We should see some wild price acti...</td>\n",
       "      <td>N</td>\n",
       "      <td>10</td>\n",
       "      <td>57</td>\n",
       "    </tr>\n",
       "    <tr>\n",
       "      <th>4</th>\n",
       "      <td>Makes me happy I'm still holding my foxes and ...</td>\n",
       "      <td>N</td>\n",
       "      <td>11</td>\n",
       "      <td>55</td>\n",
       "    </tr>\n",
       "  </tbody>\n",
       "</table>\n",
       "</div>"
      ],
      "text/plain": [
       "                                                text spam?  word_count  \\\n",
       "0  they got a privacy setting on there, you might...     N          26   \n",
       "1  Not sure if anyone is still interested in step...     N          20   \n",
       "2  did anyone win the raffle for Akumu? Winners h...     N          11   \n",
       "3  Good stuff! We should see some wild price acti...     N          10   \n",
       "4  Makes me happy I'm still holding my foxes and ...     N          11   \n",
       "\n",
       "   text_length  \n",
       "0          131  \n",
       "1           98  \n",
       "2           63  \n",
       "3           57  \n",
       "4           55  "
      ]
     },
     "execution_count": 16,
     "metadata": {},
     "output_type": "execute_result"
    }
   ],
   "source": [
    "#joining dataframes\n",
    "\n",
    "dataframes = [df_notspam, df_spam]\n",
    "df = pd.concat(dataframes)\n",
    "df.head()"
   ]
  },
  {
   "cell_type": "code",
   "execution_count": 17,
   "id": "fd4938ff-c233-42a4-8094-72a5a7ed2b35",
   "metadata": {},
   "outputs": [
    {
     "data": {
      "text/plain": [
       "N    0.775862\n",
       "Y    0.224138\n",
       "Name: spam?, dtype: float64"
      ]
     },
     "execution_count": 17,
     "metadata": {},
     "output_type": "execute_result"
    }
   ],
   "source": [
    "df['spam?'].value_counts(normalize=True)\n",
    "\n",
    "#will need to use balancing techniques"
   ]
  },
  {
   "cell_type": "code",
   "execution_count": 18,
   "id": "42d36f07-ebc8-4a64-93c3-ad928b5c15e0",
   "metadata": {},
   "outputs": [
    {
     "data": {
      "text/plain": [
       "<AxesSubplot:xlabel='spam?', ylabel='Count'>"
      ]
     },
     "execution_count": 18,
     "metadata": {},
     "output_type": "execute_result"
    },
    {
     "data": {
      "image/png": "[encoded data removed]",
      "text/plain": [
       "<Figure size 432x288 with 1 Axes>"
      ]
     },
     "metadata": {
      "needs_background": "light"
     },
     "output_type": "display_data"
    }
   ],
   "source": [
    "sns.histplot(df['spam?'])"
   ]
  },
  {
   "cell_type": "code",
   "execution_count": 19,
   "id": "f93808ea-18fa-41d8-8ce3-e9066a0420db",
   "metadata": {},
   "outputs": [],
   "source": [
    "#calculating the wordcount of the text\n",
    "wc = []\n",
    "for string in df['text']:\n",
    "    wc.append(len(string.strip().split(' ')))  \n",
    "df['word_count'] = wc\n",
    "\n",
    "\n",
    "#calculating the length of the text\n",
    "length = []\n",
    "for string in df['text']:\n",
    "    a = string.strip()\n",
    "    length.append(len(a))\n",
    "df['text_length'] = length\n"
   ]
  },
  {
   "cell_type": "code",
   "execution_count": 20,
   "id": "c0a8e93e-a695-4c73-b64a-e8a5e4311bf5",
   "metadata": {},
   "outputs": [
    {
     "data": {
      "text/html": [
       "<div>\n",
       "<style scoped>\n",
       "    .dataframe tbody tr th:only-of-type {\n",
       "        vertical-align: middle;\n",
       "    }\n",
       "\n",
       "    .dataframe tbody tr th {\n",
       "        vertical-align: top;\n",
       "    }\n",
       "\n",
       "    .dataframe thead th {\n",
       "        text-align: right;\n",
       "    }\n",
       "</style>\n",
       "<table border=\"1\" class=\"dataframe\">\n",
       "  <thead>\n",
       "    <tr style=\"text-align: right;\">\n",
       "      <th></th>\n",
       "      <th>text</th>\n",
       "      <th>spam?</th>\n",
       "      <th>word_count</th>\n",
       "      <th>text_length</th>\n",
       "    </tr>\n",
       "  </thead>\n",
       "  <tbody>\n",
       "    <tr>\n",
       "      <th>0</th>\n",
       "      <td>they got a privacy setting on there, you might...</td>\n",
       "      <td>N</td>\n",
       "      <td>26</td>\n",
       "      <td>131</td>\n",
       "    </tr>\n",
       "    <tr>\n",
       "      <th>1</th>\n",
       "      <td>Not sure if anyone is still interested in step...</td>\n",
       "      <td>N</td>\n",
       "      <td>20</td>\n",
       "      <td>98</td>\n",
       "    </tr>\n",
       "    <tr>\n",
       "      <th>2</th>\n",
       "      <td>did anyone win the raffle for Akumu? Winners h...</td>\n",
       "      <td>N</td>\n",
       "      <td>11</td>\n",
       "      <td>63</td>\n",
       "    </tr>\n",
       "    <tr>\n",
       "      <th>3</th>\n",
       "      <td>Good stuff! We should see some wild price acti...</td>\n",
       "      <td>N</td>\n",
       "      <td>10</td>\n",
       "      <td>57</td>\n",
       "    </tr>\n",
       "    <tr>\n",
       "      <th>4</th>\n",
       "      <td>Makes me happy I'm still holding my foxes and ...</td>\n",
       "      <td>N</td>\n",
       "      <td>11</td>\n",
       "      <td>55</td>\n",
       "    </tr>\n",
       "  </tbody>\n",
       "</table>\n",
       "</div>"
      ],
      "text/plain": [
       "                                                text spam?  word_count  \\\n",
       "0  they got a privacy setting on there, you might...     N          26   \n",
       "1  Not sure if anyone is still interested in step...     N          20   \n",
       "2  did anyone win the raffle for Akumu? Winners h...     N          11   \n",
       "3  Good stuff! We should see some wild price acti...     N          10   \n",
       "4  Makes me happy I'm still holding my foxes and ...     N          11   \n",
       "\n",
       "   text_length  \n",
       "0          131  \n",
       "1           98  \n",
       "2           63  \n",
       "3           57  \n",
       "4           55  "
      ]
     },
     "execution_count": 20,
     "metadata": {},
     "output_type": "execute_result"
    }
   ],
   "source": [
    "df.head()"
   ]
  },
  {
   "cell_type": "markdown",
   "id": "108798fb-28d1-4871-a304-0e97046225f6",
   "metadata": {},
   "source": [
    "<br>\n",
    "\n",
    "---\n",
    "\n",
    "<br>"
   ]
  },
  {
   "cell_type": "code",
   "execution_count": 21,
   "id": "62ff5af0-b7dd-4a0b-ad8b-380ad7c837f2",
   "metadata": {},
   "outputs": [
    {
     "data": {
      "text/plain": [
       "count    348.00000\n",
       "mean      89.41954\n",
       "std       44.97597\n",
       "min        7.00000\n",
       "25%       57.00000\n",
       "50%       79.00000\n",
       "75%      117.25000\n",
       "max      327.00000\n",
       "Name: text_length, dtype: float64"
      ]
     },
     "execution_count": 21,
     "metadata": {},
     "output_type": "execute_result"
    }
   ],
   "source": [
    "#exploring the dataframe\n",
    "\n",
    "df['text_length'].describe()"
   ]
  },
  {
   "cell_type": "code",
   "execution_count": 22,
   "id": "e4e5fc29-8f8d-4a61-8d43-28d2b99641a6",
   "metadata": {},
   "outputs": [
    {
     "data": {
      "text/plain": [
       "count    348.000000\n",
       "mean      16.836207\n",
       "std        8.111198\n",
       "min        2.000000\n",
       "25%       11.000000\n",
       "50%       15.000000\n",
       "75%       22.000000\n",
       "max       44.000000\n",
       "Name: word_count, dtype: float64"
      ]
     },
     "execution_count": 22,
     "metadata": {},
     "output_type": "execute_result"
    }
   ],
   "source": [
    "df['word_count'].describe()"
   ]
  },
  {
   "cell_type": "code",
   "execution_count": 23,
   "id": "e202fab2-fe37-4ed5-af96-0e3ca114897b",
   "metadata": {},
   "outputs": [],
   "source": [
    "import matplotlib.pyplot as plt"
   ]
  },
  {
   "cell_type": "code",
   "execution_count": 24,
   "id": "48eac738-569a-4e17-bc0b-032796ebe7a6",
   "metadata": {},
   "outputs": [
    {
     "data": {
      "text/plain": [
       "0     131\n",
       "1      98\n",
       "2      63\n",
       "3      57\n",
       "4      55\n",
       "     ... \n",
       "73     79\n",
       "74     50\n",
       "75    157\n",
       "76    130\n",
       "77     76\n",
       "Name: text_length, Length: 348, dtype: int64"
      ]
     },
     "execution_count": 24,
     "metadata": {},
     "output_type": "execute_result"
    }
   ],
   "source": [
    "df['text_length']"
   ]
  },
  {
   "cell_type": "code",
   "execution_count": 25,
   "id": "d63635d6-69c5-49da-8b65-2f6d3f42b258",
   "metadata": {},
   "outputs": [
    {
     "data": {
      "image/png": "[encoded data removed]",
      "text/plain": [
       "<Figure size 1080x504 with 2 Axes>"
      ]
     },
     "metadata": {
      "needs_background": "light"
     },
     "output_type": "display_data"
    }
   ],
   "source": [
    "r,c = plt.subplots(1, 2, figsize=(15,7))\n",
    "a = sns.histplot(df['word_count'], ax=c[0])\n",
    "b = sns.histplot(df['text_length'], ax=c[1])\n",
    "plt.subplots_adjust(wspace=0.3, hspace=0.1)\n",
    "\n",
    "#both word count and text length are right skewed among all discord messages"
   ]
  },
  {
   "cell_type": "code",
   "execution_count": 26,
   "id": "7b5461c3-cabb-48d8-ae96-6b11f2fe3b41",
   "metadata": {},
   "outputs": [
    {
     "name": "stderr",
     "output_type": "stream",
     "text": [
      "/Users/tamarafrances/opt/anaconda3/lib/python3.9/site-packages/seaborn/_decorators.py:36: FutureWarning: Pass the following variable as a keyword arg: x. From version 0.12, the only valid positional argument will be `data`, and passing other arguments without an explicit keyword will result in an error or misinterpretation.\n",
      "  warnings.warn(\n",
      "/Users/tamarafrances/opt/anaconda3/lib/python3.9/site-packages/seaborn/_decorators.py:36: FutureWarning: Pass the following variable as a keyword arg: x. From version 0.12, the only valid positional argument will be `data`, and passing other arguments without an explicit keyword will result in an error or misinterpretation.\n",
      "  warnings.warn(\n"
     ]
    },
    {
     "data": {
      "image/png": "[encoded data removed]",
      "text/plain": [
       "<Figure size 1080x504 with 2 Axes>"
      ]
     },
     "metadata": {
      "needs_background": "light"
     },
     "output_type": "display_data"
    }
   ],
   "source": [
    "#boxplots \n",
    "r,c = plt.subplots(1, 2, figsize=(15,7))\n",
    "a = sns.boxplot(df['word_count'], ax=c[0])\n",
    "b = sns.boxplot(df['text_length'], ax=c[1])\n",
    "plt.subplots_adjust(wspace=0.3, hspace=0.1);"
   ]
  },
  {
   "cell_type": "code",
   "execution_count": 27,
   "id": "c70e9e0a-aa95-4ce3-b187-588208dda6ca",
   "metadata": {},
   "outputs": [
    {
     "data": {
      "text/plain": [
       "spam?\n",
       "N    16.181481\n",
       "Y    19.102564\n",
       "Name: word_count, dtype: float64"
      ]
     },
     "execution_count": 27,
     "metadata": {},
     "output_type": "execute_result"
    }
   ],
   "source": [
    "#mean wordcount by not spam/spam\n",
    "\n",
    "df['word_count'].groupby(df['spam?']).mean()"
   ]
  },
  {
   "cell_type": "code",
   "execution_count": 28,
   "id": "eb1830e8-c678-4b31-a4c2-ddfad051b7b7",
   "metadata": {},
   "outputs": [
    {
     "data": {
      "text/plain": [
       "spam?\n",
       "N     83.559259\n",
       "Y    109.705128\n",
       "Name: text_length, dtype: float64"
      ]
     },
     "execution_count": 28,
     "metadata": {},
     "output_type": "execute_result"
    }
   ],
   "source": [
    "#mean text length by not spam/spam\n",
    "\n",
    "df['text_length'].groupby(df['spam?']).mean()"
   ]
  },
  {
   "cell_type": "code",
   "execution_count": 29,
   "id": "ebf76e22-a3e6-4f15-a5da-03b447e90a37",
   "metadata": {},
   "outputs": [],
   "source": [
    "from sklearn.feature_extraction.text import CountVectorizer"
   ]
  },
  {
   "cell_type": "code",
   "execution_count": 30,
   "id": "4fa3946d-0d03-4e9c-a314-1f0779fe809d",
   "metadata": {},
   "outputs": [
    {
     "data": {
      "text/plain": [
       "(348, 1590)"
      ]
     },
     "execution_count": 30,
     "metadata": {},
     "output_type": "execute_result"
    }
   ],
   "source": [
    "cv = CountVectorizer()\n",
    "df_cv = cv.fit_transform(df['text'])\n",
    "df_cv.shape"
   ]
  },
  {
   "cell_type": "code",
   "execution_count": 51,
   "id": "cf32b2db-f0f5-4ec2-b865-12fb02743e92",
   "metadata": {},
   "outputs": [
    {
     "data": {
      "text/plain": [
       "the     225\n",
       "to      178\n",
       "and      94\n",
       "in       91\n",
       "you      88\n",
       "is       85\n",
       "of       81\n",
       "it       76\n",
       "for      71\n",
       "that     58\n",
       "we       56\n",
       "on       50\n",
       "be       48\n",
       "are      47\n",
       "have     47\n",
       "dtype: int64"
      ]
     },
     "execution_count": 51,
     "metadata": {},
     "output_type": "execute_result"
    }
   ],
   "source": [
    "words = pd.DataFrame(df_cv.A, columns=cv.get_feature_names_out())\n",
    "wordcounts = words.sum().sort_values(ascending=False).head(15)\n",
    "wordcounts"
   ]
  },
  {
   "cell_type": "markdown",
   "id": "c8ece0c3-dee6-4823-92f1-03e250550903",
   "metadata": {},
   "source": [
    "<br>\n",
    "\n",
    "---\n",
    "\n",
    "<br>"
   ]
  },
  {
   "cell_type": "code",
   "execution_count": 32,
   "id": "c03c36be-b44e-4eb0-80ab-ae31f9d518a0",
   "metadata": {},
   "outputs": [],
   "source": [
    "#sentimentanalysis\n",
    "#https://towardsdatascience.com/text-analysis-basics-in-python-443282942ec5\n",
    "\n",
    "from textblob import TextBlob\n",
    "df['polarity'] = df['text'].apply(lambda x: TextBlob(x).polarity)\n",
    "df['subjectivity'] = df['text'].apply(lambda x: TextBlob(x).subjectivity)"
   ]
  },
  {
   "cell_type": "code",
   "execution_count": 33,
   "id": "5e81734d-865d-4a6a-82fb-21742680ed3a",
   "metadata": {},
   "outputs": [
    {
     "data": {
      "text/html": [
       "<div>\n",
       "<style scoped>\n",
       "    .dataframe tbody tr th:only-of-type {\n",
       "        vertical-align: middle;\n",
       "    }\n",
       "\n",
       "    .dataframe tbody tr th {\n",
       "        vertical-align: top;\n",
       "    }\n",
       "\n",
       "    .dataframe thead th {\n",
       "        text-align: right;\n",
       "    }\n",
       "</style>\n",
       "<table border=\"1\" class=\"dataframe\">\n",
       "  <thead>\n",
       "    <tr style=\"text-align: right;\">\n",
       "      <th></th>\n",
       "      <th>text</th>\n",
       "      <th>spam?</th>\n",
       "      <th>word_count</th>\n",
       "      <th>text_length</th>\n",
       "      <th>polarity</th>\n",
       "      <th>subjectivity</th>\n",
       "    </tr>\n",
       "  </thead>\n",
       "  <tbody>\n",
       "    <tr>\n",
       "      <th>0</th>\n",
       "      <td>they got a privacy setting on there, you might...</td>\n",
       "      <td>N</td>\n",
       "      <td>26</td>\n",
       "      <td>131</td>\n",
       "      <td>-0.350000</td>\n",
       "      <td>0.900000</td>\n",
       "    </tr>\n",
       "    <tr>\n",
       "      <th>1</th>\n",
       "      <td>Not sure if anyone is still interested in step...</td>\n",
       "      <td>N</td>\n",
       "      <td>20</td>\n",
       "      <td>98</td>\n",
       "      <td>0.000000</td>\n",
       "      <td>0.694444</td>\n",
       "    </tr>\n",
       "    <tr>\n",
       "      <th>2</th>\n",
       "      <td>did anyone win the raffle for Akumu? Winners h...</td>\n",
       "      <td>N</td>\n",
       "      <td>11</td>\n",
       "      <td>63</td>\n",
       "      <td>0.800000</td>\n",
       "      <td>0.400000</td>\n",
       "    </tr>\n",
       "    <tr>\n",
       "      <th>3</th>\n",
       "      <td>Good stuff! We should see some wild price acti...</td>\n",
       "      <td>N</td>\n",
       "      <td>10</td>\n",
       "      <td>57</td>\n",
       "      <td>0.358333</td>\n",
       "      <td>0.366667</td>\n",
       "    </tr>\n",
       "    <tr>\n",
       "      <th>4</th>\n",
       "      <td>Makes me happy I'm still holding my foxes and ...</td>\n",
       "      <td>N</td>\n",
       "      <td>11</td>\n",
       "      <td>55</td>\n",
       "      <td>0.800000</td>\n",
       "      <td>1.000000</td>\n",
       "    </tr>\n",
       "  </tbody>\n",
       "</table>\n",
       "</div>"
      ],
      "text/plain": [
       "                                                text spam?  word_count  \\\n",
       "0  they got a privacy setting on there, you might...     N          26   \n",
       "1  Not sure if anyone is still interested in step...     N          20   \n",
       "2  did anyone win the raffle for Akumu? Winners h...     N          11   \n",
       "3  Good stuff! We should see some wild price acti...     N          10   \n",
       "4  Makes me happy I'm still holding my foxes and ...     N          11   \n",
       "\n",
       "   text_length  polarity  subjectivity  \n",
       "0          131 -0.350000      0.900000  \n",
       "1           98  0.000000      0.694444  \n",
       "2           63  0.800000      0.400000  \n",
       "3           57  0.358333      0.366667  \n",
       "4           55  0.800000      1.000000  "
      ]
     },
     "execution_count": 33,
     "metadata": {},
     "output_type": "execute_result"
    }
   ],
   "source": [
    "df.head()"
   ]
  },
  {
   "cell_type": "code",
   "execution_count": 34,
   "id": "9ed8b581-5c6d-4fbc-b360-7f8b974311bc",
   "metadata": {},
   "outputs": [
    {
     "data": {
      "text/plain": [
       "spam?\n",
       "N    0.110692\n",
       "Y    0.167194\n",
       "Name: polarity, dtype: float64"
      ]
     },
     "execution_count": 34,
     "metadata": {},
     "output_type": "execute_result"
    }
   ],
   "source": [
    "df['polarity'].groupby(df['spam?']).mean() #-1 is negative, 1 is positive\n",
    "\n",
    "#slightly more positive - maybe to convince people to keep reading or click links"
   ]
  },
  {
   "cell_type": "code",
   "execution_count": 35,
   "id": "6b81c3be-d7a4-4cef-a194-c7d12ee0652a",
   "metadata": {},
   "outputs": [
    {
     "data": {
      "text/plain": [
       "spam?\n",
       "N    0.383950\n",
       "Y    0.386179\n",
       "Name: subjectivity, dtype: float64"
      ]
     },
     "execution_count": 35,
     "metadata": {},
     "output_type": "execute_result"
    }
   ],
   "source": [
    "df['subjectivity'].groupby(df['spam?']).mean() #-1 is objective, 1 is subjective\n",
    "\n",
    "#not surprised these are so close since spam bots try to get past spam filters, need to mimic nonspam as much as possible"
   ]
  },
  {
   "cell_type": "markdown",
   "id": "f927e8bc-82b1-4a1d-8770-19424df277c4",
   "metadata": {
    "tags": []
   },
   "source": [
    "<br>\n",
    "\n",
    "---\n",
    "\n",
    "<br>"
   ]
  },
  {
   "cell_type": "code",
   "execution_count": 36,
   "id": "2d4e9fc6-c867-421a-87f3-e3d8c6027397",
   "metadata": {},
   "outputs": [
    {
     "data": {
      "text/html": [
       "<div>\n",
       "<style scoped>\n",
       "    .dataframe tbody tr th:only-of-type {\n",
       "        vertical-align: middle;\n",
       "    }\n",
       "\n",
       "    .dataframe tbody tr th {\n",
       "        vertical-align: top;\n",
       "    }\n",
       "\n",
       "    .dataframe thead th {\n",
       "        text-align: right;\n",
       "    }\n",
       "</style>\n",
       "<table border=\"1\" class=\"dataframe\">\n",
       "  <thead>\n",
       "    <tr style=\"text-align: right;\">\n",
       "      <th></th>\n",
       "      <th>frequency</th>\n",
       "      <th>bigram/trigram</th>\n",
       "    </tr>\n",
       "  </thead>\n",
       "  <tbody>\n",
       "    <tr>\n",
       "      <th>0</th>\n",
       "      <td>3</td>\n",
       "      <td>real question</td>\n",
       "    </tr>\n",
       "    <tr>\n",
       "      <th>1</th>\n",
       "      <td>3</td>\n",
       "      <td>price fluctuations</td>\n",
       "    </tr>\n",
       "    <tr>\n",
       "      <th>2</th>\n",
       "      <td>3</td>\n",
       "      <td>crypto com</td>\n",
       "    </tr>\n",
       "    <tr>\n",
       "      <th>3</th>\n",
       "      <td>2</td>\n",
       "      <td>withdrawing usdc</td>\n",
       "    </tr>\n",
       "    <tr>\n",
       "      <th>4</th>\n",
       "      <td>2</td>\n",
       "      <td>whole new</td>\n",
       "    </tr>\n",
       "    <tr>\n",
       "      <th>...</th>\n",
       "      <td>...</td>\n",
       "      <td>...</td>\n",
       "    </tr>\n",
       "    <tr>\n",
       "      <th>3653</th>\n",
       "      <td>1</td>\n",
       "      <td>10 apy</td>\n",
       "    </tr>\n",
       "    <tr>\n",
       "      <th>3654</th>\n",
       "      <td>1</td>\n",
       "      <td>0x see hash</td>\n",
       "    </tr>\n",
       "    <tr>\n",
       "      <th>3655</th>\n",
       "      <td>1</td>\n",
       "      <td>0x see</td>\n",
       "    </tr>\n",
       "    <tr>\n",
       "      <th>3656</th>\n",
       "      <td>1</td>\n",
       "      <td>002 back 01</td>\n",
       "    </tr>\n",
       "    <tr>\n",
       "      <th>3657</th>\n",
       "      <td>1</td>\n",
       "      <td>002 back</td>\n",
       "    </tr>\n",
       "  </tbody>\n",
       "</table>\n",
       "<p>3658 rows × 2 columns</p>\n",
       "</div>"
      ],
      "text/plain": [
       "      frequency      bigram/trigram\n",
       "0             3       real question\n",
       "1             3  price fluctuations\n",
       "2             3          crypto com\n",
       "3             2    withdrawing usdc\n",
       "4             2           whole new\n",
       "...         ...                 ...\n",
       "3653          1              10 apy\n",
       "3654          1         0x see hash\n",
       "3655          1              0x see\n",
       "3656          1         002 back 01\n",
       "3657          1            002 back\n",
       "\n",
       "[3658 rows x 2 columns]"
      ]
     },
     "execution_count": 36,
     "metadata": {},
     "output_type": "execute_result"
    }
   ],
   "source": [
    "#bigrams and trigrams - not spam\n",
    "#https://towardsdatascience.com/text-analysis-basics-in-python-443282942ec5\n",
    "\n",
    "from nltk.corpus import stopwords\n",
    "stoplist = stopwords.words('english')\n",
    "c_vec = CountVectorizer(stop_words=stoplist, ngram_range=(2,3))\n",
    "# matrix of ngrams\n",
    "ngrams = c_vec.fit_transform(df_notspam['text'])\n",
    "# count frequency of ngrams\n",
    "count_values = ngrams.toarray().sum(axis=0)\n",
    "# list of ngrams\n",
    "vocab = c_vec.vocabulary_\n",
    "df_ngram_notspam = pd.DataFrame(sorted([(count_values[i],k) for k,i in vocab.items()], reverse=True)\n",
    "            ).rename(columns={0: 'frequency', 1:'bigram/trigram'})\n",
    "df_ngram_notspam"
   ]
  },
  {
   "cell_type": "code",
   "execution_count": 41,
   "id": "e39f8525-8983-4807-81ef-dbebc70503fb",
   "metadata": {
    "tags": []
   },
   "outputs": [
    {
     "data": {
      "text/plain": [
       "<AxesSubplot:xlabel='frequency', ylabel='bigram/trigram'>"
      ]
     },
     "execution_count": 41,
     "metadata": {},
     "output_type": "execute_result"
    },
    {
     "data": {
      "image/png": "[encoded data removed]",
      "text/plain": [
       "<Figure size 432x288 with 1 Axes>"
      ]
     },
     "metadata": {
      "needs_background": "light"
     },
     "output_type": "display_data"
    }
   ],
   "source": [
    "sns.barplot(x=\"frequency\", y=\"bigram/trigram\", data=df_ngram_notspam.head(15))"
   ]
  },
  {
   "cell_type": "code",
   "execution_count": 43,
   "id": "1cb5a4ac-d2f3-4b20-91e4-dfd745bc256f",
   "metadata": {},
   "outputs": [],
   "source": [
    "df_ngram_notspam['polarity'] = df_ngram_notspam['bigram/trigram'].apply(lambda x: TextBlob(x).polarity)\n",
    "df_ngram_notspam['subjectivity'] = df_ngram_notspam['bigram/trigram'].apply(lambda x: TextBlob(x).subjectivity)"
   ]
  },
  {
   "cell_type": "code",
   "execution_count": 45,
   "id": "78329f04-9df3-4e29-b21a-5c88f241cb02",
   "metadata": {},
   "outputs": [
    {
     "data": {
      "text/html": [
       "<div>\n",
       "<style scoped>\n",
       "    .dataframe tbody tr th:only-of-type {\n",
       "        vertical-align: middle;\n",
       "    }\n",
       "\n",
       "    .dataframe tbody tr th {\n",
       "        vertical-align: top;\n",
       "    }\n",
       "\n",
       "    .dataframe thead th {\n",
       "        text-align: right;\n",
       "    }\n",
       "</style>\n",
       "<table border=\"1\" class=\"dataframe\">\n",
       "  <thead>\n",
       "    <tr style=\"text-align: right;\">\n",
       "      <th></th>\n",
       "      <th>frequency</th>\n",
       "      <th>bigram/trigram</th>\n",
       "      <th>polarity</th>\n",
       "      <th>subjectivity</th>\n",
       "    </tr>\n",
       "  </thead>\n",
       "  <tbody>\n",
       "    <tr>\n",
       "      <th>0</th>\n",
       "      <td>3</td>\n",
       "      <td>real question</td>\n",
       "      <td>0.200000</td>\n",
       "      <td>0.300000</td>\n",
       "    </tr>\n",
       "    <tr>\n",
       "      <th>1</th>\n",
       "      <td>3</td>\n",
       "      <td>price fluctuations</td>\n",
       "      <td>0.000000</td>\n",
       "      <td>0.000000</td>\n",
       "    </tr>\n",
       "    <tr>\n",
       "      <th>2</th>\n",
       "      <td>3</td>\n",
       "      <td>crypto com</td>\n",
       "      <td>0.000000</td>\n",
       "      <td>0.000000</td>\n",
       "    </tr>\n",
       "    <tr>\n",
       "      <th>3</th>\n",
       "      <td>2</td>\n",
       "      <td>withdrawing usdc</td>\n",
       "      <td>0.000000</td>\n",
       "      <td>0.000000</td>\n",
       "    </tr>\n",
       "    <tr>\n",
       "      <th>4</th>\n",
       "      <td>2</td>\n",
       "      <td>whole new</td>\n",
       "      <td>0.168182</td>\n",
       "      <td>0.427273</td>\n",
       "    </tr>\n",
       "  </tbody>\n",
       "</table>\n",
       "</div>"
      ],
      "text/plain": [
       "   frequency      bigram/trigram  polarity  subjectivity\n",
       "0          3       real question  0.200000      0.300000\n",
       "1          3  price fluctuations  0.000000      0.000000\n",
       "2          3          crypto com  0.000000      0.000000\n",
       "3          2    withdrawing usdc  0.000000      0.000000\n",
       "4          2           whole new  0.168182      0.427273"
      ]
     },
     "execution_count": 45,
     "metadata": {},
     "output_type": "execute_result"
    }
   ],
   "source": [
    "df_ngram_notspam.head()"
   ]
  },
  {
   "cell_type": "code",
   "execution_count": 46,
   "id": "3fb01a37-d451-434d-a268-f43dac67b5a4",
   "metadata": {},
   "outputs": [
    {
     "data": {
      "text/html": [
       "<div>\n",
       "<style scoped>\n",
       "    .dataframe tbody tr th:only-of-type {\n",
       "        vertical-align: middle;\n",
       "    }\n",
       "\n",
       "    .dataframe tbody tr th {\n",
       "        vertical-align: top;\n",
       "    }\n",
       "\n",
       "    .dataframe thead th {\n",
       "        text-align: right;\n",
       "    }\n",
       "</style>\n",
       "<table border=\"1\" class=\"dataframe\">\n",
       "  <thead>\n",
       "    <tr style=\"text-align: right;\">\n",
       "      <th></th>\n",
       "      <th>frequency</th>\n",
       "      <th>polarity</th>\n",
       "      <th>subjectivity</th>\n",
       "    </tr>\n",
       "  </thead>\n",
       "  <tbody>\n",
       "    <tr>\n",
       "      <th>count</th>\n",
       "      <td>3658.000000</td>\n",
       "      <td>3658.000000</td>\n",
       "      <td>3658.000000</td>\n",
       "    </tr>\n",
       "    <tr>\n",
       "      <th>mean</th>\n",
       "      <td>1.017496</td>\n",
       "      <td>0.041009</td>\n",
       "      <td>0.149825</td>\n",
       "    </tr>\n",
       "    <tr>\n",
       "      <th>std</th>\n",
       "      <td>0.137241</td>\n",
       "      <td>0.208029</td>\n",
       "      <td>0.277309</td>\n",
       "    </tr>\n",
       "    <tr>\n",
       "      <th>min</th>\n",
       "      <td>1.000000</td>\n",
       "      <td>-1.000000</td>\n",
       "      <td>0.000000</td>\n",
       "    </tr>\n",
       "    <tr>\n",
       "      <th>25%</th>\n",
       "      <td>1.000000</td>\n",
       "      <td>0.000000</td>\n",
       "      <td>0.000000</td>\n",
       "    </tr>\n",
       "    <tr>\n",
       "      <th>50%</th>\n",
       "      <td>1.000000</td>\n",
       "      <td>0.000000</td>\n",
       "      <td>0.000000</td>\n",
       "    </tr>\n",
       "    <tr>\n",
       "      <th>75%</th>\n",
       "      <td>1.000000</td>\n",
       "      <td>0.000000</td>\n",
       "      <td>0.200000</td>\n",
       "    </tr>\n",
       "    <tr>\n",
       "      <th>max</th>\n",
       "      <td>3.000000</td>\n",
       "      <td>1.000000</td>\n",
       "      <td>1.000000</td>\n",
       "    </tr>\n",
       "  </tbody>\n",
       "</table>\n",
       "</div>"
      ],
      "text/plain": [
       "         frequency     polarity  subjectivity\n",
       "count  3658.000000  3658.000000   3658.000000\n",
       "mean      1.017496     0.041009      0.149825\n",
       "std       0.137241     0.208029      0.277309\n",
       "min       1.000000    -1.000000      0.000000\n",
       "25%       1.000000     0.000000      0.000000\n",
       "50%       1.000000     0.000000      0.000000\n",
       "75%       1.000000     0.000000      0.200000\n",
       "max       3.000000     1.000000      1.000000"
      ]
     },
     "execution_count": 46,
     "metadata": {},
     "output_type": "execute_result"
    }
   ],
   "source": [
    "df_ngram_notspam.describe()"
   ]
  },
  {
   "cell_type": "markdown",
   "id": "5e90513c-9260-458e-8170-f0e52e156311",
   "metadata": {},
   "source": [
    "<br>\n",
    "\n",
    "---\n",
    "\n",
    "<br>"
   ]
  },
  {
   "cell_type": "code",
   "execution_count": 38,
   "id": "18e28133-eaf7-47ce-b9f0-74d2621a2818",
   "metadata": {},
   "outputs": [],
   "source": [
    "#bigrams and trigrams - spam"
   ]
  },
  {
   "cell_type": "code",
   "execution_count": 39,
   "id": "e55644c4-7dfb-48c8-a749-db7bf21821d1",
   "metadata": {},
   "outputs": [
    {
     "data": {
      "text/html": [
       "<div>\n",
       "<style scoped>\n",
       "    .dataframe tbody tr th:only-of-type {\n",
       "        vertical-align: middle;\n",
       "    }\n",
       "\n",
       "    .dataframe tbody tr th {\n",
       "        vertical-align: top;\n",
       "    }\n",
       "\n",
       "    .dataframe thead th {\n",
       "        text-align: right;\n",
       "    }\n",
       "</style>\n",
       "<table border=\"1\" class=\"dataframe\">\n",
       "  <thead>\n",
       "    <tr style=\"text-align: right;\">\n",
       "      <th></th>\n",
       "      <th>frequency</th>\n",
       "      <th>bigram/trigram</th>\n",
       "    </tr>\n",
       "  </thead>\n",
       "  <tbody>\n",
       "    <tr>\n",
       "      <th>0</th>\n",
       "      <td>4</td>\n",
       "      <td>sounds interesting</td>\n",
       "    </tr>\n",
       "    <tr>\n",
       "      <th>1</th>\n",
       "      <td>4</td>\n",
       "      <td>money back</td>\n",
       "    </tr>\n",
       "    <tr>\n",
       "      <th>2</th>\n",
       "      <td>4</td>\n",
       "      <td>get money back</td>\n",
       "    </tr>\n",
       "    <tr>\n",
       "      <th>3</th>\n",
       "      <td>4</td>\n",
       "      <td>get money</td>\n",
       "    </tr>\n",
       "    <tr>\n",
       "      <th>4</th>\n",
       "      <td>3</td>\n",
       "      <td>money back keeping</td>\n",
       "    </tr>\n",
       "    <tr>\n",
       "      <th>...</th>\n",
       "      <td>...</td>\n",
       "      <td>...</td>\n",
       "    </tr>\n",
       "    <tr>\n",
       "      <th>1238</th>\n",
       "      <td>1</td>\n",
       "      <td>01 999</td>\n",
       "    </tr>\n",
       "    <tr>\n",
       "      <th>1239</th>\n",
       "      <td>1</td>\n",
       "      <td>000 guaranteed wl</td>\n",
       "    </tr>\n",
       "    <tr>\n",
       "      <th>1240</th>\n",
       "      <td>1</td>\n",
       "      <td>000 guaranteed</td>\n",
       "    </tr>\n",
       "    <tr>\n",
       "      <th>1241</th>\n",
       "      <td>1</td>\n",
       "      <td>000 eth party</td>\n",
       "    </tr>\n",
       "    <tr>\n",
       "      <th>1242</th>\n",
       "      <td>1</td>\n",
       "      <td>000 eth</td>\n",
       "    </tr>\n",
       "  </tbody>\n",
       "</table>\n",
       "<p>1243 rows × 2 columns</p>\n",
       "</div>"
      ],
      "text/plain": [
       "      frequency      bigram/trigram\n",
       "0             4  sounds interesting\n",
       "1             4          money back\n",
       "2             4      get money back\n",
       "3             4           get money\n",
       "4             3  money back keeping\n",
       "...         ...                 ...\n",
       "1238          1              01 999\n",
       "1239          1   000 guaranteed wl\n",
       "1240          1      000 guaranteed\n",
       "1241          1       000 eth party\n",
       "1242          1             000 eth\n",
       "\n",
       "[1243 rows x 2 columns]"
      ]
     },
     "execution_count": 39,
     "metadata": {},
     "output_type": "execute_result"
    }
   ],
   "source": [
    "c_vec = CountVectorizer(stop_words=stoplist, ngram_range=(2,3))\n",
    "# matrix of ngrams\n",
    "ngrams = c_vec.fit_transform(df_spam['text'])\n",
    "# count frequency of ngrams\n",
    "count_values = ngrams.toarray().sum(axis=0)\n",
    "# list of ngrams\n",
    "vocab = c_vec.vocabulary_\n",
    "df_ngram_spam = pd.DataFrame(sorted([(count_values[i],k) for k,i in vocab.items()], reverse=True)\n",
    "            ).rename(columns={0: 'frequency', 1:'bigram/trigram'})\n",
    "df_ngram_spam"
   ]
  },
  {
   "cell_type": "code",
   "execution_count": 42,
   "id": "67bb87a7-0245-4db5-9358-015d00c9f001",
   "metadata": {},
   "outputs": [
    {
     "data": {
      "text/plain": [
       "<AxesSubplot:xlabel='frequency', ylabel='bigram/trigram'>"
      ]
     },
     "execution_count": 42,
     "metadata": {},
     "output_type": "execute_result"
    },
    {
     "data": {
      "image/png": "[encoded data removed]",
      "text/plain": [
       "<Figure size 432x288 with 1 Axes>"
      ]
     },
     "metadata": {
      "needs_background": "light"
     },
     "output_type": "display_data"
    }
   ],
   "source": [
    "sns.barplot(x=\"frequency\", y=\"bigram/trigram\", data=df_ngram_spam.head(15))"
   ]
  },
  {
   "cell_type": "code",
   "execution_count": 48,
   "id": "8a6c02f2-6610-4703-8cea-e20f523537b0",
   "metadata": {},
   "outputs": [],
   "source": [
    "df_ngram_spam['polarity'] = df_ngram_spam['bigram/trigram'].apply(lambda x: TextBlob(x).polarity)\n",
    "df_ngram_spam['subjectivity'] = df_ngram_spam['bigram/trigram'].apply(lambda x: TextBlob(x).subjectivity)"
   ]
  },
  {
   "cell_type": "code",
   "execution_count": 49,
   "id": "e06a20a3-7311-4838-945c-bfe48baf7810",
   "metadata": {},
   "outputs": [
    {
     "data": {
      "text/html": [
       "<div>\n",
       "<style scoped>\n",
       "    .dataframe tbody tr th:only-of-type {\n",
       "        vertical-align: middle;\n",
       "    }\n",
       "\n",
       "    .dataframe tbody tr th {\n",
       "        vertical-align: top;\n",
       "    }\n",
       "\n",
       "    .dataframe thead th {\n",
       "        text-align: right;\n",
       "    }\n",
       "</style>\n",
       "<table border=\"1\" class=\"dataframe\">\n",
       "  <thead>\n",
       "    <tr style=\"text-align: right;\">\n",
       "      <th></th>\n",
       "      <th>frequency</th>\n",
       "      <th>bigram/trigram</th>\n",
       "      <th>polarity</th>\n",
       "      <th>subjectivity</th>\n",
       "    </tr>\n",
       "  </thead>\n",
       "  <tbody>\n",
       "    <tr>\n",
       "      <th>0</th>\n",
       "      <td>4</td>\n",
       "      <td>sounds interesting</td>\n",
       "      <td>0.5</td>\n",
       "      <td>0.5</td>\n",
       "    </tr>\n",
       "    <tr>\n",
       "      <th>1</th>\n",
       "      <td>4</td>\n",
       "      <td>money back</td>\n",
       "      <td>0.0</td>\n",
       "      <td>0.0</td>\n",
       "    </tr>\n",
       "    <tr>\n",
       "      <th>2</th>\n",
       "      <td>4</td>\n",
       "      <td>get money back</td>\n",
       "      <td>0.0</td>\n",
       "      <td>0.0</td>\n",
       "    </tr>\n",
       "    <tr>\n",
       "      <th>3</th>\n",
       "      <td>4</td>\n",
       "      <td>get money</td>\n",
       "      <td>0.0</td>\n",
       "      <td>0.0</td>\n",
       "    </tr>\n",
       "    <tr>\n",
       "      <th>4</th>\n",
       "      <td>3</td>\n",
       "      <td>money back keeping</td>\n",
       "      <td>0.0</td>\n",
       "      <td>0.0</td>\n",
       "    </tr>\n",
       "  </tbody>\n",
       "</table>\n",
       "</div>"
      ],
      "text/plain": [
       "   frequency      bigram/trigram  polarity  subjectivity\n",
       "0          4  sounds interesting       0.5           0.5\n",
       "1          4          money back       0.0           0.0\n",
       "2          4      get money back       0.0           0.0\n",
       "3          4           get money       0.0           0.0\n",
       "4          3  money back keeping       0.0           0.0"
      ]
     },
     "execution_count": 49,
     "metadata": {},
     "output_type": "execute_result"
    }
   ],
   "source": [
    "df_ngram_spam.head()"
   ]
  },
  {
   "cell_type": "code",
   "execution_count": 50,
   "id": "a315f682-3301-46cc-b083-46eab9bbd0a4",
   "metadata": {},
   "outputs": [
    {
     "data": {
      "text/html": [
       "<div>\n",
       "<style scoped>\n",
       "    .dataframe tbody tr th:only-of-type {\n",
       "        vertical-align: middle;\n",
       "    }\n",
       "\n",
       "    .dataframe tbody tr th {\n",
       "        vertical-align: top;\n",
       "    }\n",
       "\n",
       "    .dataframe thead th {\n",
       "        text-align: right;\n",
       "    }\n",
       "</style>\n",
       "<table border=\"1\" class=\"dataframe\">\n",
       "  <thead>\n",
       "    <tr style=\"text-align: right;\">\n",
       "      <th></th>\n",
       "      <th>frequency</th>\n",
       "      <th>polarity</th>\n",
       "      <th>subjectivity</th>\n",
       "    </tr>\n",
       "  </thead>\n",
       "  <tbody>\n",
       "    <tr>\n",
       "      <th>count</th>\n",
       "      <td>1243.000000</td>\n",
       "      <td>1243.000000</td>\n",
       "      <td>1243.000000</td>\n",
       "    </tr>\n",
       "    <tr>\n",
       "      <th>mean</th>\n",
       "      <td>1.066774</td>\n",
       "      <td>0.050791</td>\n",
       "      <td>0.159944</td>\n",
       "    </tr>\n",
       "    <tr>\n",
       "      <th>std</th>\n",
       "      <td>0.307525</td>\n",
       "      <td>0.188243</td>\n",
       "      <td>0.274664</td>\n",
       "    </tr>\n",
       "    <tr>\n",
       "      <th>min</th>\n",
       "      <td>1.000000</td>\n",
       "      <td>-0.500000</td>\n",
       "      <td>0.000000</td>\n",
       "    </tr>\n",
       "    <tr>\n",
       "      <th>25%</th>\n",
       "      <td>1.000000</td>\n",
       "      <td>0.000000</td>\n",
       "      <td>0.000000</td>\n",
       "    </tr>\n",
       "    <tr>\n",
       "      <th>50%</th>\n",
       "      <td>1.000000</td>\n",
       "      <td>0.000000</td>\n",
       "      <td>0.000000</td>\n",
       "    </tr>\n",
       "    <tr>\n",
       "      <th>75%</th>\n",
       "      <td>1.000000</td>\n",
       "      <td>0.000000</td>\n",
       "      <td>0.310714</td>\n",
       "    </tr>\n",
       "    <tr>\n",
       "      <th>max</th>\n",
       "      <td>4.000000</td>\n",
       "      <td>1.000000</td>\n",
       "      <td>1.000000</td>\n",
       "    </tr>\n",
       "  </tbody>\n",
       "</table>\n",
       "</div>"
      ],
      "text/plain": [
       "         frequency     polarity  subjectivity\n",
       "count  1243.000000  1243.000000   1243.000000\n",
       "mean      1.066774     0.050791      0.159944\n",
       "std       0.307525     0.188243      0.274664\n",
       "min       1.000000    -0.500000      0.000000\n",
       "25%       1.000000     0.000000      0.000000\n",
       "50%       1.000000     0.000000      0.000000\n",
       "75%       1.000000     0.000000      0.310714\n",
       "max       4.000000     1.000000      1.000000"
      ]
     },
     "execution_count": 50,
     "metadata": {},
     "output_type": "execute_result"
    }
   ],
   "source": [
    "df_ngram_spam.describe()"
   ]
  },
  {
   "cell_type": "code",
   "execution_count": null,
   "id": "d876f0fb-5e9a-48ae-89f5-a361ec2b6b8d",
   "metadata": {},
   "outputs": [],
   "source": []
  }
 ],
 "metadata": {
  "kernelspec": {
   "display_name": "Python 3 (ipykernel)",
   "language": "python",
   "name": "python3"
  },
  "language_info": {
   "codemirror_mode": {
    "name": "ipython",
    "version": 3
   },
   "file_extension": ".py",
   "mimetype": "text/x-python",
   "name": "python",
   "nbconvert_exporter": "python",
   "pygments_lexer": "ipython3",
   "version": "3.9.7"
  }
 },
 "nbformat": 4,
 "nbformat_minor": 5
}
