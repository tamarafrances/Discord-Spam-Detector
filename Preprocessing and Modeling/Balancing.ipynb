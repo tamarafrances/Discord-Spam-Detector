{
 "cells": [
  {
   "cell_type": "markdown",
   "id": "4cf24f8d-f2bf-4589-82fd-ac89462b6ad8",
   "metadata": {},
   "source": [
    "# Balancing: Discord Spam Detector\n",
    "\n",
    "### Tamara Frances\n",
    "<br>\n",
    "\n",
    "---\n",
    "<br>"
   ]
  },
  {
   "cell_type": "code",
   "execution_count": 1,
   "id": "aef4822c-a00d-4297-8e14-db037a1be78c",
   "metadata": {},
   "outputs": [],
   "source": [
    "import pandas as pd\n",
    "import numpy as np\n",
    "import matplotlib.pyplot as plt\n",
    "\n",
    "from sklearn.model_selection import train_test_split\n",
    "from sklearn.linear_model import LogisticRegression\n",
    "from sklearn.feature_extraction.text import CountVectorizer\n",
    "from sklearn.ensemble import RandomForestClassifier\n",
    "from sklearn.model_selection import GridSearchCV\n",
    "from sklearn.naive_bayes import MultinomialNB\n",
    "from sklearn.metrics import ConfusionMatrixDisplay, recall_score, f1_score\n",
    "from sklearn.pipeline import Pipeline\n",
    "from sklearn.metrics import classification_report"
   ]
  },
  {
   "cell_type": "code",
   "execution_count": 2,
   "id": "464713cc-d3ae-495f-9875-3c53617adcb0",
   "metadata": {},
   "outputs": [],
   "source": [
    "df = pd.read_excel('../data/data-for-capstone.xlsx')\n",
    "df.columns = df.columns.str.lower()\n",
    "df = df.rename(columns={'spam?':'spam'})"
   ]
  },
  {
   "cell_type": "markdown",
   "id": "0b65868d-4761-4b55-aa83-5b3fe4622c78",
   "metadata": {},
   "source": [
    "<br>\n",
    "\n",
    "---\n",
    "\n",
    "<br>"
   ]
  },
  {
   "cell_type": "code",
   "execution_count": 3,
   "id": "fdac8d67-c6ef-42fc-aaa2-60ceb5893c5a",
   "metadata": {},
   "outputs": [],
   "source": [
    "X = df['text']\n",
    "y = df['spam']\n",
    "X_train, X_test, y_train, y_test = train_test_split(X,y,stratify = y, random_state=42)"
   ]
  },
  {
   "cell_type": "code",
   "execution_count": 4,
   "id": "c8ed8b07-f86c-4092-96de-13743ae86508",
   "metadata": {},
   "outputs": [
    {
     "data": {
      "text/plain": [
       "N    0.863991\n",
       "Y    0.136009\n",
       "Name: spam, dtype: float64"
      ]
     },
     "execution_count": 4,
     "metadata": {},
     "output_type": "execute_result"
    }
   ],
   "source": [
    "y.value_counts(normalize=True)"
   ]
  },
  {
   "cell_type": "markdown",
   "id": "ab767419-e910-40e4-b845-1e384a5a9ccf",
   "metadata": {},
   "source": [
    "The data is imbalanced enough to warrant exploring a balancing technique. "
   ]
  },
  {
   "cell_type": "markdown",
   "id": "60542169-93cc-4295-839a-2ff668727de7",
   "metadata": {},
   "source": [
    "<br>\n",
    "<br>\n",
    "\n",
    "---\n",
    "\n",
    "<br>\n",
    "<br>"
   ]
  },
  {
   "cell_type": "markdown",
   "id": "cd400886-4ecf-4d45-b0bc-469a36809c64",
   "metadata": {},
   "source": [
    "<br>\n",
    "\n",
    "### Balancing with Logistic Regression - Random Oversampling"
   ]
  },
  {
   "cell_type": "code",
   "execution_count": 5,
   "id": "421853dd-1fe8-4c00-85a1-e7126062ea8c",
   "metadata": {},
   "outputs": [
    {
     "name": "stdout",
     "output_type": "stream",
     "text": [
      "lr_imb best params :  {'cv__min_df': 2, 'cv__ngram_range': (1, 1), 'lr__C': 0.25, 'ros__sampling_strategy': 1}\n",
      "Classification Report:\n",
      "              precision    recall  f1-score   support\n",
      "\n",
      "           N       0.95      0.96      0.95       194\n",
      "           Y       0.72      0.68      0.70        31\n",
      "\n",
      "    accuracy                           0.92       225\n",
      "   macro avg       0.84      0.82      0.83       225\n",
      "weighted avg       0.92      0.92      0.92       225\n",
      "\n"
     ]
    },
    {
     "data": {
      "image/png": "[encoded data removed]",
      "text/plain": [
       "<Figure size 432x288 with 2 Axes>"
      ]
     },
     "metadata": {
      "needs_background": "light"
     },
     "output_type": "display_data"
    }
   ],
   "source": [
    "from imblearn.pipeline import Pipeline \n",
    "from imblearn.over_sampling import RandomOverSampler\n",
    "\n",
    "lr_pipe = Pipeline([\n",
    "    ('cv', CountVectorizer(stop_words='english')),\n",
    "    ('ros', RandomOverSampler(random_state=42)),\n",
    "    ('lr', LogisticRegression(max_iter=10_000))\n",
    "])\n",
    "\n",
    "parameters = {\n",
    "    'cv__min_df': (1,2,3),\n",
    "    'cv__ngram_range': ((1, 1), (1, 2), (2,2)),\n",
    "    'ros__sampling_strategy': [.25, .5, .75, 1],\n",
    "    'lr__C': [0.25, 0.5, 0.75, 1.0]}\n",
    "    \n",
    "\n",
    "lr_imb = GridSearchCV(lr_pipe, param_grid = parameters, n_jobs=-1)\n",
    "lr_imb.fit(X_train, y_train)\n",
    "\n",
    "print('lr_imb best params : ', lr_imb.best_params_)\n",
    "\n",
    "lr_cr = classification_report(y_test, lr_imb.predict(X_test))\n",
    "print(\"Classification Report:\")\n",
    "print(lr_cr)\n",
    "\n",
    "ConfusionMatrixDisplay.from_estimator(lr_imb, X_test, y_test, cmap='Blues');"
   ]
  },
  {
   "cell_type": "markdown",
   "id": "25d884d2-0dbd-4ceb-b85c-1456629ed1e7",
   "metadata": {},
   "source": [
    "<br>\n",
    "\n",
    "### Balancing with Random Forest Classifier - Random Oversampling"
   ]
  },
  {
   "cell_type": "code",
   "execution_count": 6,
   "id": "f5134b98-56dd-4315-b196-3052c9ac0550",
   "metadata": {},
   "outputs": [
    {
     "name": "stdout",
     "output_type": "stream",
     "text": [
      "rfc_imb best params :  {'cv__min_df': 1, 'cv__ngram_range': (1, 1), 'rfc__max_depth': None, 'rfc__min_samples_leaf': 1, 'rfc__n_estimators': 300, 'ros__sampling_strategy': 0.75}\n",
      "Classification Report:\n",
      "              precision    recall  f1-score   support\n",
      "\n",
      "           N       0.94      0.97      0.96       194\n",
      "           Y       0.80      0.65      0.71        31\n",
      "\n",
      "    accuracy                           0.93       225\n",
      "   macro avg       0.87      0.81      0.84       225\n",
      "weighted avg       0.93      0.93      0.93       225\n",
      "\n"
     ]
    },
    {
     "data": {
      "image/png": "[encoded data removed]",
      "text/plain": [
       "<Figure size 432x288 with 2 Axes>"
      ]
     },
     "metadata": {
      "needs_background": "light"
     },
     "output_type": "display_data"
    }
   ],
   "source": [
    "rfc_pipe = Pipeline([\n",
    "    ('cv', CountVectorizer(stop_words='english')),\n",
    "    ('ros', RandomOverSampler(random_state=42)),\n",
    "    ('rfc', RandomForestClassifier(random_state=42))\n",
    "])\n",
    "\n",
    "parameters = {\n",
    "    'cv__min_df': (1,2,3),\n",
    "    'cv__ngram_range': ((1, 1), (1, 2), (2,2)),\n",
    "    'ros__sampling_strategy': [.25, .5, .75, 1],\n",
    "    'rfc__n_estimators': (300, 500),\n",
    "    'rfc__max_depth': (None, 3, 5),\n",
    "    'rfc__min_samples_leaf': (1, 3)\n",
    "}\n",
    "\n",
    "\n",
    "rfc_imb = GridSearchCV(rfc_pipe, param_grid = parameters, n_jobs=-1)\n",
    "rfc_imb.fit(X_train, y_train)\n",
    "\n",
    "print('rfc_imb best params : ', rfc_imb.best_params_)\n",
    "\n",
    "rfc_cr = classification_report(y_test, rfc_imb.predict(X_test))\n",
    "print(\"Classification Report:\")\n",
    "print(rfc_cr)\n",
    "\n",
    "ConfusionMatrixDisplay.from_estimator(rfc_imb, X_test, y_test, cmap='Blues');"
   ]
  },
  {
   "cell_type": "markdown",
   "id": "28574e69-7b86-4fc3-b182-2efa9aab003f",
   "metadata": {},
   "source": [
    "<br>\n",
    "\n",
    "### Balancing with Multinomial Naive Bayes - Random Oversampling"
   ]
  },
  {
   "cell_type": "code",
   "execution_count": 7,
   "id": "e564e1cf-84d4-46ac-96e6-0043c82d26a1",
   "metadata": {},
   "outputs": [
    {
     "name": "stdout",
     "output_type": "stream",
     "text": [
      "mnb_imb best params :  {'cv__min_df': 1, 'cv__ngram_range': (1, 1), 'mnb__alpha': 0.1, 'ros__sampling_strategy': 0.25}\n",
      "Classification Report:\n",
      "              precision    recall  f1-score   support\n",
      "\n",
      "           N       0.95      0.94      0.95       194\n",
      "           Y       0.67      0.71      0.69        31\n",
      "\n",
      "    accuracy                           0.91       225\n",
      "   macro avg       0.81      0.83      0.82       225\n",
      "weighted avg       0.91      0.91      0.91       225\n",
      "\n"
     ]
    },
    {
     "data": {
      "image/png": "[encoded data removed]",
      "text/plain": [
       "<Figure size 432x288 with 2 Axes>"
      ]
     },
     "metadata": {
      "needs_background": "light"
     },
     "output_type": "display_data"
    }
   ],
   "source": [
    "mnb_pipe = Pipeline([\n",
    "    ('cv', CountVectorizer(stop_words='english')),\n",
    "    ('ros', RandomOverSampler(random_state=42)),\n",
    "    ('mnb', MultinomialNB())\n",
    "])\n",
    "\n",
    "parameters = {\n",
    "    'cv__min_df': (1,2,3),\n",
    "    'cv__ngram_range': ((1, 1), (1, 2), (2,2)),\n",
    "    'ros__sampling_strategy': [.25, .5, .75, 1],\n",
    "    'mnb__alpha': [0.01, 0.05, 0.1]\n",
    "}\n",
    "\n",
    "mnb_imb = GridSearchCV(mnb_pipe, param_grid = parameters, n_jobs=-1)\n",
    "mnb_imb.fit(X_train, y_train)\n",
    "\n",
    "print('mnb_imb best params : ', mnb_imb.best_params_)\n",
    "\n",
    "mnb_cr = classification_report(y_test, mnb_imb.predict(X_test))\n",
    "print(\"Classification Report:\")\n",
    "print(mnb_cr)\n",
    "\n",
    "ConfusionMatrixDisplay.from_estimator(mnb_imb, X_test, y_test, cmap='Blues');"
   ]
  },
  {
   "cell_type": "markdown",
   "id": "d11c4111-aff4-48b1-bfa9-fe317ee7abf3",
   "metadata": {},
   "source": [
    "I expected that using a balancing technique (especially including this technique within the gridsearching) would give me even better results among the success metrics I was interested in - F1-score and Recall, but that doesn't seem to be the case."
   ]
  }
 ],
 "metadata": {
  "kernelspec": {
   "display_name": "Python 3 (ipykernel)",
   "language": "python",
   "name": "python3"
  },
  "language_info": {
   "codemirror_mode": {
    "name": "ipython",
    "version": 3
   },
   "file_extension": ".py",
   "mimetype": "text/x-python",
   "name": "python",
   "nbconvert_exporter": "python",
   "pygments_lexer": "ipython3",
   "version": "3.9.7"
  }
 },
 "nbformat": 4,
 "nbformat_minor": 5
}
