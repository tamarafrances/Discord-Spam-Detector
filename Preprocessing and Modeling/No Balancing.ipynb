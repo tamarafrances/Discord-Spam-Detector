{
 "cells": [
  {
   "cell_type": "markdown",
   "id": "47f9fcb7-844e-46a3-8afb-cc4e04faa2f1",
   "metadata": {},
   "source": [
    "# No Balancing: Discord Spam Detector\n",
    "\n",
    "### Tamara Frances\n",
    "<br>\n",
    "\n",
    "---\n",
    "<br>"
   ]
  },
  {
   "cell_type": "code",
   "execution_count": 1,
   "id": "aef4822c-a00d-4297-8e14-db037a1be78c",
   "metadata": {},
   "outputs": [],
   "source": [
    "import pandas as pd\n",
    "import numpy as np\n",
    "import matplotlib.pyplot as plt\n",
    "\n",
    "from sklearn.model_selection import train_test_split\n",
    "from sklearn.linear_model import LogisticRegression\n",
    "from sklearn.feature_extraction.text import CountVectorizer\n",
    "from sklearn.ensemble import RandomForestClassifier\n",
    "from sklearn.model_selection import GridSearchCV\n",
    "from sklearn.naive_bayes import MultinomialNB\n",
    "from sklearn.metrics import ConfusionMatrixDisplay, recall_score, f1_score\n",
    "from sklearn.pipeline import Pipeline\n",
    "from sklearn.metrics import classification_report"
   ]
  },
  {
   "cell_type": "code",
   "execution_count": 2,
   "id": "2520e661-0e0d-4c1b-8905-34818bd0d912",
   "metadata": {},
   "outputs": [],
   "source": [
    "df = pd.read_excel('../data/data-for-capstone.xlsx')\n",
    "df.columns = df.columns.str.lower()\n",
    "df = df.rename(columns={'spam?':'spam'})"
   ]
  },
  {
   "cell_type": "markdown",
   "id": "0b65868d-4761-4b55-aa83-5b3fe4622c78",
   "metadata": {},
   "source": [
    "<br>\n",
    "\n",
    "---\n",
    "\n",
    "<br>"
   ]
  },
  {
   "cell_type": "markdown",
   "id": "155233b8-32c0-4d61-8495-4e00d1c60a28",
   "metadata": {},
   "source": [
    "## Baseline\n",
    "<br>"
   ]
  },
  {
   "cell_type": "code",
   "execution_count": 3,
   "id": "fdac8d67-c6ef-42fc-aaa2-60ceb5893c5a",
   "metadata": {},
   "outputs": [],
   "source": [
    "X = df['text']\n",
    "y = df['spam']\n",
    "X_train, X_test, y_train, y_test = train_test_split(X,y,stratify = y, random_state=42)"
   ]
  },
  {
   "cell_type": "code",
   "execution_count": 4,
   "id": "c8ed8b07-f86c-4092-96de-13743ae86508",
   "metadata": {},
   "outputs": [
    {
     "data": {
      "text/plain": [
       "N    0.87963\n",
       "Y    0.12037\n",
       "Name: spam, dtype: float64"
      ]
     },
     "execution_count": 4,
     "metadata": {},
     "output_type": "execute_result"
    }
   ],
   "source": [
    "y.value_counts(normalize=True)"
   ]
  },
  {
   "cell_type": "markdown",
   "id": "60542169-93cc-4295-839a-2ff668727de7",
   "metadata": {},
   "source": [
    "<br>\n",
    "<br>\n",
    "\n",
    "---\n",
    "\n",
    "<br>\n",
    "<br>"
   ]
  },
  {
   "cell_type": "markdown",
   "id": "8b732413-0c30-4917-b664-5b67fdab06ff",
   "metadata": {},
   "source": [
    "## Models\n",
    "<br>"
   ]
  },
  {
   "cell_type": "code",
   "execution_count": 5,
   "id": "19156f42-bf97-4561-a258-20e6e0e68621",
   "metadata": {},
   "outputs": [],
   "source": [
    "cv = CountVectorizer()\n",
    "X_train_cv = cv.fit_transform(X_train)\n",
    "X_test_cv = cv.transform(X_test)"
   ]
  },
  {
   "cell_type": "markdown",
   "id": "1258bfa1-fb65-44c0-b0ad-122d013407eb",
   "metadata": {},
   "source": [
    "<br>\n",
    "\n",
    "### Logistic Regression"
   ]
  },
  {
   "cell_type": "code",
   "execution_count": 6,
   "id": "02477eee-ea93-415a-a7fe-82d10ac54aa4",
   "metadata": {},
   "outputs": [
    {
     "name": "stdout",
     "output_type": "stream",
     "text": [
      "train score: 0.9938271604938271 , test score: 0.9135802469135802\n",
      "The accuracy score with hyperparameter tuning increased by : 0.0\n",
      "Classification Report:\n",
      "              precision    recall  f1-score   support\n",
      "\n",
      "           N       0.92      0.99      0.95       143\n",
      "           Y       0.86      0.32      0.46        19\n",
      "\n",
      "    accuracy                           0.91       162\n",
      "   macro avg       0.89      0.65      0.71       162\n",
      "weighted avg       0.91      0.91      0.90       162\n",
      "\n"
     ]
    },
    {
     "data": {
      "image/png": "[encoded data removed]",
      "text/plain": [
       "<Figure size 432x288 with 2 Axes>"
      ]
     },
     "metadata": {
      "needs_background": "light"
     },
     "output_type": "display_data"
    }
   ],
   "source": [
    "lr = LogisticRegression(max_iter=10_000)\n",
    "lr.fit(X_train_cv, y_train)\n",
    "print('train score:',lr.score(X_train_cv, y_train), ', test score:',lr.score(X_test_cv, y_test))\n",
    "\n",
    "pipeline = Pipeline([\n",
    "    ('cv', CountVectorizer(stop_words='english')),\n",
    "    ('lr', LogisticRegression(max_iter = 10_000))\n",
    "])\n",
    "\n",
    "parameters = {\n",
    "    'cv__min_df': (1,2),\n",
    "    'cv__ngram_range': ((1, 1), (1, 2)),\n",
    "    'lr__C': [0.25, 0.5, 0.75, 1.0]}\n",
    "    \n",
    "gs_lr = GridSearchCV(pipeline, param_grid = parameters)\n",
    "gs_lr.fit(X_train, y_train);\n",
    "\n",
    "print('The accuracy score with hyperparameter tuning increased by : '\n",
    "      f'{round((gs_lr.score(X_test, y_test)) - (lr.score(X_test_cv, y_test)),4)}')\n",
    "\n",
    "cr_lr = classification_report(y_test, gs_lr.predict(X_test))\n",
    "print(\"Classification Report:\")\n",
    "print(cr_lr)\n",
    "\n",
    "ConfusionMatrixDisplay.from_estimator(gs_lr, X_test, y_test, cmap='Blues');"
   ]
  },
  {
   "cell_type": "markdown",
   "id": "d9ce3b68-088b-4f30-9780-671b4e0f508c",
   "metadata": {},
   "source": [
    "<br>\n",
    "<br>\n",
    "\n",
    "---\n",
    "\n",
    "<br>\n",
    "<br>"
   ]
  },
  {
   "cell_type": "markdown",
   "id": "c0942fed-41c9-4d1c-978c-9d73d767d7c8",
   "metadata": {},
   "source": [
    "### Random Forest Classifier"
   ]
  },
  {
   "cell_type": "code",
   "execution_count": 7,
   "id": "fc0a9e42-b98f-4799-9f71-e1a8b87e7f22",
   "metadata": {},
   "outputs": [
    {
     "name": "stdout",
     "output_type": "stream",
     "text": [
      "train score: 1.0 , test score: 0.9074074074074074\n",
      "The accuracy score with hyperparameter tuning increased by : 0.0123\n",
      "Classification Report:\n",
      "              precision    recall  f1-score   support\n",
      "\n",
      "           N       0.93      0.98      0.96       143\n",
      "           Y       0.75      0.47      0.58        19\n",
      "\n",
      "    accuracy                           0.92       162\n",
      "   macro avg       0.84      0.73      0.77       162\n",
      "weighted avg       0.91      0.92      0.91       162\n",
      "\n"
     ]
    },
    {
     "data": {
      "image/png": "[encoded data removed]",
      "text/plain": [
       "<Figure size 432x288 with 2 Axes>"
      ]
     },
     "metadata": {
      "needs_background": "light"
     },
     "output_type": "display_data"
    }
   ],
   "source": [
    "rfc = RandomForestClassifier(random_state=42)\n",
    "rfc.fit(X_train_cv, y_train)\n",
    "print('train score:',rfc.score(X_train_cv, y_train), ', test score:',rfc.score(X_test_cv, y_test))\n",
    "\n",
    "pipeline = Pipeline([\n",
    "    ('cv', CountVectorizer(stop_words='english')),\n",
    "    ('rfc', RandomForestClassifier(random_state=42))\n",
    "])\n",
    "\n",
    "parameters = {\n",
    "    'cv__min_df': (1,3),\n",
    "    'cv__ngram_range': ((1, 1), (1, 2)),\n",
    "    'rfc__n_estimators': (300, 500),\n",
    "    'rfc__max_depth': (None, 3, 5),\n",
    "    'rfc__min_samples_leaf': (1, 3)\n",
    "}\n",
    "    \n",
    "gs_rfc = GridSearchCV(pipeline, param_grid = parameters, n_jobs=-1)\n",
    "gs_rfc.fit(X_train, y_train);\n",
    "\n",
    "print('The accuracy score with hyperparameter tuning increased by : '\n",
    "      f'{round((gs_rfc.score(X_test, y_test)) - (rfc.score(X_test_cv, y_test)),4)}')\n",
    "\n",
    "cr_rfc = classification_report(y_test, gs_rfc.predict(X_test))\n",
    "print(\"Classification Report:\")\n",
    "print(cr_rfc)\n",
    "\n",
    "ConfusionMatrixDisplay.from_estimator(gs_rfc, X_test, y_test, cmap='Blues');"
   ]
  },
  {
   "cell_type": "markdown",
   "id": "1c630791-f2bc-4621-850b-8f966d34e972",
   "metadata": {},
   "source": [
    "<br>\n",
    "<br>\n",
    "\n",
    "---\n",
    "\n",
    "<br>\n",
    "<br>"
   ]
  },
  {
   "cell_type": "markdown",
   "id": "39505d40-2f8b-491c-b095-782a0947ff8e",
   "metadata": {},
   "source": [
    "### Multinomial Naive Bayes"
   ]
  },
  {
   "cell_type": "code",
   "execution_count": 8,
   "id": "af3f008f-3f3c-4072-a936-0c89a598c049",
   "metadata": {},
   "outputs": [
    {
     "name": "stdout",
     "output_type": "stream",
     "text": [
      "train score: 0.9958847736625515 , test score: 0.9012345679012346\n",
      "The accuracy score with hyperparameter tuning increased by : 0.0309\n",
      "Classification Report:\n",
      "              precision    recall  f1-score   support\n",
      "\n",
      "           N       0.95      0.97      0.96       143\n",
      "           Y       0.75      0.63      0.69        19\n",
      "\n",
      "    accuracy                           0.93       162\n",
      "   macro avg       0.85      0.80      0.82       162\n",
      "weighted avg       0.93      0.93      0.93       162\n",
      "\n"
     ]
    },
    {
     "data": {
      "image/png": "[encoded data removed]",
      "text/plain": [
       "<Figure size 432x288 with 2 Axes>"
      ]
     },
     "metadata": {
      "needs_background": "light"
     },
     "output_type": "display_data"
    }
   ],
   "source": [
    "mnb = MultinomialNB()\n",
    "mnb.fit(X_train_cv, y_train)\n",
    "print('train score:',mnb.score(X_train_cv, y_train), ', test score:',mnb.score(X_test_cv, y_test))\n",
    "\n",
    "pipeline = Pipeline([\n",
    "    ('cv', CountVectorizer(stop_words='english')),\n",
    "    ('mnb', MultinomialNB())\n",
    "])\n",
    "\n",
    "parameters = {\n",
    "    'cv__min_df': (1,2,3),\n",
    "    'cv__ngram_range': ((1, 1), (1, 2), (2,2)),\n",
    "    'mnb__alpha': [0.01, 0.05, 0.1]\n",
    "}\n",
    "    \n",
    "gs_mnb = GridSearchCV(pipeline, param_grid = parameters, n_jobs=-1)\n",
    "gs_mnb.fit(X_train, y_train);\n",
    "\n",
    "print('The accuracy score with hyperparameter tuning increased by : '\n",
    "      f'{round((gs_mnb.score(X_test, y_test)) - (mnb.score(X_test_cv, y_test)),4)}')\n",
    "\n",
    "cr_mnb = classification_report(y_test, gs_mnb.predict(X_test))\n",
    "print(\"Classification Report:\")\n",
    "print(cr_mnb)\n",
    "\n",
    "ConfusionMatrixDisplay.from_estimator(gs_mnb, X_test, y_test, cmap='Blues');"
   ]
  }
 ],
 "metadata": {
  "kernelspec": {
   "display_name": "Python 3 (ipykernel)",
   "language": "python",
   "name": "python3"
  },
  "language_info": {
   "codemirror_mode": {
    "name": "ipython",
    "version": 3
   },
   "file_extension": ".py",
   "mimetype": "text/x-python",
   "name": "python",
   "nbconvert_exporter": "python",
   "pygments_lexer": "ipython3",
   "version": "3.9.7"
  }
 },
 "nbformat": 4,
 "nbformat_minor": 5
}
