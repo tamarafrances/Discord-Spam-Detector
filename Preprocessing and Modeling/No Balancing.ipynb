{
 "cells": [
  {
   "cell_type": "markdown",
   "id": "47f9fcb7-844e-46a3-8afb-cc4e04faa2f1",
   "metadata": {},
   "source": [
    "# Modeling: Discord Spam Detector\n",
    "\n",
    "### Tamara Frances"
   ]
  },
  {
   "cell_type": "code",
   "execution_count": 1,
   "id": "aef4822c-a00d-4297-8e14-db037a1be78c",
   "metadata": {},
   "outputs": [],
   "source": [
    "import pandas as pd\n",
    "import numpy as np\n",
    "import matplotlib.pyplot as plt\n",
    "\n",
    "from sklearn.model_selection import train_test_split\n",
    "from sklearn.linear_model import LogisticRegression\n",
    "from sklearn.feature_extraction.text import CountVectorizer\n",
    "from sklearn.ensemble import RandomForestClassifier, ExtraTreesClassifier\n",
    "from sklearn.model_selection import GridSearchCV\n",
    "from sklearn.naive_bayes import MultinomialNB\n",
    "from sklearn.metrics import ConfusionMatrixDisplay\n",
    "from sklearn.pipeline import Pipeline"
   ]
  },
  {
   "cell_type": "code",
   "execution_count": 2,
   "id": "b78a32a8-e104-4ccc-a3c0-0c48c63233be",
   "metadata": {},
   "outputs": [],
   "source": [
    "df_notspam1 = pd.read_excel('../data/data-for-capstone-limited.xlsx', 'Crypto - not spam') #crypto chat no spam\n",
    "df_notspam2 = pd.read_excel('../data/data-for-capstone-limited.xlsx', 'Not spam') #not crypto chat no spam"
   ]
  },
  {
   "cell_type": "code",
   "execution_count": 3,
   "id": "f70d2d6d-0270-4332-975a-f3812e5d13f6",
   "metadata": {},
   "outputs": [],
   "source": [
    "df_notspam1['Spam?'] = df_notspam1['Spam?'].fillna('N')\n",
    "df_notspam2['Spam?'] = df_notspam2['Spam?'].fillna('N')"
   ]
  },
  {
   "cell_type": "code",
   "execution_count": 4,
   "id": "a1a7c1df-d370-4fe6-a2bd-a6b028474be7",
   "metadata": {},
   "outputs": [],
   "source": [
    "notspam = [df_notspam1, df_notspam2]\n",
    "df_notspam = pd.concat(notspam)"
   ]
  },
  {
   "cell_type": "code",
   "execution_count": 5,
   "id": "62ef5fab-e506-47db-9393-e62bf44e945b",
   "metadata": {},
   "outputs": [],
   "source": [
    "df_spam = pd.read_excel('../data/data-for-capstone-limited.xlsx', 'Spam') #spam"
   ]
  },
  {
   "cell_type": "code",
   "execution_count": 6,
   "id": "464713cc-d3ae-495f-9875-3c53617adcb0",
   "metadata": {},
   "outputs": [
    {
     "data": {
      "text/html": [
       "<div>\n",
       "<style scoped>\n",
       "    .dataframe tbody tr th:only-of-type {\n",
       "        vertical-align: middle;\n",
       "    }\n",
       "\n",
       "    .dataframe tbody tr th {\n",
       "        vertical-align: top;\n",
       "    }\n",
       "\n",
       "    .dataframe thead th {\n",
       "        text-align: right;\n",
       "    }\n",
       "</style>\n",
       "<table border=\"1\" class=\"dataframe\">\n",
       "  <thead>\n",
       "    <tr style=\"text-align: right;\">\n",
       "      <th></th>\n",
       "      <th>text</th>\n",
       "      <th>spam</th>\n",
       "    </tr>\n",
       "  </thead>\n",
       "  <tbody>\n",
       "    <tr>\n",
       "      <th>0</th>\n",
       "      <td>they got a privacy setting on there, you might...</td>\n",
       "      <td>N</td>\n",
       "    </tr>\n",
       "    <tr>\n",
       "      <th>1</th>\n",
       "      <td>Not sure if anyone is still interested in step...</td>\n",
       "      <td>N</td>\n",
       "    </tr>\n",
       "    <tr>\n",
       "      <th>2</th>\n",
       "      <td>did anyone win the raffle for Akumu? Winners h...</td>\n",
       "      <td>N</td>\n",
       "    </tr>\n",
       "    <tr>\n",
       "      <th>3</th>\n",
       "      <td>Good stuff! We should see some wild price acti...</td>\n",
       "      <td>N</td>\n",
       "    </tr>\n",
       "    <tr>\n",
       "      <th>4</th>\n",
       "      <td>Makes me happy I'm still holding my foxes and ...</td>\n",
       "      <td>N</td>\n",
       "    </tr>\n",
       "  </tbody>\n",
       "</table>\n",
       "</div>"
      ],
      "text/plain": [
       "                                                text spam\n",
       "0  they got a privacy setting on there, you might...    N\n",
       "1  Not sure if anyone is still interested in step...    N\n",
       "2  did anyone win the raffle for Akumu? Winners h...    N\n",
       "3  Good stuff! We should see some wild price acti...    N\n",
       "4  Makes me happy I'm still holding my foxes and ...    N"
      ]
     },
     "execution_count": 6,
     "metadata": {},
     "output_type": "execute_result"
    }
   ],
   "source": [
    "#joining dataframes\n",
    "\n",
    "dataframes = [df_notspam, df_spam]\n",
    "df = pd.concat(dataframes)\n",
    "df = df.rename(columns={'Text': 'text', 'Spam?': 'spam'})\n",
    "\n",
    "df.head()"
   ]
  },
  {
   "cell_type": "markdown",
   "id": "0b65868d-4761-4b55-aa83-5b3fe4622c78",
   "metadata": {},
   "source": [
    "<br>\n",
    "\n",
    "---\n",
    "\n",
    "<br>"
   ]
  },
  {
   "cell_type": "markdown",
   "id": "155233b8-32c0-4d61-8495-4e00d1c60a28",
   "metadata": {},
   "source": [
    "## Baseline\n",
    "<br>"
   ]
  },
  {
   "cell_type": "code",
   "execution_count": 7,
   "id": "fdac8d67-c6ef-42fc-aaa2-60ceb5893c5a",
   "metadata": {},
   "outputs": [],
   "source": [
    "X = df['text']\n",
    "y = df['spam']\n",
    "X_train, X_test, y_train, y_test = train_test_split(X,y,stratify = y, random_state=42)"
   ]
  },
  {
   "cell_type": "code",
   "execution_count": 8,
   "id": "c8ed8b07-f86c-4092-96de-13743ae86508",
   "metadata": {},
   "outputs": [
    {
     "data": {
      "text/plain": [
       "N    0.87963\n",
       "Y    0.12037\n",
       "Name: spam, dtype: float64"
      ]
     },
     "execution_count": 8,
     "metadata": {},
     "output_type": "execute_result"
    }
   ],
   "source": [
    "y.value_counts(normalize=True)\n"
   ]
  },
  {
   "cell_type": "markdown",
   "id": "60542169-93cc-4295-839a-2ff668727de7",
   "metadata": {},
   "source": [
    "<br>\n",
    "<br>\n",
    "\n",
    "---\n",
    "\n",
    "<br>\n",
    "<br>"
   ]
  },
  {
   "cell_type": "markdown",
   "id": "8b732413-0c30-4917-b664-5b67fdab06ff",
   "metadata": {},
   "source": [
    "## Models\n",
    "<br>"
   ]
  },
  {
   "cell_type": "code",
   "execution_count": null,
   "id": "e9a67ba7-77f6-45fe-a1fd-cda205f62ac0",
   "metadata": {},
   "outputs": [],
   "source": []
  },
  {
   "cell_type": "code",
   "execution_count": 9,
   "id": "8a9eda70-f34d-465e-890c-c6093f8620b1",
   "metadata": {},
   "outputs": [],
   "source": [
    "cv = CountVectorizer()\n",
    "X_train_cv = cv.fit_transform(X_train)\n",
    "X_test_cv = cv.transform(X_test)"
   ]
  },
  {
   "cell_type": "code",
   "execution_count": 10,
   "id": "56c7a445-c835-4f68-9697-9bcbb33510c3",
   "metadata": {},
   "outputs": [
    {
     "data": {
      "text/plain": [
       "(0.9938271604938271, 0.9135802469135802)"
      ]
     },
     "execution_count": 10,
     "metadata": {},
     "output_type": "execute_result"
    }
   ],
   "source": [
    "lr = LogisticRegression(max_iter=10_000)\n",
    "lr.fit(X_train_cv, y_train)\n",
    "lr.score(X_train_cv, y_train), lr.score(X_test_cv, y_test)"
   ]
  },
  {
   "cell_type": "code",
   "execution_count": 22,
   "id": "3ef9b130-7e79-4e69-bef9-afe1ff51c374",
   "metadata": {},
   "outputs": [
    {
     "data": {
      "text/plain": [
       "GridSearchCV(estimator=Pipeline(steps=[('cv',\n",
       "                                        CountVectorizer(stop_words='english')),\n",
       "                                       ('lr',\n",
       "                                        LogisticRegression(max_iter=10000))]),\n",
       "             param_grid={'cv__min_df': (1, 2),\n",
       "                         'cv__ngram_range': ((1, 1), (1, 2)),\n",
       "                         'lr__C': [0.25, 0.5, 0.75, 1.0]})"
      ]
     },
     "execution_count": 22,
     "metadata": {},
     "output_type": "execute_result"
    }
   ],
   "source": [
    "pipeline = Pipeline([\n",
    "    ('cv', CountVectorizer(stop_words='english')),\n",
    "    ('lr', LogisticRegression(max_iter = 10_000))\n",
    "])\n",
    "\n",
    "parameters = {\n",
    "    'cv__min_df': (1,2),\n",
    "    'cv__ngram_range': ((1, 1), (1, 2)),\n",
    "    'lr__C': [0.25, 0.5, 0.75, 1.0]}\n",
    "    \n",
    "gs_lr = GridSearchCV(pipeline, param_grid = parameters)\n",
    "gs_lr.fit(X_train, y_train)"
   ]
  },
  {
   "cell_type": "code",
   "execution_count": 23,
   "id": "cd9831a9-d8cd-465e-a3b3-f95af1057d27",
   "metadata": {},
   "outputs": [
    {
     "name": "stdout",
     "output_type": "stream",
     "text": [
      "gs_lr train score :  0.9732510288065843\n",
      "gs_lr test score :  0.9135802469135802\n",
      "The accuracy score with hyperparameter tuning increased by : 0.0\n"
     ]
    }
   ],
   "source": [
    "print('gs_lr train score : ', gs_lr.score(X_train, y_train))\n",
    "print('gs_lr test score : ', gs_lr.score(X_test, y_test))\n",
    "print('The accuracy score with hyperparameter tuning increased by : '\n",
    "      f'{round((gs_lr.score(X_test, y_test)) - (lr.score(X_test_cv, y_test)),4)}')"
   ]
  },
  {
   "cell_type": "markdown",
   "id": "d9ce3b68-088b-4f30-9780-671b4e0f508c",
   "metadata": {},
   "source": [
    "<br>\n",
    "<br>\n",
    "\n",
    "---\n",
    "\n",
    "<br>\n",
    "<br>"
   ]
  },
  {
   "cell_type": "code",
   "execution_count": 24,
   "id": "3f4dcf24-05d1-4b25-a66b-77cff021c4fc",
   "metadata": {},
   "outputs": [
    {
     "data": {
      "text/plain": [
       "(1.0, 0.9074074074074074)"
      ]
     },
     "execution_count": 24,
     "metadata": {},
     "output_type": "execute_result"
    }
   ],
   "source": [
    "rfc = RandomForestClassifier(random_state=42)\n",
    "rfc.fit(X_train_cv, y_train)\n",
    "rfc.score(X_train_cv, y_train), rfc.score(X_test_cv, y_test)"
   ]
  },
  {
   "cell_type": "code",
   "execution_count": 27,
   "id": "d8f329e2-60c8-45bc-a721-95765c87dfc0",
   "metadata": {},
   "outputs": [
    {
     "data": {
      "text/plain": [
       "GridSearchCV(estimator=Pipeline(steps=[('cv',\n",
       "                                        CountVectorizer(stop_words='english')),\n",
       "                                       ('rfc',\n",
       "                                        RandomForestClassifier(random_state=42))]),\n",
       "             n_jobs=-1,\n",
       "             param_grid={'cv__min_df': (1, 3),\n",
       "                         'cv__ngram_range': ((1, 1), (1, 2)),\n",
       "                         'rfc__max_depth': (None, 3, 5),\n",
       "                         'rfc__min_samples_leaf': (1, 3),\n",
       "                         'rfc__n_estimators': (300, 500)})"
      ]
     },
     "execution_count": 27,
     "metadata": {},
     "output_type": "execute_result"
    }
   ],
   "source": [
    "pipeline = Pipeline([\n",
    "    ('cv', CountVectorizer(stop_words='english')),\n",
    "    ('rfc', RandomForestClassifier(random_state=42))\n",
    "])\n",
    "\n",
    "parameters = {\n",
    "    'cv__min_df': (1,3),\n",
    "    'cv__ngram_range': ((1, 1), (1, 2)),\n",
    "    'rfc__n_estimators': (300, 500),\n",
    "    'rfc__max_depth': (None, 3, 5),\n",
    "    'rfc__min_samples_leaf': (1, 3)\n",
    "}\n",
    "    \n",
    "gs_rfc = GridSearchCV(pipeline, param_grid = parameters, n_jobs=-1)\n",
    "gs_rfc.fit(X_train, y_train)"
   ]
  },
  {
   "cell_type": "code",
   "execution_count": 28,
   "id": "6290fd94-2892-45df-b139-477a57c2f7eb",
   "metadata": {},
   "outputs": [
    {
     "name": "stdout",
     "output_type": "stream",
     "text": [
      "gs_rfc train score :  0.9958847736625515\n",
      "gs_rfc test score :  0.9197530864197531\n",
      "The accuracy score with hyperparameter tuning increased by : 0.0123\n"
     ]
    }
   ],
   "source": [
    "print('gs_rfc train score : ', gs_rfc.score(X_train, y_train))\n",
    "print('gs_rfc test score : ', gs_rfc.score(X_test, y_test))\n",
    "print('The accuracy score with hyperparameter tuning increased by : '\n",
    "      f'{round((gs_rfc.score(X_test, y_test)) - (rfc.score(X_test_cv, y_test)),4)}')"
   ]
  },
  {
   "cell_type": "markdown",
   "id": "1c630791-f2bc-4621-850b-8f966d34e972",
   "metadata": {},
   "source": [
    "<br>\n",
    "<br>\n",
    "\n",
    "---\n",
    "\n",
    "<br>\n",
    "<br>"
   ]
  },
  {
   "cell_type": "code",
   "execution_count": 33,
   "id": "1b427faf-94e6-4f16-be73-ed83b7a8094e",
   "metadata": {},
   "outputs": [
    {
     "data": {
      "text/plain": [
       "(0.9958847736625515, 0.9012345679012346)"
      ]
     },
     "execution_count": 33,
     "metadata": {},
     "output_type": "execute_result"
    }
   ],
   "source": [
    "mnb = MultinomialNB()\n",
    "mnb.fit(X_train_cv, y_train)\n",
    "mnb.score(X_train_cv, y_train),  mnb.score(X_test_cv, y_test)"
   ]
  },
  {
   "cell_type": "code",
   "execution_count": 34,
   "id": "2b655616-b792-4650-97c0-f5c4b0c2d0de",
   "metadata": {},
   "outputs": [
    {
     "data": {
      "text/plain": [
       "GridSearchCV(estimator=Pipeline(steps=[('cv',\n",
       "                                        CountVectorizer(stop_words='english')),\n",
       "                                       ('mnb', MultinomialNB())]),\n",
       "             n_jobs=-1,\n",
       "             param_grid={'cv__min_df': (1, 2, 3),\n",
       "                         'cv__ngram_range': ((1, 1), (1, 2), (2, 2)),\n",
       "                         'mnb__alpha': [0.01, 0.05, 0.1]})"
      ]
     },
     "execution_count": 34,
     "metadata": {},
     "output_type": "execute_result"
    }
   ],
   "source": [
    "pipeline = Pipeline([\n",
    "    ('cv', CountVectorizer(stop_words='english')),\n",
    "    ('mnb', MultinomialNB())\n",
    "])\n",
    "\n",
    "parameters = {\n",
    "    'cv__min_df': (1,2,3),\n",
    "    'cv__ngram_range': ((1, 1), (1, 2), (2,2)),\n",
    "    'mnb__alpha': [0.01, 0.05, 0.1]\n",
    "}\n",
    "    \n",
    "gs_mnb = GridSearchCV(pipeline, param_grid = parameters, n_jobs=-1)\n",
    "gs_mnb.fit(X_train, y_train)"
   ]
  },
  {
   "cell_type": "code",
   "execution_count": 35,
   "id": "1ab3021f-7a7b-4621-bbe6-fcd504fcfe1b",
   "metadata": {},
   "outputs": [
    {
     "name": "stdout",
     "output_type": "stream",
     "text": [
      "gs_mnb train score :  1.0\n",
      "gs_mnb test score :  0.9320987654320988\n",
      "The accuracy score with hyperparameter tuning increased by : 0.0309\n"
     ]
    }
   ],
   "source": [
    "print('gs_mnb train score : ', gs_mnb.score(X_train, y_train))\n",
    "print('gs_mnb test score : ', gs_mnb.score(X_test, y_test))\n",
    "print('The accuracy score with hyperparameter tuning increased by : '\n",
    "      f'{round((gs_mnb.score(X_test, y_test)) - (mnb.score(X_test_cv, y_test)),4)}')"
   ]
  }
 ],
 "metadata": {
  "kernelspec": {
   "display_name": "Python 3 (ipykernel)",
   "language": "python",
   "name": "python3"
  },
  "language_info": {
   "codemirror_mode": {
    "name": "ipython",
    "version": 3
   },
   "file_extension": ".py",
   "mimetype": "text/x-python",
   "name": "python",
   "nbconvert_exporter": "python",
   "pygments_lexer": "ipython3",
   "version": "3.9.7"
  }
 },
 "nbformat": 4,
 "nbformat_minor": 5
}
