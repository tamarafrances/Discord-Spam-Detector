{
 "cells": [
  {
   "cell_type": "markdown",
   "id": "47f9fcb7-844e-46a3-8afb-cc4e04faa2f1",
   "metadata": {},
   "source": [
    "# No Balancing: Discord Spam Detector\n",
    "\n",
    "### Tamara Frances\n",
    "<br>\n",
    "\n",
    "---\n",
    "<br>"
   ]
  },
  {
   "cell_type": "code",
   "execution_count": 1,
   "id": "aef4822c-a00d-4297-8e14-db037a1be78c",
   "metadata": {},
   "outputs": [],
   "source": [
    "import pandas as pd\n",
    "import numpy as np\n",
    "import matplotlib.pyplot as plt\n",
    "\n",
    "from sklearn.model_selection import train_test_split\n",
    "from sklearn.linear_model import LogisticRegression\n",
    "from sklearn.feature_extraction.text import CountVectorizer\n",
    "from sklearn.ensemble import RandomForestClassifier\n",
    "from sklearn.model_selection import GridSearchCV\n",
    "from sklearn.naive_bayes import MultinomialNB\n",
    "from sklearn.metrics import ConfusionMatrixDisplay, recall_score, f1_score\n",
    "from sklearn.pipeline import Pipeline\n",
    "from sklearn.metrics import classification_report"
   ]
  },
  {
   "cell_type": "code",
   "execution_count": 2,
   "id": "2520e661-0e0d-4c1b-8905-34818bd0d912",
   "metadata": {},
   "outputs": [],
   "source": [
    "df = pd.read_excel('../data/data-for-capstone.xlsx')\n",
    "df.columns = df.columns.str.lower()\n",
    "df = df.rename(columns={'spam?':'spam'})"
   ]
  },
  {
   "cell_type": "markdown",
   "id": "0b65868d-4761-4b55-aa83-5b3fe4622c78",
   "metadata": {},
   "source": [
    "<br>\n",
    "\n",
    "---\n",
    "\n",
    "<br>"
   ]
  },
  {
   "cell_type": "markdown",
   "id": "155233b8-32c0-4d61-8495-4e00d1c60a28",
   "metadata": {},
   "source": [
    "## Baseline\n",
    "<br>"
   ]
  },
  {
   "cell_type": "code",
   "execution_count": 3,
   "id": "fdac8d67-c6ef-42fc-aaa2-60ceb5893c5a",
   "metadata": {},
   "outputs": [],
   "source": [
    "X = df['text']\n",
    "y = df['spam']\n",
    "X_train, X_test, y_train, y_test = train_test_split(X,y,stratify = y, random_state=42)"
   ]
  },
  {
   "cell_type": "code",
   "execution_count": 4,
   "id": "c8ed8b07-f86c-4092-96de-13743ae86508",
   "metadata": {},
   "outputs": [
    {
     "data": {
      "text/plain": [
       "N    0.863991\n",
       "Y    0.136009\n",
       "Name: spam, dtype: float64"
      ]
     },
     "execution_count": 4,
     "metadata": {},
     "output_type": "execute_result"
    }
   ],
   "source": [
    "y.value_counts(normalize=True)"
   ]
  },
  {
   "cell_type": "markdown",
   "id": "60542169-93cc-4295-839a-2ff668727de7",
   "metadata": {},
   "source": [
    "<br>\n",
    "<br>\n",
    "\n",
    "---\n",
    "\n",
    "<br>\n",
    "<br>"
   ]
  },
  {
   "cell_type": "markdown",
   "id": "8b732413-0c30-4917-b664-5b67fdab06ff",
   "metadata": {},
   "source": [
    "## Models\n",
    "<br>"
   ]
  },
  {
   "cell_type": "code",
   "execution_count": 5,
   "id": "19156f42-bf97-4561-a258-20e6e0e68621",
   "metadata": {},
   "outputs": [],
   "source": [
    "cv = CountVectorizer()\n",
    "X_train_cv = cv.fit_transform(X_train)\n",
    "X_test_cv = cv.transform(X_test)"
   ]
  },
  {
   "cell_type": "markdown",
   "id": "1258bfa1-fb65-44c0-b0ad-122d013407eb",
   "metadata": {},
   "source": [
    "<br>\n",
    "\n",
    "### Logistic Regression"
   ]
  },
  {
   "cell_type": "code",
   "execution_count": 6,
   "id": "02477eee-ea93-415a-a7fe-82d10ac54aa4",
   "metadata": {},
   "outputs": [
    {
     "name": "stdout",
     "output_type": "stream",
     "text": [
      "train score: 0.9925595238095238 , test score: 0.9244444444444444\n",
      "The accuracy score with hyperparameter tuning increased by : -0.0089\n"
     ]
    }
   ],
   "source": [
    "lr = LogisticRegression(max_iter=10_000)\n",
    "lr.fit(X_train_cv, y_train)\n",
    "print('train score:',lr.score(X_train_cv, y_train), ', test score:',lr.score(X_test_cv, y_test))\n",
    "\n",
    "pipeline = Pipeline([\n",
    "    ('cv', CountVectorizer(stop_words='english')),\n",
    "    ('lr', LogisticRegression(max_iter = 10_000))\n",
    "])\n",
    "\n",
    "parameters = {\n",
    "    'cv__min_df': (1,2,3),\n",
    "    'cv__ngram_range': ((1, 1), (1, 2)),\n",
    "    'lr__C': [0.25, 0.5, 0.75, 1.0]}\n",
    "    \n",
    "gs_lr = GridSearchCV(pipeline, param_grid = parameters)\n",
    "gs_lr.fit(X_train, y_train);\n",
    "\n",
    "print('The accuracy score with hyperparameter tuning increased by : '\n",
    "      f'{round((gs_lr.score(X_test, y_test)) - (lr.score(X_test_cv, y_test)),4)}')"
   ]
  },
  {
   "cell_type": "code",
   "execution_count": 7,
   "id": "345974a7-54dc-4422-80b3-0a7934114a96",
   "metadata": {},
   "outputs": [
    {
     "name": "stdout",
     "output_type": "stream",
     "text": [
      "best params :  {'cv__min_df': 2, 'cv__ngram_range': (1, 1), 'lr__C': 1.0}\n",
      "best estimator :  Pipeline(steps=[('cv', CountVectorizer(min_df=2, stop_words='english')),\n",
      "                ('lr', LogisticRegression(max_iter=10000))])\n"
     ]
    }
   ],
   "source": [
    "print('best params : ', gs_lr.best_params_)\n",
    "print('best estimator : ', gs_lr.best_estimator_)"
   ]
  },
  {
   "cell_type": "code",
   "execution_count": 8,
   "id": "d8eaae97-587f-4d62-88a3-e9107d206157",
   "metadata": {},
   "outputs": [
    {
     "name": "stdout",
     "output_type": "stream",
     "text": [
      "Classification Report:\n",
      "              precision    recall  f1-score   support\n",
      "\n",
      "           N       0.92      0.99      0.95       194\n",
      "           Y       0.88      0.45      0.60        31\n",
      "\n",
      "    accuracy                           0.92       225\n",
      "   macro avg       0.90      0.72      0.77       225\n",
      "weighted avg       0.91      0.92      0.90       225\n",
      "\n"
     ]
    },
    {
     "data": {
      "image/png": "[encoded data removed]",
      "text/plain": [
       "<Figure size 432x288 with 2 Axes>"
      ]
     },
     "metadata": {
      "needs_background": "light"
     },
     "output_type": "display_data"
    }
   ],
   "source": [
    "cr_lr = classification_report(y_test, gs_lr.predict(X_test))\n",
    "print(\"Classification Report:\")\n",
    "print(cr_lr)\n",
    "\n",
    "ConfusionMatrixDisplay.from_estimator(gs_lr, X_test, y_test, cmap='Blues');"
   ]
  },
  {
   "cell_type": "markdown",
   "id": "d9ce3b68-088b-4f30-9780-671b4e0f508c",
   "metadata": {},
   "source": [
    "<br>\n",
    "<br>\n",
    "\n",
    "---\n",
    "\n",
    "<br>\n",
    "<br>"
   ]
  },
  {
   "cell_type": "markdown",
   "id": "c0942fed-41c9-4d1c-978c-9d73d767d7c8",
   "metadata": {},
   "source": [
    "### Random Forest Classifier"
   ]
  },
  {
   "cell_type": "code",
   "execution_count": 9,
   "id": "fc0a9e42-b98f-4799-9f71-e1a8b87e7f22",
   "metadata": {},
   "outputs": [
    {
     "name": "stdout",
     "output_type": "stream",
     "text": [
      "train score: 1.0 , test score: 0.9066666666666666\n",
      "The accuracy score with hyperparameter tuning increased by : 0.0267\n"
     ]
    }
   ],
   "source": [
    "rfc = RandomForestClassifier(random_state=42)\n",
    "rfc.fit(X_train_cv, y_train)\n",
    "print('train score:',rfc.score(X_train_cv, y_train), ', test score:',rfc.score(X_test_cv, y_test))\n",
    "\n",
    "pipeline = Pipeline([\n",
    "    ('cv', CountVectorizer(stop_words='english')),\n",
    "    ('rfc', RandomForestClassifier(random_state=42))\n",
    "])\n",
    "\n",
    "parameters = {\n",
    "    'cv__min_df': (1,2,3),\n",
    "    'cv__ngram_range': ((1, 1), (1, 2)),\n",
    "    'rfc__n_estimators': (300, 500),\n",
    "    'rfc__max_depth': (None, 3, 5),\n",
    "    'rfc__min_samples_leaf': (1, 3)\n",
    "}\n",
    "    \n",
    "gs_rfc = GridSearchCV(pipeline, param_grid = parameters, n_jobs=-1)\n",
    "gs_rfc.fit(X_train, y_train);\n",
    "\n",
    "print('The accuracy score with hyperparameter tuning increased by : '\n",
    "      f'{round((gs_rfc.score(X_test, y_test)) - (rfc.score(X_test_cv, y_test)),4)}')"
   ]
  },
  {
   "cell_type": "code",
   "execution_count": 10,
   "id": "3d14a2de-6307-46c6-9abe-70b113d060ab",
   "metadata": {},
   "outputs": [
    {
     "name": "stdout",
     "output_type": "stream",
     "text": [
      "best params :  {'cv__min_df': 3, 'cv__ngram_range': (1, 2), 'rfc__max_depth': None, 'rfc__min_samples_leaf': 1, 'rfc__n_estimators': 300}\n",
      "best estimator :  Pipeline(steps=[('cv',\n",
      "                 CountVectorizer(min_df=3, ngram_range=(1, 2),\n",
      "                                 stop_words='english')),\n",
      "                ('rfc',\n",
      "                 RandomForestClassifier(n_estimators=300, random_state=42))])\n"
     ]
    }
   ],
   "source": [
    "print('best params : ', gs_rfc.best_params_)\n",
    "print('best estimator : ', gs_rfc.best_estimator_)"
   ]
  },
  {
   "cell_type": "code",
   "execution_count": 11,
   "id": "c276fc6f-1c33-4ca1-8bab-845d8d350cf9",
   "metadata": {},
   "outputs": [
    {
     "name": "stdout",
     "output_type": "stream",
     "text": [
      "Classification Report:\n",
      "              precision    recall  f1-score   support\n",
      "\n",
      "           N       0.95      0.97      0.96       194\n",
      "           Y       0.81      0.68      0.74        31\n",
      "\n",
      "    accuracy                           0.93       225\n",
      "   macro avg       0.88      0.83      0.85       225\n",
      "weighted avg       0.93      0.93      0.93       225\n",
      "\n"
     ]
    },
    {
     "data": {
      "image/png": "[encoded data removed]",
      "text/plain": [
       "<Figure size 432x288 with 2 Axes>"
      ]
     },
     "metadata": {
      "needs_background": "light"
     },
     "output_type": "display_data"
    }
   ],
   "source": [
    "cr_rfc = classification_report(y_test, gs_rfc.predict(X_test))\n",
    "print(\"Classification Report:\")\n",
    "print(cr_rfc)\n",
    "\n",
    "ConfusionMatrixDisplay.from_estimator(gs_rfc, X_test, y_test, cmap='Blues');"
   ]
  },
  {
   "cell_type": "markdown",
   "id": "1c630791-f2bc-4621-850b-8f966d34e972",
   "metadata": {},
   "source": [
    "<br>\n",
    "<br>\n",
    "\n",
    "---\n",
    "\n",
    "<br>\n",
    "<br>"
   ]
  },
  {
   "cell_type": "markdown",
   "id": "39505d40-2f8b-491c-b095-782a0947ff8e",
   "metadata": {},
   "source": [
    "### Multinomial Naive Bayes"
   ]
  },
  {
   "cell_type": "code",
   "execution_count": 12,
   "id": "af3f008f-3f3c-4072-a936-0c89a598c049",
   "metadata": {},
   "outputs": [
    {
     "name": "stdout",
     "output_type": "stream",
     "text": [
      "train score: 0.9925595238095238 , test score: 0.9288888888888889\n",
      "The accuracy score with hyperparameter tuning increased by : -0.0044\n"
     ]
    }
   ],
   "source": [
    "mnb = MultinomialNB()\n",
    "mnb.fit(X_train_cv, y_train)\n",
    "print('train score:',mnb.score(X_train_cv, y_train), ', test score:',mnb.score(X_test_cv, y_test))\n",
    "\n",
    "pipeline = Pipeline([\n",
    "    ('cv', CountVectorizer(stop_words='english')),\n",
    "    ('mnb', MultinomialNB())\n",
    "])\n",
    "\n",
    "parameters = {\n",
    "    'cv__min_df': (1,2,3),\n",
    "    'cv__ngram_range': ((1, 1), (1, 2), (2,2)),\n",
    "    'mnb__alpha': [0.01, 0.05, 0.1]\n",
    "}\n",
    "    \n",
    "gs_mnb = GridSearchCV(pipeline, param_grid = parameters, n_jobs=-1)\n",
    "gs_mnb.fit(X_train, y_train);\n",
    "\n",
    "print('The accuracy score with hyperparameter tuning increased by : '\n",
    "      f'{round((gs_mnb.score(X_test, y_test)) - (mnb.score(X_test_cv, y_test)),4)}')"
   ]
  },
  {
   "cell_type": "code",
   "execution_count": 13,
   "id": "a01b6ddb-275e-4fe3-b5df-58938928c8ff",
   "metadata": {},
   "outputs": [
    {
     "name": "stdout",
     "output_type": "stream",
     "text": [
      "best params :  {'cv__min_df': 1, 'cv__ngram_range': (1, 1), 'mnb__alpha': 0.1}\n",
      "best estimator :  Pipeline(steps=[('cv', CountVectorizer(stop_words='english')),\n",
      "                ('mnb', MultinomialNB(alpha=0.1))])\n"
     ]
    }
   ],
   "source": [
    "print('best params : ', gs_mnb.best_params_)\n",
    "print('best estimator : ', gs_mnb.best_estimator_)"
   ]
  },
  {
   "cell_type": "code",
   "execution_count": 14,
   "id": "df1c2519-3988-4e21-b43a-68d33fc5bd73",
   "metadata": {},
   "outputs": [
    {
     "name": "stdout",
     "output_type": "stream",
     "text": [
      "Classification Report:\n",
      "              precision    recall  f1-score   support\n",
      "\n",
      "           N       0.97      0.94      0.96       194\n",
      "           Y       0.69      0.81      0.75        31\n",
      "\n",
      "    accuracy                           0.92       225\n",
      "   macro avg       0.83      0.87      0.85       225\n",
      "weighted avg       0.93      0.92      0.93       225\n",
      "\n"
     ]
    },
    {
     "data": {
      "image/png": "[encoded data removed]",
      "text/plain": [
       "<Figure size 432x288 with 2 Axes>"
      ]
     },
     "metadata": {
      "needs_background": "light"
     },
     "output_type": "display_data"
    }
   ],
   "source": [
    "cr_mnb = classification_report(y_test, gs_mnb.predict(X_test))\n",
    "print(\"Classification Report:\")\n",
    "print(cr_mnb)\n",
    "\n",
    "ConfusionMatrixDisplay.from_estimator(gs_mnb, X_test, y_test, cmap='Blues');"
   ]
  }
 ],
 "metadata": {
  "kernelspec": {
   "display_name": "Python 3 (ipykernel)",
   "language": "python",
   "name": "python3"
  },
  "language_info": {
   "codemirror_mode": {
    "name": "ipython",
    "version": 3
   },
   "file_extension": ".py",
   "mimetype": "text/x-python",
   "name": "python",
   "nbconvert_exporter": "python",
   "pygments_lexer": "ipython3",
   "version": "3.9.7"
  }
 },
 "nbformat": 4,
 "nbformat_minor": 5
}
