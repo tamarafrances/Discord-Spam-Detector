{
 "cells": [
  {
   "cell_type": "code",
   "execution_count": 1,
   "id": "35ce3289-6775-43a8-a625-f9caf6775801",
   "metadata": {},
   "outputs": [],
   "source": [
    "import pandas as pd\n",
    "import numpy as np\n",
    "import seaborn as sns\n",
    "import matplotlib.pyplot"
   ]
  },
  {
   "cell_type": "code",
   "execution_count": 2,
   "id": "f90cc22b-7423-48fb-acd4-35306e04bdeb",
   "metadata": {},
   "outputs": [],
   "source": [
    "df_crypto_ns = pd.read_excel('./data/data-for-capstone-limited.xlsx', 'Crypto - not spam') #crypto chat no spam"
   ]
  },
  {
   "cell_type": "code",
   "execution_count": 3,
   "id": "764579d6-3420-4612-baf4-5e3096cbacff",
   "metadata": {},
   "outputs": [],
   "source": [
    "df_spam = pd.read_excel('./data/data-for-capstone-limited.xlsx', 'Spam') #spam"
   ]
  },
  {
   "cell_type": "code",
   "execution_count": 9,
   "id": "7600c6d5-c9f7-4693-942c-b47124550e13",
   "metadata": {},
   "outputs": [
    {
     "name": "stdout",
     "output_type": "stream",
     "text": [
      "<class 'pandas.core.frame.DataFrame'>\n",
      "RangeIndex: 270 entries, 0 to 269\n",
      "Data columns (total 2 columns):\n",
      " #   Column  Non-Null Count  Dtype \n",
      "---  ------  --------------  ----- \n",
      " 0   Text    270 non-null    object\n",
      " 1   Spam?   270 non-null    object\n",
      "dtypes: object(2)\n",
      "memory usage: 4.3+ KB\n"
     ]
    }
   ],
   "source": [
    "df_crypto_ns.info()"
   ]
  },
  {
   "cell_type": "code",
   "execution_count": 4,
   "id": "5fe49d1c-1129-4b82-a8da-61603dbbb408",
   "metadata": {},
   "outputs": [
    {
     "data": {
      "text/html": [
       "<div>\n",
       "<style scoped>\n",
       "    .dataframe tbody tr th:only-of-type {\n",
       "        vertical-align: middle;\n",
       "    }\n",
       "\n",
       "    .dataframe tbody tr th {\n",
       "        vertical-align: top;\n",
       "    }\n",
       "\n",
       "    .dataframe thead th {\n",
       "        text-align: right;\n",
       "    }\n",
       "</style>\n",
       "<table border=\"1\" class=\"dataframe\">\n",
       "  <thead>\n",
       "    <tr style=\"text-align: right;\">\n",
       "      <th></th>\n",
       "      <th>Text</th>\n",
       "      <th>Spam?</th>\n",
       "    </tr>\n",
       "  </thead>\n",
       "  <tbody>\n",
       "    <tr>\n",
       "      <th>0</th>\n",
       "      <td>they got a privacy setting on there, you might...</td>\n",
       "      <td>N</td>\n",
       "    </tr>\n",
       "    <tr>\n",
       "      <th>1</th>\n",
       "      <td>Not sure if anyone is still interested in step...</td>\n",
       "      <td>N</td>\n",
       "    </tr>\n",
       "    <tr>\n",
       "      <th>2</th>\n",
       "      <td>did anyone win the raffle for Akumu? Winners h...</td>\n",
       "      <td>N</td>\n",
       "    </tr>\n",
       "    <tr>\n",
       "      <th>3</th>\n",
       "      <td>Good stuff! We should see some wild price acti...</td>\n",
       "      <td>N</td>\n",
       "    </tr>\n",
       "    <tr>\n",
       "      <th>4</th>\n",
       "      <td>Makes me happy I'm still holding my foxes and ...</td>\n",
       "      <td>N</td>\n",
       "    </tr>\n",
       "  </tbody>\n",
       "</table>\n",
       "</div>"
      ],
      "text/plain": [
       "                                                Text Spam?\n",
       "0  they got a privacy setting on there, you might...     N\n",
       "1  Not sure if anyone is still interested in step...     N\n",
       "2  did anyone win the raffle for Akumu? Winners h...     N\n",
       "3  Good stuff! We should see some wild price acti...     N\n",
       "4  Makes me happy I'm still holding my foxes and ...     N"
      ]
     },
     "execution_count": 4,
     "metadata": {},
     "output_type": "execute_result"
    }
   ],
   "source": [
    "df_crypto_ns.head()"
   ]
  },
  {
   "cell_type": "code",
   "execution_count": 5,
   "id": "0776fcd4-fcd6-4534-bd3b-d6d60f4ebb26",
   "metadata": {},
   "outputs": [
    {
     "data": {
      "text/plain": [
       "Text      0\n",
       "Spam?    20\n",
       "dtype: int64"
      ]
     },
     "execution_count": 5,
     "metadata": {},
     "output_type": "execute_result"
    }
   ],
   "source": [
    "df_crypto_ns.isnull().sum()"
   ]
  },
  {
   "cell_type": "code",
   "execution_count": 7,
   "id": "10fbb382-3166-44ab-a09a-acaac645c548",
   "metadata": {},
   "outputs": [],
   "source": [
    "df_crypto_ns['Spam?'] = df_crypto_ns['Spam?'].fillna('N') #handles the na"
   ]
  },
  {
   "cell_type": "code",
   "execution_count": 10,
   "id": "981c25a5-1997-4641-8c6d-95fab22e4548",
   "metadata": {},
   "outputs": [
    {
     "name": "stdout",
     "output_type": "stream",
     "text": [
      "<class 'pandas.core.frame.DataFrame'>\n",
      "RangeIndex: 78 entries, 0 to 77\n",
      "Data columns (total 2 columns):\n",
      " #   Column  Non-Null Count  Dtype \n",
      "---  ------  --------------  ----- \n",
      " 0   Text    78 non-null     object\n",
      " 1   Spam?   78 non-null     object\n",
      "dtypes: object(2)\n",
      "memory usage: 1.3+ KB\n"
     ]
    }
   ],
   "source": [
    "df_spam.info()"
   ]
  },
  {
   "cell_type": "code",
   "execution_count": 6,
   "id": "bc37e963-c2f2-4b9a-8ab6-98f2afb8274d",
   "metadata": {},
   "outputs": [
    {
     "data": {
      "text/html": [
       "<div>\n",
       "<style scoped>\n",
       "    .dataframe tbody tr th:only-of-type {\n",
       "        vertical-align: middle;\n",
       "    }\n",
       "\n",
       "    .dataframe tbody tr th {\n",
       "        vertical-align: top;\n",
       "    }\n",
       "\n",
       "    .dataframe thead th {\n",
       "        text-align: right;\n",
       "    }\n",
       "</style>\n",
       "<table border=\"1\" class=\"dataframe\">\n",
       "  <thead>\n",
       "    <tr style=\"text-align: right;\">\n",
       "      <th></th>\n",
       "      <th>Text</th>\n",
       "      <th>Spam?</th>\n",
       "    </tr>\n",
       "  </thead>\n",
       "  <tbody>\n",
       "    <tr>\n",
       "      <th>0</th>\n",
       "      <td>Hey! Are you a reseller? If you are chances ar...</td>\n",
       "      <td>Y</td>\n",
       "    </tr>\n",
       "    <tr>\n",
       "      <th>1</th>\n",
       "      <td>We can refund hundreds of different stores wit...</td>\n",
       "      <td>Y</td>\n",
       "    </tr>\n",
       "    <tr>\n",
       "      <th>2</th>\n",
       "      <td>Well lucky for you our service is here. . Now ...</td>\n",
       "      <td>Y</td>\n",
       "    </tr>\n",
       "    <tr>\n",
       "      <th>3</th>\n",
       "      <td>So no need to worry! Come join now!</td>\n",
       "      <td>Y</td>\n",
       "    </tr>\n",
       "    <tr>\n",
       "      <th>4</th>\n",
       "      <td>CoinGrowBit - Professional digital asset tradi...</td>\n",
       "      <td>Y</td>\n",
       "    </tr>\n",
       "  </tbody>\n",
       "</table>\n",
       "</div>"
      ],
      "text/plain": [
       "                                                Text Spam?\n",
       "0  Hey! Are you a reseller? If you are chances ar...     Y\n",
       "1  We can refund hundreds of different stores wit...     Y\n",
       "2  Well lucky for you our service is here. . Now ...     Y\n",
       "3                So no need to worry! Come join now!     Y\n",
       "4  CoinGrowBit - Professional digital asset tradi...     Y"
      ]
     },
     "execution_count": 6,
     "metadata": {},
     "output_type": "execute_result"
    }
   ],
   "source": [
    "df_spam.head()"
   ]
  },
  {
   "cell_type": "code",
   "execution_count": 8,
   "id": "31436dfe-8774-49df-bd3f-ba92bd133c15",
   "metadata": {},
   "outputs": [
    {
     "data": {
      "text/plain": [
       "Text     0\n",
       "Spam?    0\n",
       "dtype: int64"
      ]
     },
     "execution_count": 8,
     "metadata": {},
     "output_type": "execute_result"
    }
   ],
   "source": [
    "df_spam.isnull().sum()"
   ]
  },
  {
   "cell_type": "markdown",
   "id": "1afebaf5-2bb8-43f2-9fb5-f78c75cfbdcb",
   "metadata": {},
   "source": [
    "---"
   ]
  },
  {
   "cell_type": "code",
   "execution_count": null,
   "id": "f93808ea-18fa-41d8-8ce3-e9066a0420db",
   "metadata": {},
   "outputs": [],
   "source": []
  }
 ],
 "metadata": {
  "kernelspec": {
   "display_name": "Python 3 (ipykernel)",
   "language": "python",
   "name": "python3"
  },
  "language_info": {
   "codemirror_mode": {
    "name": "ipython",
    "version": 3
   },
   "file_extension": ".py",
   "mimetype": "text/x-python",
   "name": "python",
   "nbconvert_exporter": "python",
   "pygments_lexer": "ipython3",
   "version": "3.9.7"
  }
 },
 "nbformat": 4,
 "nbformat_minor": 5
}
